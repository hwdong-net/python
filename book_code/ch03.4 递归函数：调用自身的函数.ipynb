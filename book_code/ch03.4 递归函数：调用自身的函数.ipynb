{
 "cells": [
  {
   "cell_type": "markdown",
   "metadata": {},
   "source": [
    "如果一个函数在其内部存在调用该函数自身的语句，就称之为**递归函数** 。如计算:\n",
    "\n",
    "#### n的阶乘\n",
    "```\n",
    " n!=n*(n−1)!\n",
    "``` "
   ]
  },
  {
   "cell_type": "code",
   "execution_count": 1,
   "metadata": {},
   "outputs": [
    {
     "data": {
      "text/plain": [
       "24"
      ]
     },
     "execution_count": 1,
     "metadata": {},
     "output_type": "execute_result"
    }
   ],
   "source": [
    "def fact(n):\n",
    "    if n==1:             #如果n等于1，就直接返回值1\n",
    "        return 1\n",
    "    return n * fact(n - 1)  #如果n大于1，就是n和fact(n-1)的乘积\n",
    "fact(4)             # 输出： 24"
   ]
  },
  {
   "cell_type": "markdown",
   "metadata": {},
   "source": [
    "```\n",
    "===> fact(4)\n",
    "===> 4 * fact(3)\n",
    "===> 4 * (3 * fact(2))\n",
    "===> 4 * (3 * (2 * fact(1)))\n",
    "===> 4 * (3 * (2 * 1 ))\n",
    "===> 4 * (3 * 2)\n",
    "===> 4 * 6\n",
    "===> 24\n",
    "```"
   ]
  },
  {
   "cell_type": "markdown",
   "metadata": {},
   "source": [
    "#### 2.\t斐波那契数列\n",
    "\n",
    "f(0)=1,f(1)=1,当n>=2时，f(n)=f(n-1)+f(n-2)"
   ]
  },
  {
   "cell_type": "code",
   "execution_count": 3,
   "metadata": {},
   "outputs": [],
   "source": [
    "def fib(n):\n",
    "    if n<=2 :\n",
    "        return 1\n",
    "    else:\n",
    "        return fib(n-1)+fib(n-2)"
   ]
  },
  {
   "cell_type": "markdown",
   "metadata": {},
   "source": [
    "调用上述函数计算0到7之间每个整数的阶乘："
   ]
  },
  {
   "cell_type": "code",
   "execution_count": 5,
   "metadata": {},
   "outputs": [
    {
     "name": "stdout",
     "output_type": "stream",
     "text": [
      "1,1,1,2,3,5,8,13,"
     ]
    }
   ],
   "source": [
    "for i in range(8):    \n",
    "    print(fib(i),end = ',')"
   ]
  },
  {
   "cell_type": "markdown",
   "metadata": {},
   "source": [
    "#### 3.\t最大公约数"
   ]
  },
  {
   "cell_type": "code",
   "execution_count": 6,
   "metadata": {},
   "outputs": [],
   "source": [
    "def gcd(m,n):\n",
    "    if n==0 :\n",
    "        return m\n",
    "    else:\n",
    "        return gcd(n,m%n)"
   ]
  },
  {
   "cell_type": "code",
   "execution_count": 7,
   "metadata": {},
   "outputs": [
    {
     "name": "stdout",
     "output_type": "stream",
     "text": [
      "9\n",
      "12\n"
     ]
    }
   ],
   "source": [
    "print(gcd(72,27))\n",
    "print(gcd(24,36))"
   ]
  },
  {
   "cell_type": "markdown",
   "metadata": {},
   "source": [
    "### 3.4.2 实战：二分查找的递归实现"
   ]
  },
  {
   "cell_type": "code",
   "execution_count": 8,
   "metadata": {},
   "outputs": [],
   "source": [
    "def binarySearch(alist, value):\n",
    "    if len(alist) == 0:                                 #  0）空序列\n",
    "        return -1\n",
    "    else:\n",
    "        Middle = len(alist)//2\n",
    "        if alist[Middle]==value:                       #  1）中间元素直接比较\n",
    "            return Middle\n",
    "        else:\n",
    "            if value<alist[Middle]:\n",
    "                return binarySearch(alist[:Middle],value)    # 2) 左区间查找\n",
    "            else:\n",
    "                return binarySearch(alist[Middle+1:],value)  # 3) 左区间查找"
   ]
  },
  {
   "cell_type": "code",
   "execution_count": 9,
   "metadata": {},
   "outputs": [
    {
     "name": "stdout",
     "output_type": "stream",
     "text": [
      "3\n",
      "-1\n"
     ]
    }
   ],
   "source": [
    "testlist = [5,7,12,25,34,37,43,46,58,80,82,105]\n",
    "print(binarySearch(testlist, 25))\n",
    "print(binarySearch(testlist, 13))"
   ]
  },
  {
   "cell_type": "markdown",
   "metadata": {},
   "source": [
    "#### 3.4.3实战：汉诺塔问题"
   ]
  },
  {
   "cell_type": "code",
   "execution_count": 11,
   "metadata": {},
   "outputs": [],
   "source": [
    "# 一个盘子：直接移动\n",
    "def moveDisk(i,x,y):\n",
    "    print(\"moving disk\",i,\" from\",x,\"to\",y)\n",
    "\n",
    "# 盘数, 起始柱, 中转柱, 目标柱\n",
    "def move(n, a, b, c):  \n",
    "    if n>= 1:    \n",
    "        move(n-1, a, c , b)  # n-1个盘子从A柱借助于C柱移到B柱  \n",
    "        moveDisk(n,a,c)   #第n号盘子直接从A柱移到C柱\n",
    "        move(n-1, b, a, c)   # n-1个盘子从B柱借助于A柱移到C柱 "
   ]
  },
  {
   "cell_type": "code",
   "execution_count": 12,
   "metadata": {},
   "outputs": [
    {
     "name": "stdout",
     "output_type": "stream",
     "text": [
      "moving disk 1  from A to C\n",
      "moving disk 2  from A to B\n",
      "moving disk 1  from C to B\n",
      "moving disk 3  from A to C\n",
      "moving disk 1  from B to A\n",
      "moving disk 2  from B to C\n",
      "moving disk 1  from A to C\n"
     ]
    }
   ],
   "source": [
    "move (3,'A','B','C')       "
   ]
  },
  {
   "cell_type": "markdown",
   "metadata": {},
   "source": [
    "#### 3.4.4 实战：快速排序算法"
   ]
  },
  {
   "cell_type": "code",
   "execution_count": 13,
   "metadata": {},
   "outputs": [],
   "source": [
    "# 对[start,end]区间的元素进行快速排序\n",
    "def qsort(arr, start ,end):\n",
    "    if start<end:\n",
    "        pivot = partition(arr,start,end)  #将[start,end]之间的序列一次划分为2部分，\n",
    "                                  #  pivot是基准的位置\n",
    "        qsort(arr,start,pivot-1)    #对[start,pivot-1]之间的序列调用qsort快速过程，\n",
    "        qsort(arr,pivot+1,end)     #对[pivot+1,end]之间的序列调用qsort快速过程，        "
   ]
  },
  {
   "cell_type": "code",
   "execution_count": 15,
   "metadata": {},
   "outputs": [],
   "source": [
    "#函数partition()代码如下：\n",
    "def partition(alist,start,end):\n",
    "   pivotvalue = alist[start]   #假设选择start的元素为基准元素，暂存到pivotvalue中\n",
    "   L = start+1              #左指示器指向区间左边\n",
    "   R = end                 #右指示器指向区间右边\n",
    "\n",
    "   done = False\n",
    "   while not done:\n",
    "       while L <= R and alist[L] <= pivotvalue: \n",
    "           L = L + 1\n",
    "\n",
    "       while alist[R] >= pivotvalue and R >= L:\n",
    "           R = R -1\n",
    "\n",
    "       if R < L:\n",
    "           done = True\n",
    "       else:\n",
    "           alist[L],alist[R] = alist[R],alist[L]\n",
    "           #temp = alist[L]\n",
    "           #alist[L] = alist[R]\n",
    "           #alist[R] = temp\n",
    "# L、R相遇的位置R就是基准元素的目标位置\n",
    "   alist[R],alist[start] = alist[start],alist[R] #交换基准元素和R位置的元素\n",
    "   return R         #返回基准元素的位置"
   ]
  },
  {
   "cell_type": "markdown",
   "metadata": {},
   "source": [
    "调用对一个区间的快速排序递归函数qsort，可对一个序列进行快速排序："
   ]
  },
  {
   "cell_type": "code",
   "execution_count": 16,
   "metadata": {},
   "outputs": [
    {
     "name": "stdout",
     "output_type": "stream",
     "text": [
      "[13, 27, 27, 38, 49, 49, 76, 97]\n"
     ]
    }
   ],
   "source": [
    "def quickSort(alist):\n",
    "    qsort(alist,0,len(alist)-1)  #调用qsort递归函数对[0,len-1]区间进行快速排序\n",
    "    \n",
    "alist = [49,38,27,97,76,13,27,49]\n",
    "quickSort(alist)\n",
    "print(alist)\n"
   ]
  },
  {
   "cell_type": "markdown",
   "metadata": {},
   "source": [
    "如果不追求效率，还可以采用一种取巧的简单方法：就是遍历这个数组列表，将其中小于基准元素的放入一个新的列表，而大于等于基准元素的则放入另外一个新的列表，然后将对这2个新列表的快速排序的结果合并起来："
   ]
  },
  {
   "cell_type": "code",
   "execution_count": 17,
   "metadata": {},
   "outputs": [
    {
     "name": "stdout",
     "output_type": "stream",
     "text": [
      "[13, 27, 27, 38, 49, 49, 76, 97]\n"
     ]
    }
   ],
   "source": [
    "def quicksort(arr):\n",
    "    if len(arr) <= 1:                   # 如果 输入序列长度小于等于1，直接返回\n",
    "        return arr\n",
    "    pivot = arr[len(arr) // 2]            # 任意选择一个如中间元素作为基准元素，\n",
    "                                   # 将原序列一分为二\n",
    "    left = [x for x in arr if x < pivot]       #  left是小于基准元素组成的子序列\n",
    "    middle = [x for x in arr if x == pivot]   #  middle是等于基准元素组成的子序列\n",
    "    right = [x for x in arr if x > pivot]      #  right是大于基准元素组成的子序列\n",
    "    return quicksort(left) + middle + quicksort(right)  ##对left、right重复上述过程\n",
    "\n",
    "print(quicksort([49,38,27,97,76,13,27,49]))"
   ]
  },
  {
   "cell_type": "markdown",
   "metadata": {},
   "source": [
    "#### 3.4.5 实战：迷宫问题\n",
    "\n",
    "![](imgs/maze.png)\n",
    "\n",
    "迷宫可以用二维数组来存储表示。0表示通路，1表示障碍，2表示终点。坐标以行和列表示，均从0开始，给定起点（0,0）和终点（5,5），迷宫表示如下："
   ]
  },
  {
   "cell_type": "code",
   "execution_count": 18,
   "metadata": {},
   "outputs": [],
   "source": [
    "maze = [[0, 0, 0, 0, 0, 1],\n",
    "        [1, 1, 0, 0, 0, 1],\n",
    "        [0, 0, 0, 1, 0, 0],\n",
    "        [0, 1, 1, 0, 0, 1],\n",
    "        [0, 1, 0, 0, 1, 0],\n",
    "        [0, 1, 0, 0, 0, 2]]\n"
   ]
  },
  {
   "cell_type": "markdown",
   "metadata": {},
   "source": [
    "对于一个当前位置，判断该位置是否终点（2）、墙（1）、已经走过（3）? 如果不是上述情况，说明该位置可通但未走过（0）。可从该位置走向其4邻（上、下、左、右4个位置）。对于每个邻接点，重复这个过程。"
   ]
  },
  {
   "cell_type": "code",
   "execution_count": 19,
   "metadata": {},
   "outputs": [
    {
     "name": "stdout",
     "output_type": "stream",
     "text": [
      "访问 0,0\n",
      "访问 0,1\n",
      "访问 0,2\n",
      "访问 1,2\n",
      "访问 2,2\n",
      "访问 2,1\n",
      "访问 2,0\n",
      "访问 3,0\n",
      "访问 4,0\n",
      "访问 5,0\n",
      "访问 1,3\n",
      "访问 0,3\n",
      "访问 0,4\n",
      "访问 1,4\n",
      "访问 2,4\n",
      "访问 3,4\n",
      "访问 3,3\n",
      "访问 4,3\n",
      "访问 5,3\n",
      "访问 5,2\n",
      "访问 4,2\n",
      "访问 5,4\n",
      "到达终点： 5 , 5\n",
      "[3, 3, 3, 3, 3, 1]\n",
      "[1, 1, 3, 3, 3, 1]\n",
      "[4, 4, 4, 1, 3, 0]\n",
      "[4, 1, 1, 3, 3, 1]\n",
      "[4, 1, 4, 3, 1, 0]\n",
      "[4, 1, 4, 3, 3, 2]\n"
     ]
    }
   ],
   "source": [
    "def go_maze(x, y):    \n",
    "    #该位置是否终点（2）、墙（1）、已经走过（3）\n",
    "    if maze[x][y] == 2:\n",
    "        print('到达终点：',x,\",\", y)\n",
    "        return True\n",
    "    elif maze[x][y] == 1:\n",
    "        #print('墙：',x,\",\", y)        \n",
    "        return False\n",
    "    elif maze[x][y] >= 3:\n",
    "        #print('已经访问过：',x,\",\", y)\n",
    "        return False\n",
    "    \n",
    "    #从该位置向4邻探索\n",
    "    print('访问 %d,%d' % (x, y))    \n",
    "    maze[x][y] = 3          # 标记该位置已经访问过\n",
    "    \n",
    "    # 向4邻探索\n",
    "    if ((x < len(maze)-1 and go_maze(x+1, y))\n",
    "        or (y > 0 and go_maze(x, y-1))\n",
    "        or (x > 0 and go_maze(x-1, y))\n",
    "        or (y < len(maze)-1 and go_maze(x, y+1))):\n",
    "       \n",
    "        return True \n",
    "    \n",
    "    maze[x][y] = 4     #此路也不通\n",
    "    return False\n",
    "\n",
    "go_maze(0, 0)\n",
    "print(*maze,sep = '\\n')\n"
   ]
  },
  {
   "cell_type": "code",
   "execution_count": null,
   "metadata": {},
   "outputs": [],
   "source": []
  }
 ],
 "metadata": {
  "kernelspec": {
   "display_name": "Python 3",
   "language": "python",
   "name": "python3"
  },
  "language_info": {
   "codemirror_mode": {
    "name": "ipython",
    "version": 3
   },
   "file_extension": ".py",
   "mimetype": "text/x-python",
   "name": "python",
   "nbconvert_exporter": "python",
   "pygments_lexer": "ipython3",
   "version": "3.7.4"
  }
 },
 "nbformat": 4,
 "nbformat_minor": 2
}
