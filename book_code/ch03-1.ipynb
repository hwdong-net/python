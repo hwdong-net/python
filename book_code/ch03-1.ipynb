{
 "cells": [
  {
   "cell_type": "markdown",
   "metadata": {},
   "source": [
    "## 3.1  定义函数、调用函数、参数传递\n",
    "\n",
    "### 3.1.1 定义函数和调用函数"
   ]
  },
  {
   "cell_type": "code",
   "execution_count": 1,
   "metadata": {},
   "outputs": [],
   "source": [
    "#关键字def定义函数（即给一个程序块起一个名字）\n",
    "# 下面代码定义了一个叫做hello的函数\n",
    "def hello():\n",
    "    print(\"hello,\")  \n",
    "    print(\"world\")"
   ]
  },
  {
   "cell_type": "markdown",
   "metadata": {},
   "source": [
    "可以通过函数名hello调用这个函数,下面代码调用了2次hello()函数:"
   ]
  },
  {
   "cell_type": "code",
   "execution_count": 2,
   "metadata": {},
   "outputs": [
    {
     "name": "stdout",
     "output_type": "stream",
     "text": [
      "hello,\n",
      "world\n",
      "hello,\n",
      "world\n"
     ]
    }
   ],
   "source": [
    "hello()\n",
    "hello()"
   ]
  },
  {
   "cell_type": "markdown",
   "metadata": {},
   "source": [
    "hello函数包含一个叫做name的参数"
   ]
  },
  {
   "cell_type": "code",
   "execution_count": 3,
   "metadata": {},
   "outputs": [],
   "source": [
    "def hello(name):\n",
    "    print(\"hello,\")  \n",
    "    print(name) "
   ]
  },
  {
   "cell_type": "code",
   "execution_count": 4,
   "metadata": {},
   "outputs": [
    {
     "name": "stdout",
     "output_type": "stream",
     "text": [
      "hello,\n",
      "Li Ping\n",
      "hello,\n",
      "Zhang Wei\n"
     ]
    }
   ],
   "source": [
    "hello(\"Li Ping\")\n",
    "hello(\"Zhang Wei\")"
   ]
  },
  {
   "cell_type": "code",
   "execution_count": 5,
   "metadata": {},
   "outputs": [
    {
     "name": "stdout",
     "output_type": "stream",
     "text": [
      "请输入一个人名:张伟\n",
      "hello,\n",
      "张伟\n"
     ]
    }
   ],
   "source": [
    "s=input(\"请输入一个人名:\")\n",
    "hello(s)"
   ]
  },
  {
   "cell_type": "markdown",
   "metadata": {},
   "source": [
    "如果调用hello函数时没有提供参数"
   ]
  },
  {
   "cell_type": "code",
   "execution_count": 6,
   "metadata": {},
   "outputs": [
    {
     "ename": "TypeError",
     "evalue": "hello() missing 1 required positional argument: 'name'",
     "output_type": "error",
     "traceback": [
      "\u001b[1;31m---------------------------------------------------------------------------\u001b[0m",
      "\u001b[1;31mTypeError\u001b[0m                                 Traceback (most recent call last)",
      "\u001b[1;32m<ipython-input-6-a75d7781aaeb>\u001b[0m in \u001b[0;36m<module>\u001b[1;34m\u001b[0m\n\u001b[1;32m----> 1\u001b[1;33m \u001b[0mhello\u001b[0m\u001b[1;33m(\u001b[0m\u001b[1;33m)\u001b[0m\u001b[1;33m\u001b[0m\u001b[1;33m\u001b[0m\u001b[0m\n\u001b[0m",
      "\u001b[1;31mTypeError\u001b[0m: hello() missing 1 required positional argument: 'name'"
     ]
    }
   ],
   "source": [
    "hello()"
   ]
  },
  {
   "cell_type": "code",
   "execution_count": 7,
   "metadata": {},
   "outputs": [
    {
     "ename": "TypeError",
     "evalue": "hello() takes 1 positional argument but 2 were given",
     "output_type": "error",
     "traceback": [
      "\u001b[1;31m---------------------------------------------------------------------------\u001b[0m",
      "\u001b[1;31mTypeError\u001b[0m                                 Traceback (most recent call last)",
      "\u001b[1;32m<ipython-input-7-9dbf3f5b112c>\u001b[0m in \u001b[0;36m<module>\u001b[1;34m\u001b[0m\n\u001b[0;32m      1\u001b[0m \u001b[1;31m#如果调用hello()函数提供了2个以上的参数,同样会报错，如\u001b[0m\u001b[1;33m\u001b[0m\u001b[1;33m\u001b[0m\u001b[1;33m\u001b[0m\u001b[0m\n\u001b[1;32m----> 2\u001b[1;33m \u001b[0mhello\u001b[0m\u001b[1;33m(\u001b[0m\u001b[1;34m'hello'\u001b[0m\u001b[1;33m,\u001b[0m\u001b[1;34m'world'\u001b[0m\u001b[1;33m)\u001b[0m\u001b[1;33m\u001b[0m\u001b[1;33m\u001b[0m\u001b[0m\n\u001b[0m",
      "\u001b[1;31mTypeError\u001b[0m: hello() takes 1 positional argument but 2 were given"
     ]
    }
   ],
   "source": [
    "#如果调用hello()函数提供了2个以上的参数,同样会报错，如\n",
    "hello('hello','world')"
   ]
  },
  {
   "cell_type": "code",
   "execution_count": 8,
   "metadata": {},
   "outputs": [],
   "source": [
    "#一个函数当然可以包含多个以逗号隔开的参数：\n",
    "def hello(name, age):\n",
    "    print(\"hello,\")  \n",
    "    print(name)\n",
    "    print(\"你的年龄是\",age)"
   ]
  },
  {
   "cell_type": "code",
   "execution_count": 9,
   "metadata": {},
   "outputs": [
    {
     "name": "stdout",
     "output_type": "stream",
     "text": [
      "请输入一个人名:李平\n",
      "请输入年龄:35\n",
      "hello,\n",
      "李平\n",
      "你的年龄是 35\n"
     ]
    }
   ],
   "source": [
    "#那么调用时，就应该提供2个参数：\n",
    "s=input(\"请输入一个人名:\")\n",
    "age = int(input(\"请输入年龄:\"))\n",
    "hello(s,age)"
   ]
  },
  {
   "cell_type": "markdown",
   "metadata": {},
   "source": [
    "### 3.1.2 参数传递\n",
    "\n",
    "就是给形式参数变量赋值，和普通的变量赋值没有任何区别"
   ]
  },
  {
   "cell_type": "code",
   "execution_count": 10,
   "metadata": {},
   "outputs": [
    {
     "name": "stdout",
     "output_type": "stream",
     "text": [
      "a的id: 140721392820656\n",
      "x的id: 140721392820656\n",
      "x的id: 140721392820752\n",
      "x的值： 5\n",
      "a的值： 2\n",
      "a的id: 140721392820656\n"
     ]
    }
   ],
   "source": [
    "# x+=3相当于x = x+3，即左边的x引用的是新的对象x+3\n",
    "def fun(x):\n",
    "    print(\"x的id:\",id(x))\n",
    "    x+=3\n",
    "    print(\"x的id:\",id(x))\n",
    "    print(\"x的值：\",x)\n",
    "\n",
    "a = 2\n",
    "print(\"a的id:\",id(a))\n",
    "fun(a)\n",
    "print(\"a的值：\",a)\n",
    "print(\"a的id:\",id(a))"
   ]
  },
  {
   "cell_type": "code",
   "execution_count": 11,
   "metadata": {},
   "outputs": [
    {
     "name": "stdout",
     "output_type": "stream",
     "text": [
      "a的id: 2638031892744\n",
      "x的id: 2638031892744\n",
      "x的id: 2638031892744\n",
      "x的值： [3.14, 3]\n",
      "a的值： [3.14, 3]\n",
      "a的id: 2638031892744\n"
     ]
    }
   ],
   "source": [
    "#函数fun_2里，只修改了x指向的可变对象，而没有修改x本身（即没有给x赋值），因此，x始终指向的都是实参a指向的对象。\n",
    "def fun_2(x):\n",
    "    print(\"x的id:\",id(x))\n",
    "    x[0] = 3.14\n",
    "    print(\"x的id:\",id(x))\n",
    "    print(\"x的值：\",x)\n",
    "\n",
    "a = [2,3]\n",
    "print(\"a的id:\",id(a))\n",
    "fun_2(a)\n",
    "print(\"a的值：\",a)\n",
    "print(\"a的id:\",id(a))"
   ]
  },
  {
   "cell_type": "markdown",
   "metadata": {},
   "source": [
    "### 3.1.3 return 语句\n",
    "\n",
    "return结束函数的执行并可返回函数的处理结果"
   ]
  },
  {
   "cell_type": "code",
   "execution_count": 12,
   "metadata": {},
   "outputs": [],
   "source": [
    "#计算m,n之间整数之和\n",
    "def sum(m,n):\n",
    "    if m>n:              #保证m不大于n\n",
    "        m,n = n,m        # 交换m,n\n",
    "    sum = 0\n",
    "    i=m\n",
    "    while i<=n:\n",
    "        sum += i\n",
    "        i += 1\n",
    "    return sum"
   ]
  },
  {
   "cell_type": "code",
   "execution_count": 13,
   "metadata": {},
   "outputs": [
    {
     "name": "stdout",
     "output_type": "stream",
     "text": [
      "52\n"
     ]
    }
   ],
   "source": [
    "ret = sum(3,10)    #将sum(3,10)函数的返回结果 赋值给ret变量\n",
    "print(ret)"
   ]
  },
  {
   "cell_type": "markdown",
   "metadata": {},
   "source": [
    "#### 1.\t最大公约数\n",
    "\n",
    "两个正整数的最大公约数就是能被两者整除的最大正整数\n",
    "给定2个正整数m和n，假设用符号GCD(m,n)表示两者的最大公约数，它们的最大公约数可以用下列式子来计算：\n",
    "\n",
    "```\n",
    "GCD(72,27) = GCD(27,72%27) = GCD(27,18)\n",
    "           = GCD(18,27&18) = GCD(18,9)\n",
    "           = GCD(9,0) = 9\n",
    "```"
   ]
  },
  {
   "cell_type": "code",
   "execution_count": 15,
   "metadata": {},
   "outputs": [],
   "source": [
    "def GCD(m,n):\n",
    "    while n!=0:\n",
    "        m, n = n, m%n\n",
    "    return m "
   ]
  },
  {
   "cell_type": "code",
   "execution_count": 16,
   "metadata": {},
   "outputs": [
    {
     "name": "stdout",
     "output_type": "stream",
     "text": [
      "gcd(72,27):= 9\n",
      "gcd(24,36):= 12\n"
     ]
    }
   ],
   "source": [
    "m=72 \n",
    "n=27\n",
    "\n",
    "gcd = GCD(m,n)\n",
    "print('gcd(72,27):=',gcd)\n",
    "\n",
    "m = 24\n",
    "n = 36\n",
    "gcd = GCD(m,n)\n",
    "print('gcd(24,36):=',gcd)"
   ]
  },
  {
   "cell_type": "markdown",
   "metadata": {},
   "source": [
    "#### 2. 函数可返回多个值\n",
    "\n",
    "return不但可以返回一个值，还可以同时返回多个值，这多个值将会被包裹在一个tuple对象返回。"
   ]
  },
  {
   "cell_type": "code",
   "execution_count": 17,
   "metadata": {},
   "outputs": [],
   "source": [
    "#下面的函数可以返回一个list对象中所有数的最大值和最小值。 \n",
    "def min_max(arr):\n",
    "    m= arr[0]\n",
    "    M= arr[0]\n",
    "    for e in arr:\n",
    "      if e<m:\n",
    "         m = e\n",
    "      if e>M:\n",
    "        M = e\n",
    "    return m,M;   "
   ]
  },
  {
   "cell_type": "code",
   "execution_count": null,
   "metadata": {},
   "outputs": [],
   "source": [
    "ret = min_max([36,2,19,76,91,47])  #ret引用返回的tuple对象\n",
    "print(ret)        \n",
    "print(ret[0])\n",
    "print(ret[1])"
   ]
  },
  {
   "cell_type": "markdown",
   "metadata": {},
   "source": [
    "### 3.1.4 文档字符串(Docstring)\n",
    "\n",
    "定义函数时，可以在函数头和代码之间添加一个三个引号（三个单引号或三个双引号）括起来的文档字符串(Docstring) ，用于说明这个函数的功能。Docstring会作为函数对象的一个属性__doc__被使用，比如可以通过print函数输出这个属性："
   ]
  },
  {
   "cell_type": "code",
   "execution_count": 21,
   "metadata": {},
   "outputs": [],
   "source": [
    "def hi():\n",
    "    '''\n",
    "    hi,\n",
    "    这是一个doc string的例子\n",
    "    '''\n",
    "    print(\"hi,world\")  "
   ]
  },
  {
   "cell_type": "code",
   "execution_count": 22,
   "metadata": {},
   "outputs": [
    {
     "name": "stdout",
     "output_type": "stream",
     "text": [
      "hi,world\n"
     ]
    }
   ],
   "source": [
    "hi()    #调用hi函数"
   ]
  },
  {
   "cell_type": "code",
   "execution_count": 23,
   "metadata": {},
   "outputs": [
    {
     "name": "stdout",
     "output_type": "stream",
     "text": [
      "Help on function hi in module __main__:\n",
      "\n",
      "hi()\n",
      "    hi,\n",
      "    这是一个doc string的例子\n",
      "\n"
     ]
    }
   ],
   "source": [
    "help(hi)"
   ]
  },
  {
   "cell_type": "code",
   "execution_count": null,
   "metadata": {},
   "outputs": [],
   "source": []
  },
  {
   "cell_type": "code",
   "execution_count": null,
   "metadata": {},
   "outputs": [],
   "source": []
  }
 ],
 "metadata": {
  "kernelspec": {
   "display_name": "Python 3",
   "language": "python",
   "name": "python3"
  },
  "language_info": {
   "codemirror_mode": {
    "name": "ipython",
    "version": 3
   },
   "file_extension": ".py",
   "mimetype": "text/x-python",
   "name": "python",
   "nbconvert_exporter": "python",
   "pygments_lexer": "ipython3",
   "version": "3.7.4"
  }
 },
 "nbformat": 4,
 "nbformat_minor": 2
}
