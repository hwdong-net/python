{
 "cells": [
  {
   "cell_type": "markdown",
   "metadata": {},
   "source": [
    "### 默认形参\n",
    "函数的形参可以有默认值，称为“默认形参”，调用函数时如果没有给默认形参提供实际参数，则该形参就取默认值。"
   ]
  },
  {
   "cell_type": "code",
   "execution_count": 26,
   "metadata": {},
   "outputs": [
    {
     "name": "stdout",
     "output_type": "stream",
     "text": [
      "2018 01 01\n",
      "2018 07 01\n",
      "2018 07 25\n"
     ]
    }
   ],
   "source": [
    "def date(year, month='01',day = '01'):\n",
    "   print(year,month,day)\n",
    "\n",
    "date(2018)\n",
    "date(2018,'07')\n",
    "date(2018,'07','25')"
   ]
  },
  {
   "cell_type": "code",
   "execution_count": 27,
   "metadata": {},
   "outputs": [
    {
     "ename": "SyntaxError",
     "evalue": "non-default argument follows default argument (<ipython-input-27-b55cb21649b0>, line 2)",
     "output_type": "error",
     "traceback": [
      "\u001b[1;36m  File \u001b[1;32m\"<ipython-input-27-b55cb21649b0>\"\u001b[1;36m, line \u001b[1;32m2\u001b[0m\n\u001b[1;33m    def f(a,b= 2,c):\u001b[0m\n\u001b[1;37m         ^\u001b[0m\n\u001b[1;31mSyntaxError\u001b[0m\u001b[1;31m:\u001b[0m non-default argument follows default argument\n"
     ]
    }
   ],
   "source": [
    "# 默认形参必须都在非默认形参的后面，默认形参后面不能再有非默认形参。\n",
    "def f(a,b= 2,c):\n",
    "    pass"
   ]
  },
  {
   "cell_type": "code",
   "execution_count": null,
   "metadata": {},
   "outputs": [],
   "source": [
    "# 默认形参的默认值是函数定义时就计算好的，比如：\n",
    "i = 5\n",
    "def f(arg=i):   #默认参数arg的默认值是5\n",
    "    print(arg)\n",
    "\n",
    "i = 6\n",
    "f()           # arg的默认值是5， 将输出: 5"
   ]
  },
  {
   "cell_type": "code",
   "execution_count": null,
   "metadata": {},
   "outputs": [],
   "source": [
    "# 当默认形参的默认值是一个可变对象时，\n",
    "# 每次函数调用中，如果对这个默认形参引用的这个对象修改，修改的将都是同一个对象。\n",
    "def f(var, arr=[]):    # arr引用的是一个空的list对象\n",
    "    arr.append(var)    # 向arr引用的list对象追加一个值\n",
    "    return arr\n",
    "\n",
    "print(f(1))            #将1添加到arr引用的默认list对象里\n",
    "print(f(2))            #将2添加到arr引用的默认list对象里"
   ]
  },
  {
   "cell_type": "code",
   "execution_count": null,
   "metadata": {},
   "outputs": [],
   "source": [
    "#如果不希望每次函数调用时总是修改默认形参指向的同一个可变对象，可以采用下面的技巧\n",
    "def f(var, arr=None):\n",
    "    if arr==None:   #如果arr是默认的None对象，则使变量引用一个新的对象[]\n",
    "        arr=[]\n",
    "    arr.append(var)\n",
    "    return arr\n",
    "\n",
    "print(f(1))       \n",
    "print(f(2))"
   ]
  },
  {
   "cell_type": "code",
   "execution_count": null,
   "metadata": {},
   "outputs": [],
   "source": [
    "#或者干脆去掉这个默认形参：\n",
    "def f(var):\n",
    "    arr = []\n",
    "    arr.append(var)\n",
    "    return arr\n",
    "\n",
    "print(f(1))\n",
    "print(f(2))"
   ]
  },
  {
   "cell_type": "markdown",
   "metadata": {},
   "source": [
    "### 位置实参和关键字实参\n",
    "\n",
    "函数定义中的形参是有次序的，调用函数时传递的实参是按照次序给对应位置的形参赋值的。这种按照位置次序传递的实参称为“**位置实参**”。"
   ]
  },
  {
   "cell_type": "code",
   "execution_count": null,
   "metadata": {},
   "outputs": [],
   "source": [
    "def hello(name, msg = \"Good morning!\"):   \n",
    "   print(\"哈罗！\",name + ', ' + msg)\n",
    "\n",
    "#调用函数：传递位置参数\n",
    "hello(\"小白\")                 #“小白”作为第1个位置实参传递给形参name，形参msg有默认值\n",
    "hello(\"老张\",\"你好吗?\")        #“老张”作为第1个位置实参传递给形参name，\n",
    "                            #“你好吗?”作为第2个位置实参传递给形参msg，"
   ]
  },
  {
   "cell_type": "markdown",
   "metadata": {},
   "source": [
    "另外还有一种称之为“**关键字实参**”的参数传递方式，就是传递实参时指明这个实参是传递给哪个形参的。其格式是：\n",
    "``` \n",
    " 形参名=实参\n",
    "```"
   ]
  },
  {
   "cell_type": "code",
   "execution_count": null,
   "metadata": {},
   "outputs": [],
   "source": [
    "hello(name = \"老张\",msg = \"你好吗?\")   #形参名name=实参“老张”，形参名msg=实参“你好吗”\n",
    "hello(msg = \"你好吗?\",name = \"老张\")   #形参名msg=实参“你好吗”，形参名name=实参“老张”"
   ]
  },
  {
   "cell_type": "code",
   "execution_count": null,
   "metadata": {},
   "outputs": [],
   "source": [
    "# 当然，函数调用时的参数传递即可以用位置实参也可以用关键字实参，例如：\n",
    "# 1个位置参数，1个关键字参数\n",
    "hello(\"李平\",msg = \"你好吗?\")"
   ]
  },
  {
   "cell_type": "markdown",
   "metadata": {},
   "source": [
    "### 任意形参（可变形参）\n",
    "\n",
    "形参名前有一个星号```*```的形参称为“**任意形参**”或\"**可变形参**\"。函数调用时，可以将任何多个实参传递给这个可变形参，传递给这个可变形参的多个实参被组装成一个tuple对象并传递给这个可变形参。"
   ]
  },
  {
   "cell_type": "code",
   "execution_count": null,
   "metadata": {},
   "outputs": [],
   "source": [
    "def hello(*names):    #可变形参names可以接受任意多的实参\n",
    "  print(\"哈罗:\")\n",
    "  for name in names:  #对可变形参names元组(tuple)的每个元素name\n",
    "     print(name,end=' ')\n",
    "  print();\n",
    "\n",
    "hello()                               #给可变形参names可以不传递任何实参 \n",
    "hello(\"小白\",\"老张\")                  #给可变形参names可传递2个实参\n",
    "hello(\"小白\",\"老张\",\"老王\")           #给可变形参names可传递3个实参\n",
    "hello(\"小白\",\"老张\",\"老王\",\"李平\")    #给可变形参names可传递4个实参"
   ]
  },
  {
   "cell_type": "code",
   "execution_count": 28,
   "metadata": {},
   "outputs": [
    {
     "name": "stdout",
     "output_type": "stream",
     "text": [
      "2018/07/25\n"
     ]
    },
    {
     "data": {
      "text/plain": [
       "'2018.07.25'"
      ]
     },
     "execution_count": 28,
     "metadata": {},
     "output_type": "execute_result"
    }
   ],
   "source": [
    "#函数的形参中既有“默认形参”又有“可变形参”，则“默认形参”必须位于可变形参的后面\n",
    "def date(*args, sep=\"/\"):\n",
    "   return sep.join(args)\n",
    "\n",
    "print(date(\"2018\", \"07\", \"25\"))      #给args可变形参传递了3个实参\n",
    "date(\"2018\", \"07\", \"25\", sep=\".\")"
   ]
  },
  {
   "cell_type": "markdown",
   "metadata": {},
   "source": [
    "### 字典形参\n",
    "\n",
    "形参名前面有2个```**```，这个形参指向的是一个dict对象，调用函数时，必须以“key=value”的形式传递可变数量的实参，这些实参被组装成一个dict对象，并赋值给字典形参。\n",
    "\n",
    "如果函数定义中既有“可变形参”又有“字典形参”，则“字典形参”必须位于“可变形参”的后面。"
   ]
  },
  {
   "cell_type": "code",
   "execution_count": 29,
   "metadata": {},
   "outputs": [],
   "source": [
    "def f(x, *y, **z):\n",
    "    print(\"x:\",x)\n",
    "    #访问“任意形参”中的参数\n",
    "    for e in y:\n",
    "        print(e)\n",
    "    print()\n",
    "    #访问字典形参中的参数\n",
    "    for key in z:\n",
    "        print(key, \":\", z[key])"
   ]
  },
  {
   "cell_type": "code",
   "execution_count": 30,
   "metadata": {},
   "outputs": [
    {
     "name": "stdout",
     "output_type": "stream",
     "text": [
      "x: hello\n",
      "li ping\n",
      "60.5\n",
      "\n",
      "year : 2018\n",
      "month : 7\n",
      "day : 25\n"
     ]
    }
   ],
   "source": [
    "#在函数调用时，也是通过“key=value”（“键-值”）的形式（“year=\"2018\",month=7,day=25”）将实参传给字典形参。\n",
    "f(\"hello\", \"li ping\",60.5, year=\"2018\",month=7,day=25)\n",
    "#而在函数体中，则是通过字典形参去获取传进来的这些实参“键-值”。也就是说这些实参被打包到字典形参中。"
   ]
  },
  {
   "cell_type": "markdown",
   "metadata": {},
   "source": [
    "### 解封实参列表\n",
    "\n",
    "将一个list或tuple变量名前用一个*作为实参传给被调用函数。\n",
    "Python解释器会自动从这个list或tuple对象中解析出每个实参并传递给被调用函数。这种传递实参的方式称为“解封实参列表”。"
   ]
  },
  {
   "cell_type": "code",
   "execution_count": 31,
   "metadata": {},
   "outputs": [
    {
     "name": "stdout",
     "output_type": "stream",
     "text": [
      "8\n"
     ]
    }
   ],
   "source": [
    "def add(x,y):\n",
    "    return x+y\n",
    "\n",
    "#调用这个函数时，就必须传递2个实参给它：\n",
    "print(add(3,5))"
   ]
  },
  {
   "cell_type": "code",
   "execution_count": 32,
   "metadata": {},
   "outputs": [
    {
     "ename": "TypeError",
     "evalue": "add() missing 1 required positional argument: 'y'",
     "output_type": "error",
     "traceback": [
      "\u001b[1;31m---------------------------------------------------------------------------\u001b[0m",
      "\u001b[1;31mTypeError\u001b[0m                                 Traceback (most recent call last)",
      "\u001b[1;32m<ipython-input-32-2ce36d7302cb>\u001b[0m in \u001b[0;36m<module>\u001b[1;34m\u001b[0m\n\u001b[0;32m      1\u001b[0m \u001b[1;31m#不能直接将一个含2个元素的list或tuple对象直接传给函数的2个形参\u001b[0m\u001b[1;33m\u001b[0m\u001b[1;33m\u001b[0m\u001b[1;33m\u001b[0m\u001b[0m\n\u001b[0;32m      2\u001b[0m \u001b[0mab\u001b[0m \u001b[1;33m=\u001b[0m \u001b[1;33m[\u001b[0m\u001b[1;36m3\u001b[0m\u001b[1;33m,\u001b[0m\u001b[1;36m5\u001b[0m\u001b[1;33m]\u001b[0m\u001b[1;33m\u001b[0m\u001b[1;33m\u001b[0m\u001b[0m\n\u001b[1;32m----> 3\u001b[1;33m \u001b[0mprint\u001b[0m\u001b[1;33m(\u001b[0m\u001b[0madd\u001b[0m\u001b[1;33m(\u001b[0m\u001b[0mab\u001b[0m\u001b[1;33m)\u001b[0m\u001b[1;33m)\u001b[0m\u001b[1;33m\u001b[0m\u001b[1;33m\u001b[0m\u001b[0m\n\u001b[0m",
      "\u001b[1;31mTypeError\u001b[0m: add() missing 1 required positional argument: 'y'"
     ]
    }
   ],
   "source": [
    "#不能直接将一个含2个元素的list或tuple对象直接传给函数的2个形参\n",
    "ab = [3,5]\n",
    "print(add(ab))"
   ]
  },
  {
   "cell_type": "code",
   "execution_count": null,
   "metadata": {},
   "outputs": [],
   "source": [
    "# 通过下标运算符从这个ab对象中获得这两个实参\n",
    "print(add(ab[0],ab[1]))"
   ]
  },
  {
   "cell_type": "code",
   "execution_count": null,
   "metadata": {},
   "outputs": [],
   "source": [
    "# 可以用解封参数列表方式，将list对象中的元素解封出来传给add的2个形参\n",
    "print(add(*ab))"
   ]
  },
  {
   "cell_type": "code",
   "execution_count": null,
   "metadata": {},
   "outputs": [],
   "source": [
    "#range函数接受2个参数：range(start,end)\n",
    "s = list(range(3,7))\n",
    "print(s)\n",
    "\n",
    "args = [3, 7]\n",
    "s = list(range(*args))            # *args将args列表中的元素3和7分离出来\n",
    "print(s)\n"
   ]
  },
  {
   "cell_type": "code",
   "execution_count": null,
   "metadata": {},
   "outputs": [],
   "source": [
    "# 类似的，假如参数在一个字典中，则要用2个星号 **将它们分离出来，如:\n",
    "def f(name, score = 0.0):\n",
    "  print('the name: ',name)\n",
    "  print('the score:',score)\n",
    "\n",
    "d = {\"name\": \"li ping\", \"score\": 60.5}\n",
    "f(**d)   # **d将字典中的参数分离出来"
   ]
  },
  {
   "cell_type": "code",
   "execution_count": null,
   "metadata": {},
   "outputs": [],
   "source": []
  }
 ],
 "metadata": {
  "kernelspec": {
   "display_name": "Python 3",
   "language": "python",
   "name": "python3"
  },
  "language_info": {
   "codemirror_mode": {
    "name": "ipython",
    "version": 3
   },
   "file_extension": ".py",
   "mimetype": "text/x-python",
   "name": "python",
   "nbconvert_exporter": "python",
   "pygments_lexer": "ipython3",
   "version": "3.6.8"
  }
 },
 "nbformat": 4,
 "nbformat_minor": 2
}
