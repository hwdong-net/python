{
 "cells": [
  {
   "cell_type": "markdown",
   "metadata": {},
   "source": [
    "#### Python数值类型有：int、float、complex、bool"
   ]
  },
  {
   "cell_type": "code",
   "execution_count": 77,
   "metadata": {},
   "outputs": [
    {
     "name": "stdout",
     "output_type": "stream",
     "text": [
      "<class 'int'>\n",
      "<class 'float'>\n",
      "<class 'complex'>\n",
      "<class 'bool'>\n",
      "<class 'bool'>\n"
     ]
    }
   ],
   "source": [
    "print(type(2))\n",
    "print(type(2.0))\n",
    "print(type(2+3.9j))\n",
    "print(type(True))\n",
    "print(type(3>2))"
   ]
  },
  {
   "cell_type": "markdown",
   "metadata": {},
   "source": [
    "可以用一个内置函数isinstance()判断一个对象是否是某种类型的对象，"
   ]
  },
  {
   "cell_type": "code",
   "execution_count": 78,
   "metadata": {},
   "outputs": [
    {
     "name": "stdout",
     "output_type": "stream",
     "text": [
      "True\n",
      "False\n",
      "True\n",
      "True\n"
     ]
    }
   ],
   "source": [
    "print(isinstance(2,int))\n",
    "print(isinstance(2.0,int))\n",
    "print(isinstance(2+3.9j,complex))\n",
    "print(isinstance(False,bool))"
   ]
  },
  {
   "cell_type": "code",
   "execution_count": 79,
   "metadata": {},
   "outputs": [
    {
     "name": "stdout",
     "output_type": "stream",
     "text": [
      "421\n",
      "231246\n",
      "521146\n"
     ]
    }
   ],
   "source": [
    "# 可以加前缀0b或0B来表示二进制数，加前缀0o或0O表示八进制数，加前缀0x或0X来表示十六进制数\n",
    "print(0b0110100101)\n",
    "print(0O703516)\n",
    "print(0X7F3BA)"
   ]
  },
  {
   "cell_type": "code",
   "execution_count": 80,
   "metadata": {},
   "outputs": [
    {
     "name": "stdout",
     "output_type": "stream",
     "text": [
      "0b110011100\n",
      "412\n",
      "0o634\n",
      "0x19c\n"
     ]
    }
   ],
   "source": [
    "# 可以用内置函数bin()、oct()、hex()函数得到一个数的二进制、八进制、十六进制对应的字符串。\n",
    "print(bin(412))\n",
    "print(0b110011100)\n",
    "print(oct(412))\n",
    "print(hex(412))"
   ]
  },
  {
   "cell_type": "markdown",
   "metadata": {},
   "source": [
    "#### 浮点数的精度问题"
   ]
  },
  {
   "cell_type": "code",
   "execution_count": 81,
   "metadata": {},
   "outputs": [
    {
     "name": "stdout",
     "output_type": "stream",
     "text": [
      "False\n",
      "0.09999999999999964\n",
      "0.1\n"
     ]
    }
   ],
   "source": [
    "# float浮点数在计算机中只是用二进制近似表示的\n",
    "print( (2.3-2.2)==0.1)\n",
    "print(2.3-2.2)\n",
    "print(0.1)"
   ]
  },
  {
   "cell_type": "code",
   "execution_count": 82,
   "metadata": {},
   "outputs": [
    {
     "name": "stdout",
     "output_type": "stream",
     "text": [
      "0.1\n",
      "0.1000000000000000055511151231257827021181583404541015625\n"
     ]
    }
   ],
   "source": [
    "# Python提供了表示更高精度浮点数的类Decimal\n",
    "import decimal\n",
    "print(0.1)\n",
    "print(decimal.Decimal(0.1))   #更高精度的0.1"
   ]
  },
  {
   "cell_type": "code",
   "execution_count": 83,
   "metadata": {},
   "outputs": [
    {
     "name": "stdout",
     "output_type": "stream",
     "text": [
      "1/3\n",
      "6/5\n",
      "13/12\n"
     ]
    }
   ],
   "source": [
    "# Python还提供了用于分数计算的Fraction类\n",
    "from fractions import Fraction as F\n",
    "print(F(1,3))        # 表示分数1/3\n",
    "print(1 / F(5,6))     # 表示分数6/5\n",
    "print(F(1,3) + F(3,4))"
   ]
  },
  {
   "cell_type": "markdown",
   "metadata": {},
   "source": [
    "#### 数值计算的内置函数"
   ]
  },
  {
   "cell_type": "code",
   "execution_count": 84,
   "metadata": {},
   "outputs": [
    {
     "name": "stdout",
     "output_type": "stream",
     "text": [
      "3.4\n",
      "2.8\n",
      "3.4\n",
      "0.0081\n",
      "-3\n",
      "2\n",
      "-2\n",
      "26.3\n"
     ]
    }
   ],
   "source": [
    "#Python内置的数学函数\n",
    "print(abs(-3.4))         #abc()函数求绝对值\n",
    "print(min(3.4,2.8))      #min()函数求最小值  \n",
    "print(max(3.4,2.8))      # max()函数求最大值 \n",
    "print(pow(0.3,4))       #pow()计算0.3的4次方\n",
    "print(round(-2.8))       # round()取最近的整数\n",
    "print(round(2.3))     \n",
    "print(round(-2.3))\n",
    "numbers = [2, 3, 4.5, 7, 9.8]\n",
    "print(sum(numbers ))        #sum()求一个容器中的数值之和"
   ]
  },
  {
   "cell_type": "markdown",
   "metadata": {},
   "source": [
    "### math数学模块"
   ]
  },
  {
   "cell_type": "markdown",
   "metadata": {},
   "source": [
    "#### 1. 特殊的常量"
   ]
  },
  {
   "cell_type": "code",
   "execution_count": 85,
   "metadata": {
    "scrolled": true
   },
   "outputs": [
    {
     "name": "stdout",
     "output_type": "stream",
     "text": [
      "  π: 3.141592653589793115997963468544\n",
      "  e: 2.718281828459045090795598298428\n"
     ]
    }
   ],
   "source": [
    "# 提供了一些特殊的常量，如π (pi)、e、nan (非数值)和infinity（无穷大），前2个可以输出其值。\n",
    "import math\n",
    "print('  π: {:.30f}'.format(math.pi))\n",
    "print('  e: {:.30f}'.format(math.e))"
   ]
  },
  {
   "cell_type": "markdown",
   "metadata": {},
   "source": [
    "#### 2. 异常值"
   ]
  },
  {
   "cell_type": "code",
   "execution_count": 86,
   "metadata": {},
   "outputs": [
    {
     "name": "stdout",
     "output_type": "stream",
     "text": [
      "inf \t True\n"
     ]
    }
   ],
   "source": [
    "# 当浮点值超过float型值的表示范围时，产生的结果往往是inf（无穷大）。\n",
    "x = 10.0 ** 200\n",
    "y = x*x\n",
    "print(y,'\\t',math.isinf(x*x))"
   ]
  },
  {
   "cell_type": "code",
   "execution_count": 87,
   "metadata": {},
   "outputs": [
    {
     "ename": "OverflowError",
     "evalue": "(34, 'Result too large')",
     "output_type": "error",
     "traceback": [
      "\u001b[1;31m---------------------------------------------------------------------------\u001b[0m",
      "\u001b[1;31mOverflowError\u001b[0m                             Traceback (most recent call last)",
      "\u001b[1;32m<ipython-input-87-5c520baea34e>\u001b[0m in \u001b[0;36m<module>\u001b[1;34m\u001b[0m\n\u001b[0;32m      1\u001b[0m \u001b[0mx\u001b[0m \u001b[1;33m=\u001b[0m \u001b[1;36m10.0\u001b[0m \u001b[1;33m**\u001b[0m \u001b[1;36m200\u001b[0m\u001b[1;33m\u001b[0m\u001b[1;33m\u001b[0m\u001b[0m\n\u001b[1;32m----> 2\u001b[1;33m \u001b[0mx\u001b[0m\u001b[1;33m**\u001b[0m\u001b[1;36m2\u001b[0m\u001b[1;33m\u001b[0m\u001b[1;33m\u001b[0m\u001b[0m\n\u001b[0m",
      "\u001b[1;31mOverflowError\u001b[0m: (34, 'Result too large')"
     ]
    }
   ],
   "source": [
    "x = 10.0 ** 200\n",
    "x**2"
   ]
  },
  {
   "cell_type": "code",
   "execution_count": null,
   "metadata": {},
   "outputs": [],
   "source": [
    "#除以inf的结果是未定的，结果是nan（未定的数值）\n",
    "import math\n",
    "x = (10.0 ** 200) * (10.0 ** 200)\n",
    "y = x / x\n",
    "print(y,'\\t', math.isnan(y))"
   ]
  },
  {
   "cell_type": "code",
   "execution_count": 88,
   "metadata": {},
   "outputs": [
    {
     "name": "stdout",
     "output_type": "stream",
     "text": [
      "( 3.141592653589793 True ),( 2.718281828459045 True ),( inf False ),( nan False ),"
     ]
    }
   ],
   "source": [
    "#可以使用isfinite()来检查一个数值是常规数值还是特殊值inf或nan。\n",
    "import math\n",
    "for f in [math.pi, math.e, math.inf, math.nan]:\n",
    "    print(\"(\",f, math.isfinite(f),\")\",end = ',')"
   ]
  },
  {
   "cell_type": "markdown",
   "metadata": {},
   "source": [
    "#### 3.\t浮点数的相等比较"
   ]
  },
  {
   "cell_type": "code",
   "execution_count": 89,
   "metadata": {},
   "outputs": [
    {
     "name": "stdout",
     "output_type": "stream",
     "text": [
      "False\n"
     ]
    }
   ],
   "source": [
    "# 由于计算机不能精确地表示浮点数，直接比较2个浮点数相等是危险的\n",
    "a= 1.0-0.99\n",
    "b = 100-99.99\n",
    "print(a==b)"
   ]
  },
  {
   "cell_type": "markdown",
   "metadata": {},
   "source": [
    "比较两个浮点数是否相等是看它们的差的绝对值是否足够小，Python的math模块提供了isclose()函数，其规范是：\n",
    "```\n",
    "isclose(a, b, *, rel_tol=1e-09, abs_tol=0.0)\n",
    "```\n",
    "\n",
    "默认形参rel_tol和abs_tol分别表示相对误差和绝对误差，用于比较两个浮点数的相等。\n",
    "\n",
    "isclose()函数等价于下列代码：\n",
    "```\n",
    "abs(a-b) <= max(rel_tol * max(abs(a), abs(b)), abs_tol)\n",
    "```"
   ]
  },
  {
   "cell_type": "code",
   "execution_count": 90,
   "metadata": {},
   "outputs": [
    {
     "name": "stdout",
     "output_type": "stream",
     "text": [
      "True,True\n",
      "False,False\n"
     ]
    }
   ],
   "source": [
    "# 相对误差比较，即：abs(a-b) <= rel_tol * max(abs(a), abs(b))\n",
    "rel_tol = 1e-1\n",
    "a = 1.00\n",
    "b = 0.90\n",
    "print(abs(a-b) <= rel_tol * max(abs(a), abs(b)),end=',')\n",
    "print(math.isclose(a, b, rel_tol=rel_tol))\n",
    "a = 0.10\n",
    "b = 0.09\n",
    "print(math.isclose(a, b, rel_tol=rel_tol),end=',')\n",
    "print(abs(a-b) <= rel_tol * max(abs(a), abs(b)))"
   ]
  },
  {
   "cell_type": "code",
   "execution_count": 91,
   "metadata": {},
   "outputs": [
    {
     "name": "stdout",
     "output_type": "stream",
     "text": [
      "False,False\n",
      "True,True\n"
     ]
    }
   ],
   "source": [
    "# 绝对误差比较，即：abs(a-b) <= abs_tol\n",
    "abs_tol = 1e-07            \n",
    "a = 1.00   \n",
    "b  =1.0000001\n",
    "print(abs(a-b) <= abs_tol,end=',')\n",
    "print(math.isclose(a, b, abs_tol=abs_tol))\n",
    "a = 1.00   \n",
    "b  =1.00000001\n",
    "print(abs(a-b) <= abs_tol,end=',')\n",
    "print(math.isclose(a, b, abs_tol=abs_tol))"
   ]
  },
  {
   "cell_type": "markdown",
   "metadata": {},
   "source": [
    "#### 4. 浮点数转换为整数\n",
    "\n",
    "有3个函数可以将1个浮点数转换为一个整数：trunc()截取掉浮点数的小数部分，floor（）将浮点数转换为比它小的最大整数，ceil()将浮点数转换为比它大的最小整数。"
   ]
  },
  {
   "cell_type": "code",
   "execution_count": 92,
   "metadata": {},
   "outputs": [
    {
     "name": "stdout",
     "output_type": "stream",
     "text": [
      "  i    int  trunk floor ceil \n",
      " -1.5  -1.0  -1.0  -2.0  -1.0\n",
      " -1.8  -1.0  -1.0  -2.0  -1.0\n",
      "  1.2   1.0   1.0   1.0   2.0\n"
     ]
    }
   ],
   "source": [
    "HEADINGS = ('i', 'int', 'trunk', 'floor', 'ceil')\n",
    "print('{:^5} {:^5} {:^5} {:^5} {:^5}'.format(*HEADINGS))\n",
    "fmt = '{:5.1f} {:5.1f} {:5.1f} {:5.1f} {:5.1f}'\n",
    "\n",
    "VALUES = [-1.5, -1.8, 1.2]\n",
    "for i in VALUES:\n",
    "    print(fmt.format( i,int(i), math.trunc(i), math.floor(i), math.ceil(i) ))"
   ]
  },
  {
   "cell_type": "markdown",
   "metadata": {},
   "source": [
    "#### 5.\t平方根、指数、对数"
   ]
  },
  {
   "cell_type": "code",
   "execution_count": 93,
   "metadata": {},
   "outputs": [
    {
     "name": "stdout",
     "output_type": "stream",
     "text": [
      "1.7320508075688772\n"
     ]
    }
   ],
   "source": [
    "print(math.sqrt(3))"
   ]
  },
  {
   "cell_type": "code",
   "execution_count": 94,
   "metadata": {},
   "outputs": [
    {
     "name": "stdout",
     "output_type": "stream",
     "text": [
      "10.74241047739471\n",
      "10.74241047739471\n",
      "8\n",
      "8.0\n"
     ]
    }
   ],
   "source": [
    "x = 2.1\n",
    "y = 3.2\n",
    "print(x**y)\n",
    "print(math.pow(x, y))              #计算x的y次方\n",
    "print(2**3)\n",
    "print(math.pow(2,3))"
   ]
  },
  {
   "cell_type": "code",
   "execution_count": 95,
   "metadata": {},
   "outputs": [
    {
     "name": "stdout",
     "output_type": "stream",
     "text": [
      "7.38905609893064951876\n",
      "7.38905609893064951876\n",
      "7.38905609893065040694\n",
      "0.0\n",
      "1e-25\n"
     ]
    }
   ],
   "source": [
    "x = 2\n",
    "fmt = '{:.20f}'\n",
    "print(fmt.format(math.e ** 2))\n",
    "print(fmt.format(math.pow(math.e, 2)))\n",
    "print(fmt.format(math.exp(2)))             #exp(x)比pow(math.e, x)更准确\n",
    "\n",
    "x = 0.0000000000000000000000001\n",
    "print(math.exp(x) - 1)\n",
    "print(math.expm1(x))                       #expm1()用于计算e**x - 1，比直接用exp(x)-1更准确"
   ]
  },
  {
   "cell_type": "code",
   "execution_count": 96,
   "metadata": {},
   "outputs": [
    {
     "name": "stdout",
     "output_type": "stream",
     "text": [
      "2.1972245773362196\n",
      "2.0\n",
      "0.95424251 0.954242509439324871\n",
      "3.16992500 3.169925001442312595\n",
      "0.0 1e-25\n"
     ]
    }
   ],
   "source": [
    "x = 9\n",
    "print(math.log(x))     # 自然对数\n",
    "print(math.log(x,3))   # 以3为底的对数\n",
    "#底是10的对数,log10(x)比log(x,10)精度更高\n",
    "print('{:10.8f} {:20.18f}'.format(math.log10(x),math.log(x,10)))\n",
    "#底是2的对数,log2(x)比log(x,2)精度更高\n",
    "print('{:10.8f} {:20.18f}'.format(math.log2(x),math.log(x,2)))\n",
    "#对于接近于0的x，log1p(x)比log(1+x)更准确\n",
    "xx = 0.0000000000000000000000001\n",
    "print(math.log(1 + xx),math.log1p(xx))"
   ]
  },
  {
   "cell_type": "markdown",
   "metadata": {},
   "source": [
    "#### 6.\t三角函数\n",
    "\n",
    "radians()将角度转换成弧度，degrees()将弧度转换成角度。"
   ]
  },
  {
   "cell_type": "code",
   "execution_count": 97,
   "metadata": {},
   "outputs": [
    {
     "name": "stdout",
     "output_type": "stream",
     "text": [
      "0.7853981633974483\n",
      "90.0\n"
     ]
    }
   ],
   "source": [
    "print(math.radians(45))         #角度转换为弧度\n",
    "print(math.degrees(math.pi/2))   #弧度转换为角度"
   ]
  },
  {
   "cell_type": "code",
   "execution_count": 98,
   "metadata": {},
   "outputs": [
    {
     "name": "stdout",
     "output_type": "stream",
     "text": [
      "1.0\n",
      "0.9999999999999999\n",
      "45.0\n",
      "120\n"
     ]
    }
   ],
   "source": [
    "# math包含了各种三角和反三角函数，如sin()、cos()、tan()、atan()等。\n",
    "# 还有其他的如双曲函数、特殊函数（如正态分布函数）等。\n",
    "print(math.sin(math.pi/2))  #计正弦函数\n",
    "print(math.tan(math.pi/4))  #计算正切函数\n",
    "print(math.degrees(math.atan(1)))  #计算反正切函数，将结果弧度转换为角度\n",
    "print(math.factorial(5))         # 阶乘  5！ = 1×2×3×4×5"
   ]
  }
 ],
 "metadata": {
  "kernelspec": {
   "display_name": "Python 3",
   "language": "python",
   "name": "python3"
  },
  "language_info": {
   "codemirror_mode": {
    "name": "ipython",
    "version": 3
   },
   "file_extension": ".py",
   "mimetype": "text/x-python",
   "name": "python",
   "nbconvert_exporter": "python",
   "pygments_lexer": "ipython3",
   "version": "3.7.4"
  }
 },
 "nbformat": 4,
 "nbformat_minor": 2
}
