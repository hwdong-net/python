{
 "cells": [
  {
   "cell_type": "markdown",
   "metadata": {},
   "source": [
    "### 2.1.1 值和类型\n",
    "\n",
    "值都具有类型，用type可返回一个对象的类型"
   ]
  },
  {
   "cell_type": "code",
   "execution_count": 1,
   "metadata": {},
   "outputs": [
    {
     "data": {
      "text/plain": [
       "int"
      ]
     },
     "execution_count": 1,
     "metadata": {},
     "output_type": "execute_result"
    }
   ],
   "source": [
    "type(2)"
   ]
  },
  {
   "cell_type": "code",
   "execution_count": 2,
   "metadata": {},
   "outputs": [
    {
     "data": {
      "text/plain": [
       "str"
      ]
     },
     "execution_count": 2,
     "metadata": {},
     "output_type": "execute_result"
    }
   ],
   "source": [
    "type('hello,world')"
   ]
  },
  {
   "cell_type": "code",
   "execution_count": 3,
   "metadata": {},
   "outputs": [
    {
     "data": {
      "text/plain": [
       "float"
      ]
     },
     "execution_count": 3,
     "metadata": {},
     "output_type": "execute_result"
    }
   ],
   "source": [
    "type(3.14)"
   ]
  },
  {
   "cell_type": "markdown",
   "metadata": {},
   "source": [
    "`对于int或float类型的值可以用+，-，*，/，%、// 等运算符进行加、减、乘、除、求余数、整数除等运算，但是整数除运算对于float浮点数来说是转化为整数进行的。`"
   ]
  },
  {
   "cell_type": "code",
   "execution_count": 4,
   "metadata": {},
   "outputs": [
    {
     "name": "stdout",
     "output_type": "stream",
     "text": [
      "7\n",
      "-3\n",
      "10\n",
      "2.5\n",
      "2\n",
      "125\n",
      "1.0\n",
      "1.1400000000000001\n",
      "5.0\n"
     ]
    }
   ],
   "source": [
    "print(5+2)\n",
    "print(2-5)   # 减法\n",
    "print(5*2)   # 乘法\n",
    "print(5/2)    # 除法,产生的是一个浮点数\n",
    "print(5//2)    # 运算符\"//\"表示取余运算\n",
    "print(5 ** 3)   # 指数运算，计算4的3次方\n",
    "print(3.14//2.5)  # 整数除\n",
    "print(3.14%2)   # 求余数\n",
    "print((50 - 5*6) / 4)  "
   ]
  },
  {
   "cell_type": "markdown",
   "metadata": {},
   "source": [
    "对字符串对象就不能进行减法、除法等运算。也就是说不同类型的数据能进行的运算是不一样的。"
   ]
  },
  {
   "cell_type": "code",
   "execution_count": 5,
   "metadata": {},
   "outputs": [
    {
     "ename": "TypeError",
     "evalue": "unsupported operand type(s) for -: 'str' and 'str'",
     "output_type": "error",
     "traceback": [
      "\u001b[1;31m---------------------------------------------------------------------------\u001b[0m",
      "\u001b[1;31mTypeError\u001b[0m                                 Traceback (most recent call last)",
      "\u001b[1;32m<ipython-input-5-bb555d5919b3>\u001b[0m in \u001b[0;36m<module>\u001b[1;34m\u001b[0m\n\u001b[1;32m----> 1\u001b[1;33m \u001b[0mprint\u001b[0m\u001b[1;33m(\u001b[0m\u001b[1;34m\"hello,\"\u001b[0m \u001b[1;33m-\u001b[0m \u001b[1;34m\"world\"\u001b[0m\u001b[1;33m)\u001b[0m\u001b[1;33m\u001b[0m\u001b[1;33m\u001b[0m\u001b[0m\n\u001b[0m\u001b[0;32m      2\u001b[0m \u001b[0mprint\u001b[0m\u001b[1;33m(\u001b[0m\u001b[1;34m\"hello,\"\u001b[0m \u001b[1;33m*\u001b[0m \u001b[1;34m\"world\"\u001b[0m\u001b[1;33m)\u001b[0m\u001b[1;33m\u001b[0m\u001b[1;33m\u001b[0m\u001b[0m\n\u001b[0;32m      3\u001b[0m \u001b[0mprint\u001b[0m\u001b[1;33m(\u001b[0m\u001b[1;34m\"hello,\"\u001b[0m \u001b[1;33m/\u001b[0m \u001b[1;34m\"world\"\u001b[0m\u001b[1;33m)\u001b[0m\u001b[1;33m\u001b[0m\u001b[1;33m\u001b[0m\u001b[0m\n",
      "\u001b[1;31mTypeError\u001b[0m: unsupported operand type(s) for -: 'str' and 'str'"
     ]
    }
   ],
   "source": [
    "print(\"hello,\" - \"world\")\n",
    "print(\"hello,\" * \"world\")\n",
    "print(\"hello,\" / \"world\")"
   ]
  },
  {
   "cell_type": "markdown",
   "metadata": {},
   "source": [
    "`不能对2个字符串（str）类型的值进行-、/、*运算！ 但1个字符串可以和一个整数相乘，结果是一个重复复制这个字符串的字符串。比如：`"
   ]
  },
  {
   "cell_type": "code",
   "execution_count": 6,
   "metadata": {},
   "outputs": [
    {
     "name": "stdout",
     "output_type": "stream",
     "text": [
      "worldworldworld\n",
      "worldworldworld\n"
     ]
    }
   ],
   "source": [
    "print(3*\"world\")\n",
    "print(\"world\"*3)"
   ]
  },
  {
   "cell_type": "markdown",
   "metadata": {},
   "source": [
    "### 2.1.2 对象\n",
    "\n",
    "一个**对象**包含一个具体数据的3个方面：值、数据类型和id。"
   ]
  },
  {
   "cell_type": "code",
   "execution_count": 7,
   "metadata": {},
   "outputs": [
    {
     "name": "stdout",
     "output_type": "stream",
     "text": [
      "140721392820656\n",
      "1431914186128\n",
      "1431916733808\n"
     ]
    }
   ],
   "source": [
    "print(id(2))\n",
    "print(id(3.14))\n",
    "print(id('hello,world'))"
   ]
  },
  {
   "cell_type": "markdown",
   "metadata": {},
   "source": [
    "可以看出，这3个对象分别是自己唯一的id，即各自独立的存储空间。\n",
    "\n",
    "空值对象： None"
   ]
  },
  {
   "cell_type": "code",
   "execution_count": 18,
   "metadata": {},
   "outputs": [
    {
     "data": {
      "text/plain": [
       "NoneType"
      ]
     },
     "execution_count": 18,
     "metadata": {},
     "output_type": "execute_result"
    }
   ],
   "source": [
    "type(None)"
   ]
  },
  {
   "cell_type": "markdown",
   "metadata": {},
   "source": [
    "## 2.2 变量\n",
    "\n",
    "定义一个**变量**的格式是：\n",
    "```\n",
    "变量名 = 对象\n",
    "```\n",
    "变量就是对象的名字，也称为对象的引用:"
   ]
  },
  {
   "cell_type": "code",
   "execution_count": 9,
   "metadata": {},
   "outputs": [
    {
     "name": "stdout",
     "output_type": "stream",
     "text": [
      "2\n",
      "3.14\n",
      "hello world\n"
     ]
    }
   ],
   "source": [
    "ival = 2;\n",
    "PI = 3.14;\n",
    "s = \"hello world\"\n",
    "print(ival)  #打印变量ival引用的对象2\n",
    "print(PI)\n",
    "print(s)"
   ]
  },
  {
   "cell_type": "markdown",
   "metadata": {},
   "source": [
    "用赋值运算符=修改变量引用的对象，使变量引用其他对象，如:"
   ]
  },
  {
   "cell_type": "code",
   "execution_count": 12,
   "metadata": {},
   "outputs": [
    {
     "name": "stdout",
     "output_type": "stream",
     "text": [
      "2 2\n"
     ]
    }
   ],
   "source": [
    "PI=ival   # PI修改为ival引用对象的引用，即PI和ival都引用了整数对象2。\n",
    "print(PI,ival)"
   ]
  },
  {
   "cell_type": "markdown",
   "metadata": {},
   "source": [
    "函数id()可以得到一个对象(或变量引用的对象)的地址。例如："
   ]
  },
  {
   "cell_type": "code",
   "execution_count": 14,
   "metadata": {},
   "outputs": [
    {
     "name": "stdout",
     "output_type": "stream",
     "text": [
      "140721392820656 140721392820656\n"
     ]
    }
   ],
   "source": [
    "print(id(PI),id(ival))"
   ]
  },
  {
   "cell_type": "markdown",
   "metadata": {},
   "source": [
    "即变量PI和ival引用的对象是同一个。"
   ]
  },
  {
   "cell_type": "markdown",
   "metadata": {},
   "source": [
    "定义变量时就必须指明它引用的是哪个对象。不能使用一个未定义的变量(未说明引用哪个对象)，"
   ]
  },
  {
   "cell_type": "code",
   "execution_count": 15,
   "metadata": {},
   "outputs": [
    {
     "ename": "NameError",
     "evalue": "name 'radius' is not defined",
     "output_type": "error",
     "traceback": [
      "\u001b[1;31m---------------------------------------------------------------------------\u001b[0m",
      "\u001b[1;31mNameError\u001b[0m                                 Traceback (most recent call last)",
      "\u001b[1;32m<ipython-input-15-d01a0099d01e>\u001b[0m in \u001b[0;36m<module>\u001b[1;34m\u001b[0m\n\u001b[1;32m----> 1\u001b[1;33m \u001b[0mprint\u001b[0m\u001b[1;33m(\u001b[0m\u001b[0mradius\u001b[0m\u001b[1;33m)\u001b[0m    \u001b[1;31m# radius是未定义的\u001b[0m\u001b[1;33m\u001b[0m\u001b[1;33m\u001b[0m\u001b[0m\n\u001b[0m",
      "\u001b[1;31mNameError\u001b[0m: name 'radius' is not defined"
     ]
    }
   ],
   "source": [
    "print(radius)    # radius是未定义的"
   ]
  },
  {
   "cell_type": "markdown",
   "metadata": {},
   "source": [
    "有两个运算符 == 和 is，前者用于比较对象的值是否相等，后者用于判断两个对象是不是同一个。如："
   ]
  },
  {
   "cell_type": "code",
   "execution_count": 16,
   "metadata": {},
   "outputs": [
    {
     "name": "stdout",
     "output_type": "stream",
     "text": [
      "True\n",
      "False\n"
     ]
    }
   ],
   "source": [
    "a=1000 \n",
    "b=1000 \n",
    "print(a == b)\n",
    "print(a is b)"
   ]
  },
  {
   "cell_type": "code",
   "execution_count": null,
   "metadata": {},
   "outputs": [],
   "source": [
    "可用type()得到一个对象的类型，然后用print输出这个类型："
   ]
  },
  {
   "cell_type": "code",
   "execution_count": 10,
   "metadata": {},
   "outputs": [
    {
     "name": "stdout",
     "output_type": "stream",
     "text": [
      "<class 'bool'>\n"
     ]
    },
    {
     "ename": "NameError",
     "evalue": "name 'a' is not defined",
     "output_type": "error",
     "traceback": [
      "\u001b[1;31m---------------------------------------------------------------------------\u001b[0m",
      "\u001b[1;31mNameError\u001b[0m                                 Traceback (most recent call last)",
      "\u001b[1;32m<ipython-input-10-abc0ab1a61f3>\u001b[0m in \u001b[0;36m<module>\u001b[1;34m\u001b[0m\n\u001b[0;32m      1\u001b[0m \u001b[0mprint\u001b[0m\u001b[1;33m(\u001b[0m\u001b[0mtype\u001b[0m\u001b[1;33m(\u001b[0m\u001b[1;32mTrue\u001b[0m\u001b[1;33m)\u001b[0m\u001b[1;33m)\u001b[0m\u001b[1;33m\u001b[0m\u001b[1;33m\u001b[0m\u001b[0m\n\u001b[1;32m----> 2\u001b[1;33m \u001b[0mprint\u001b[0m\u001b[1;33m(\u001b[0m\u001b[0mtype\u001b[0m\u001b[1;33m(\u001b[0m\u001b[0ma\u001b[0m\u001b[1;33m==\u001b[0m\u001b[0mb\u001b[0m\u001b[1;33m)\u001b[0m\u001b[1;33m)\u001b[0m\u001b[1;33m\u001b[0m\u001b[1;33m\u001b[0m\u001b[0m\n\u001b[0m\u001b[0;32m      3\u001b[0m \u001b[0mprint\u001b[0m\u001b[1;33m(\u001b[0m\u001b[0mtype\u001b[0m\u001b[1;33m(\u001b[0m\u001b[0ma\u001b[0m \u001b[1;32mis\u001b[0m \u001b[0mb\u001b[0m\u001b[1;33m)\u001b[0m\u001b[1;33m)\u001b[0m\u001b[1;33m\u001b[0m\u001b[1;33m\u001b[0m\u001b[0m\n",
      "\u001b[1;31mNameError\u001b[0m: name 'a' is not defined"
     ]
    }
   ],
   "source": [
    "print(type(True))\n",
    "print(type(a==b))\n",
    "print(type(a is b))"
   ]
  },
  {
   "cell_type": "code",
   "execution_count": null,
   "metadata": {},
   "outputs": [],
   "source": [
    "可以用id()函数得到a、b的内存地址："
   ]
  },
  {
   "cell_type": "code",
   "execution_count": 17,
   "metadata": {},
   "outputs": [
    {
     "name": "stdout",
     "output_type": "stream",
     "text": [
      "1431916242640\n",
      "1431916242576\n"
     ]
    }
   ],
   "source": [
    "print(id(a))\n",
    "print(id(b))\n"
   ]
  },
  {
   "cell_type": "code",
   "execution_count": null,
   "metadata": {},
   "outputs": [],
   "source": [
    "说明它们不是同一个对象（地址不同!）."
   ]
  },
  {
   "cell_type": "markdown",
   "metadata": {},
   "source": [
    "## 2.3 数据类型概述\n",
    "\n",
    "Python自带了一些内在数据类型（简称内在类型），主要有：数值(Number)、字符串(str)、列表(list)、元组(tuple)、集合(set)、字典(dict)。"
   ]
  },
  {
   "cell_type": "markdown",
   "metadata": {},
   "source": [
    "### 2.3.1 数值(Number)类型\n",
    "\n",
    "不是一个单独的类型，而是分为：int(整型)、float（浮点型）、complex（复数类型）、bool（布尔类型）。\n",
    "bool类型用于表示一个逻辑量，即一个命题的真和假，因此只有表示真和假的2个值True和False。\n"
   ]
  },
  {
   "cell_type": "code",
   "execution_count": 20,
   "metadata": {},
   "outputs": [
    {
     "data": {
      "text/plain": [
       "int"
      ]
     },
     "execution_count": 20,
     "metadata": {},
     "output_type": "execute_result"
    }
   ],
   "source": [
    "type(5)"
   ]
  },
  {
   "cell_type": "code",
   "execution_count": 21,
   "metadata": {},
   "outputs": [
    {
     "data": {
      "text/plain": [
       "float"
      ]
     },
     "execution_count": 21,
     "metadata": {},
     "output_type": "execute_result"
    }
   ],
   "source": [
    "type(3.14)"
   ]
  },
  {
   "cell_type": "code",
   "execution_count": 22,
   "metadata": {},
   "outputs": [
    {
     "data": {
      "text/plain": [
       "bool"
      ]
     },
     "execution_count": 22,
     "metadata": {},
     "output_type": "execute_result"
    }
   ],
   "source": [
    "type(False)"
   ]
  },
  {
   "cell_type": "code",
   "execution_count": 23,
   "metadata": {},
   "outputs": [
    {
     "data": {
      "text/plain": [
       "int"
      ]
     },
     "execution_count": 23,
     "metadata": {},
     "output_type": "execute_result"
    }
   ],
   "source": [
    "type(2+3)"
   ]
  },
  {
   "cell_type": "code",
   "execution_count": 24,
   "metadata": {},
   "outputs": [
    {
     "data": {
      "text/plain": [
       "float"
      ]
     },
     "execution_count": 24,
     "metadata": {},
     "output_type": "execute_result"
    }
   ],
   "source": [
    "type(2+3.14)"
   ]
  },
  {
   "cell_type": "markdown",
   "metadata": {},
   "source": [
    "Python的int型整数长度可以任意长，只要计算机内存足够。但float浮点数的小数点后的精度不超过15位。而复数总是写成 x+yi这种形式。"
   ]
  },
  {
   "cell_type": "code",
   "execution_count": 25,
   "metadata": {},
   "outputs": [
    {
     "name": "stdout",
     "output_type": "stream",
     "text": [
      "1234567890123456789\n",
      "0.12345678901234568\n",
      "(1+2j)\n"
     ]
    }
   ],
   "source": [
    "a = 1234567890123456789\n",
    "b = 0.1234567890123456789\n",
    "c = 1+2j\n",
    "\n",
    "print(a)\n",
    "print(b)\n",
    "print(c)"
   ]
  },
  {
   "cell_type": "markdown",
   "metadata": {},
   "source": [
    "### 2.3.2 列表(list)"
   ]
  },
  {
   "cell_type": "code",
   "execution_count": 26,
   "metadata": {},
   "outputs": [
    {
     "data": {
      "text/plain": [
       "list"
      ]
     },
     "execution_count": 26,
     "metadata": {},
     "output_type": "execute_result"
    }
   ],
   "source": [
    "[1,2,3]\n",
    "type([1,2,3])"
   ]
  },
  {
   "cell_type": "markdown",
   "metadata": {},
   "source": [
    "list中的数据元素可以是不同的类型。如："
   ]
  },
  {
   "cell_type": "code",
   "execution_count": 27,
   "metadata": {},
   "outputs": [
    {
     "data": {
      "text/plain": [
       "[2, 3.14, 'python']"
      ]
     },
     "execution_count": 27,
     "metadata": {},
     "output_type": "execute_result"
    }
   ],
   "source": [
    "[2, 3.14, 'python']"
   ]
  },
  {
   "cell_type": "markdown",
   "metadata": {},
   "source": [
    "当然可以包含其他的list对象，如："
   ]
  },
  {
   "cell_type": "code",
   "execution_count": 28,
   "metadata": {},
   "outputs": [
    {
     "data": {
      "text/plain": [
       "[2, 3.14, True, [3, 6, 9], 'python']"
      ]
     },
     "execution_count": 28,
     "metadata": {},
     "output_type": "execute_result"
    }
   ],
   "source": [
    "[2, 3.14,True,[3,6,9],'python']"
   ]
  },
  {
   "cell_type": "markdown",
   "metadata": {},
   "source": [
    "因为list是一个有序序列，其中的每个数据元素都有唯一的下标，下标从0开始，即第1、2、3、...元素的下标依次是0、1、2、...。因此，对于list对象可以用“下标运算符[]”去访问它的一个元素。"
   ]
  },
  {
   "cell_type": "code",
   "execution_count": 29,
   "metadata": {},
   "outputs": [
    {
     "name": "stdout",
     "output_type": "stream",
     "text": [
      "<class 'list'>\n",
      "[2, 3.14, True, [3, 6, 9], 'python']\n",
      "2\n",
      "[3, 6, 9]\n"
     ]
    }
   ],
   "source": [
    "my_list =[2, 3.14,True,[3,6,9],'python']\n",
    "print(type(my_list))  #打印my_list的类型，即list类型\n",
    "print(my_list)\n",
    "print(my_list[0])\n",
    "print(my_list[3])\n"
   ]
  },
  {
   "cell_type": "markdown",
   "metadata": {},
   "source": [
    "通过向下标运算符[ ]传递起始和结束位置的2个下标，返回连续多个元素组成的子列表(不包含结束位置的元素)。即访问list对象的一个子序列，称为“切片”。其格式是：\n",
    "```\n",
    "list[start: end]\n",
    "```"
   ]
  },
  {
   "cell_type": "code",
   "execution_count": 30,
   "metadata": {},
   "outputs": [
    {
     "name": "stdout",
     "output_type": "stream",
     "text": [
      "[3.14, True, [3, 6, 9]]\n",
      "[True, [3, 6, 9], 'python']\n",
      "[2, 3.14, True, [3, 6, 9]]\n",
      "[2, 3.14, True, [3, 6, 9], 'python']\n"
     ]
    }
   ],
   "source": [
    "print(my_list[1:4])  #从第2个到第5个，不包含第5个\n",
    "print(my_list[2:])   #起始下标为2，没有结束下标，表示从起始下标之后的所有元素\n",
    "print(my_list[:4])   #没有起始下标，表示起始下标默认为0\n",
    "print(my_list[:])    #没有起始和结束下标，表示所有元素"
   ]
  },
  {
   "cell_type": "markdown",
   "metadata": {},
   "source": [
    "list的元素的下标也可以是负数，最后一个元素的下标是-1，倒数第二个元素的下标是-2，依次类推。"
   ]
  },
  {
   "cell_type": "code",
   "execution_count": 31,
   "metadata": {},
   "outputs": [
    {
     "name": "stdout",
     "output_type": "stream",
     "text": [
      "[2, 3.14, True, [3, 6, 9], 'hw-dong']\n",
      "[[3, 6, 9]]\n",
      "[2, 3.14, True, 512, 'hi', 2.89]\n"
     ]
    }
   ],
   "source": [
    "my_list[-1] = \"hw-dong\"       #最后一个元素修改为\"hw-dong\"\n",
    "print(my_list)\n",
    "print(my_list[-2:-1])         #打印倒数第二个元素\n",
    "my_list[-2:] = [512,'hi',2.89]     #倒数第二个元素后的序列用列表[3,6,'hi']替换\n",
    "print(my_list)"
   ]
  },
  {
   "cell_type": "markdown",
   "metadata": {},
   "source": [
    "当然，下标超出范围的访问都是错误的："
   ]
  },
  {
   "cell_type": "code",
   "execution_count": 32,
   "metadata": {},
   "outputs": [
    {
     "ename": "IndexError",
     "evalue": "list index out of range",
     "output_type": "error",
     "traceback": [
      "\u001b[1;31m---------------------------------------------------------------------------\u001b[0m",
      "\u001b[1;31mIndexError\u001b[0m                                Traceback (most recent call last)",
      "\u001b[1;32m<ipython-input-32-efcb8dc6c828>\u001b[0m in \u001b[0;36m<module>\u001b[1;34m\u001b[0m\n\u001b[1;32m----> 1\u001b[1;33m \u001b[0mprint\u001b[0m\u001b[1;33m(\u001b[0m\u001b[0mmy_list\u001b[0m\u001b[1;33m[\u001b[0m\u001b[1;36m7\u001b[0m\u001b[1;33m]\u001b[0m\u001b[1;33m)\u001b[0m\u001b[1;33m\u001b[0m\u001b[1;33m\u001b[0m\u001b[0m\n\u001b[0m\u001b[0;32m      2\u001b[0m \u001b[0mprint\u001b[0m\u001b[1;33m(\u001b[0m\u001b[0mmy_list\u001b[0m\u001b[1;33m[\u001b[0m\u001b[1;33m-\u001b[0m\u001b[1;36m8\u001b[0m\u001b[1;33m]\u001b[0m\u001b[1;33m)\u001b[0m\u001b[1;33m\u001b[0m\u001b[1;33m\u001b[0m\u001b[0m\n",
      "\u001b[1;31mIndexError\u001b[0m: list index out of range"
     ]
    }
   ],
   "source": [
    "print(my_list[7])\n",
    "print(my_list[-8])"
   ]
  },
  {
   "cell_type": "markdown",
   "metadata": {},
   "source": [
    "list对象是可修改的(mutable)，即修改其中的某个或多个元素。如可以通过下标去修改list的某个元素："
   ]
  },
  {
   "cell_type": "code",
   "execution_count": 33,
   "metadata": {},
   "outputs": [
    {
     "name": "stdout",
     "output_type": "stream",
     "text": [
      "[2, 3.14, True, 512, 'c++', 2.89]\n"
     ]
    }
   ],
   "source": [
    "my_list[4]='c++'\n",
    "print(my_list)"
   ]
  },
  {
   "cell_type": "markdown",
   "metadata": {},
   "source": [
    "也可以给一个范围赋值，替换为另一个list："
   ]
  },
  {
   "cell_type": "code",
   "execution_count": 34,
   "metadata": {},
   "outputs": [
    {
     "name": "stdout",
     "output_type": "stream",
     "text": [
      "[2, 10, 25, 'c++', 2.89]\n"
     ]
    }
   ],
   "source": [
    "my_list[1:4]=[10,25]  \n",
    "print(my_list)"
   ]
  },
  {
   "cell_type": "markdown",
   "metadata": {},
   "source": [
    "给一个范围赋值一个空的list[]，相当于删除这个范围的数据元素："
   ]
  },
  {
   "cell_type": "code",
   "execution_count": 35,
   "metadata": {},
   "outputs": [
    {
     "name": "stdout",
     "output_type": "stream",
     "text": [
      "[2, 10, 2.89]\n"
     ]
    }
   ],
   "source": [
    "my_list[2:4]=[]      #相当于删除了[2:4]之间的元素，不包括下标4的元素\n",
    "print(my_list)"
   ]
  },
  {
   "cell_type": "markdown",
   "metadata": {},
   "source": [
    "必须给一个范围赋值一个list对象，赋值非list对象，会出错："
   ]
  },
  {
   "cell_type": "code",
   "execution_count": 36,
   "metadata": {},
   "outputs": [
    {
     "ename": "TypeError",
     "evalue": "can only assign an iterable",
     "output_type": "error",
     "traceback": [
      "\u001b[1;31m---------------------------------------------------------------------------\u001b[0m",
      "\u001b[1;31mTypeError\u001b[0m                                 Traceback (most recent call last)",
      "\u001b[1;32m<ipython-input-36-6565d37d98ad>\u001b[0m in \u001b[0;36m<module>\u001b[1;34m\u001b[0m\n\u001b[1;32m----> 1\u001b[1;33m \u001b[0mmy_list\u001b[0m\u001b[1;33m[\u001b[0m\u001b[1;36m1\u001b[0m\u001b[1;33m:\u001b[0m\u001b[1;36m3\u001b[0m\u001b[1;33m]\u001b[0m\u001b[1;33m=\u001b[0m \u001b[1;36m5\u001b[0m\u001b[1;33m\u001b[0m\u001b[1;33m\u001b[0m\u001b[0m\n\u001b[0m",
      "\u001b[1;31mTypeError\u001b[0m: can only assign an iterable"
     ]
    }
   ],
   "source": [
    "my_list[1:3]= 5"
   ]
  },
  {
   "cell_type": "markdown",
   "metadata": {},
   "source": [
    "可以通过函数len()查询一个 list对象的元素个数。如："
   ]
  },
  {
   "cell_type": "code",
   "execution_count": 37,
   "metadata": {},
   "outputs": [
    {
     "name": "stdout",
     "output_type": "stream",
     "text": [
      "3\n"
     ]
    }
   ],
   "source": [
    "alist = [2, 3.14, 'python']\n",
    "print(len(alist))"
   ]
  },
  {
   "cell_type": "markdown",
   "metadata": {},
   "source": [
    "可以用+将2个list对象合并为一个更大的list对象，如："
   ]
  },
  {
   "cell_type": "code",
   "execution_count": 38,
   "metadata": {},
   "outputs": [
    {
     "name": "stdout",
     "output_type": "stream",
     "text": [
      "[2, 3.14, 'python', 'world', [5, 6, 7]]\n"
     ]
    }
   ],
   "source": [
    "blist = [\"world\", [5,6,7]]\n",
    "c = alist+blist\n",
    "print(c)"
   ]
  },
  {
   "cell_type": "markdown",
   "metadata": {},
   "source": [
    "### 2.3.3 元组(tuple)"
   ]
  },
  {
   "cell_type": "markdown",
   "metadata": {},
   "source": [
    "定义tuple是用圆括号而不是方括号。如："
   ]
  },
  {
   "cell_type": "code",
   "execution_count": 41,
   "metadata": {},
   "outputs": [
    {
     "name": "stdout",
     "output_type": "stream",
     "text": [
      "<class 'tuple'>\n"
     ]
    }
   ],
   "source": [
    "t = ('python',[2,5],37,3.14,\"https://hwdong-net.github.io\")\n",
    "print(type(t))"
   ]
  },
  {
   "cell_type": "markdown",
   "metadata": {},
   "source": [
    "可以类似地用下标运算符[]访问tuple的元素："
   ]
  },
  {
   "cell_type": "code",
   "execution_count": 42,
   "metadata": {},
   "outputs": [
    {
     "name": "stdout",
     "output_type": "stream",
     "text": [
      "37\n",
      "('python', [2, 5], 37)\n",
      "('python', [2, 5], 37, 3.14)\n",
      "([2, 5], 37, 3.14, 'https://hwdong-net.github.io')\n"
     ]
    }
   ],
   "source": [
    "print(t[2])\n",
    "print(t[0:3])\n",
    "print(t[:4])    #前面4个元素\n",
    "print(t[-4:])   #后面4个元素"
   ]
  },
  {
   "cell_type": "markdown",
   "metadata": {},
   "source": [
    "注意：只有一个元素的tuple，必须最后加一个逗号。如：(25,)表示一个tuple，而(25)表示的是一个整数。"
   ]
  },
  {
   "cell_type": "code",
   "execution_count": 43,
   "metadata": {},
   "outputs": [
    {
     "name": "stdout",
     "output_type": "stream",
     "text": [
      "<class 'tuple'>\n",
      "<class 'int'>\n"
     ]
    }
   ],
   "source": [
    "print(type((25,)))\n",
    "print(type((25)))"
   ]
  },
  {
   "cell_type": "markdown",
   "metadata": {},
   "source": [
    "### 2.3.4 字符串（str）"
   ]
  },
  {
   "cell_type": "markdown",
   "metadata": {},
   "source": [
    "单引号表示的字符串中可以包含双引号字符，但不能直接包含单引号字符（否则怎么知道字符串的开始结尾在哪里？）。同样的，双引号表示的字符串中可以包含单引号字符，但不能直接包含双引号字符。如："
   ]
  },
  {
   "cell_type": "code",
   "execution_count": 44,
   "metadata": {},
   "outputs": [
    {
     "name": "stdout",
     "output_type": "stream",
     "text": [
      "my name is 'hw-dong'\n",
      "my name is \"hw-dong\"\n"
     ]
    }
   ],
   "source": [
    "print(\"my name is 'hw-dong'\")\n",
    "print('my name is \"hw-dong\"')"
   ]
  },
  {
   "cell_type": "markdown",
   "metadata": {},
   "source": [
    "还可以首尾分别要用3个单引号或双引号包围来表示字符串，其中的字符串甚至可以写在多个行。"
   ]
  },
  {
   "cell_type": "code",
   "execution_count": 45,
   "metadata": {},
   "outputs": [
    {
     "name": "stdout",
     "output_type": "stream",
     "text": [
      "my name is \"hw-dong'\n",
      "my name is \"hw-dong\"\n",
      " '教小白精通编程博客'的网址\n",
      "https://hwdong-net.github.io\n",
      "各种编程语言如python、C++\n",
      "\n"
     ]
    }
   ],
   "source": [
    "print(\"\"\"my name is \"hw-dong'\"\"\")\n",
    "print('''my name is \"hw-dong\"''')\n",
    "print(''' '教小白精通编程博客'的网址\n",
    "https://hwdong-net.github.io\n",
    "各种编程语言如python、C++\n",
    "''')\n"
   ]
  },
  {
   "cell_type": "markdown",
   "metadata": {},
   "source": [
    "## 2.8 实战\n",
    "### 2.8.2 \t二分查找\n",
    "\n",
    "顺序查找"
   ]
  },
  {
   "cell_type": "code",
   "execution_count": 46,
   "metadata": {},
   "outputs": [
    {
     "name": "stdout",
     "output_type": "stream",
     "text": [
      "输入你要查找的数32\n",
      "查找失败！\n"
     ]
    }
   ],
   "source": [
    "arr = [12,46,25,43,58,7,37,5,80,34,105,82]\n",
    "v = int(input(\"输入你要查找的数\"))\n",
    "ok = False\n",
    "for e in arr:\n",
    "    if e==v:\n",
    "        ok = True\n",
    "        break\n",
    "if ok:\n",
    "    print('查找成功！')\n",
    "else: \n",
    "    print('查找失败！')"
   ]
  },
  {
   "cell_type": "markdown",
   "metadata": {},
   "source": [
    "二分查找"
   ]
  },
  {
   "cell_type": "code",
   "execution_count": 50,
   "metadata": {},
   "outputs": [
    {
     "name": "stdout",
     "output_type": "stream",
     "text": [
      "请输入一个查找的整数：46\n",
      "46 对应元素的位置是： 7\n"
     ]
    }
   ],
   "source": [
    "alist = [5,7,12,25,34,37,43,46,58,80,82,105]\n",
    "value = int(input(\"请输入一个查找的整数：\"))\n",
    "\n",
    "L = 0                       # 区间左端点\n",
    "H = len(alist)-1              # 区间右端点\n",
    "found = False\n",
    "loc = -1                   #查找的元素的下标\n",
    "while L<=H:                 # 区间[L，H]存在\n",
    "    Middle = (L+H)//2        # Middle指向区间的中点\n",
    "    if alist[Middle] == value:   # 等于Middle指向的元素，找到了！\n",
    "        loc = Middle\n",
    "        break;\n",
    "    else:\n",
    "        if value < alist[Middle]: \n",
    "            H = Middle-1     # 在左区间查找\n",
    "        else:\n",
    "            L = Middle+1     # 在右区间查找\n",
    "            \n",
    "if loc>0:\n",
    "   print(value,\"对应元素的位置是：\",loc)\n",
    "else:\n",
    "    print(\"未找到\",value)\n"
   ]
  },
  {
   "cell_type": "markdown",
   "metadata": {},
   "source": [
    "## 控制语句\n",
    "### 2.7.1 if条件语句\n",
    "```\n",
    "if 表达式：\n",
    "   程序块代码\n",
    "```"
   ]
  },
  {
   "cell_type": "code",
   "execution_count": 61,
   "metadata": {},
   "outputs": [
    {
     "name": "stdout",
     "output_type": "stream",
     "text": [
      "恭喜你!\n",
      "通过了考试。\n"
     ]
    }
   ],
   "source": [
    "score = 70.5\n",
    "if score>=60:\n",
    "    print(\"恭喜你!\")\n",
    "    print(\"通过了考试。\")"
   ]
  },
  {
   "cell_type": "markdown",
   "metadata": {},
   "source": [
    "if语句体的多个语句必须具有一致的缩进，即这些语句的第一个字母必须对齐，且不能和if关键字对齐。下面的if语句没有缩进是语法错误的:"
   ]
  },
  {
   "cell_type": "code",
   "execution_count": 62,
   "metadata": {},
   "outputs": [
    {
     "ename": "IndentationError",
     "evalue": "expected an indented block (<ipython-input-62-362eeb5f9c61>, line 2)",
     "output_type": "error",
     "traceback": [
      "\u001b[1;36m  File \u001b[1;32m\"<ipython-input-62-362eeb5f9c61>\"\u001b[1;36m, line \u001b[1;32m2\u001b[0m\n\u001b[1;33m    print(\"恭喜你!\")\u001b[0m\n\u001b[1;37m        ^\u001b[0m\n\u001b[1;31mIndentationError\u001b[0m\u001b[1;31m:\u001b[0m expected an indented block\n"
     ]
    }
   ],
   "source": [
    "if score>=60:\n",
    "print(\"恭喜你!\")\n",
    "print(\"通过了考试。\")"
   ]
  },
  {
   "cell_type": "markdown",
   "metadata": {},
   "source": [
    "同样，if语句体中语句不具有“一致的”缩进也是错误的。"
   ]
  },
  {
   "cell_type": "code",
   "execution_count": 63,
   "metadata": {},
   "outputs": [
    {
     "ename": "IndentationError",
     "evalue": "expected an indented block (<ipython-input-63-a3666f2411bf>, line 2)",
     "output_type": "error",
     "traceback": [
      "\u001b[1;36m  File \u001b[1;32m\"<ipython-input-63-a3666f2411bf>\"\u001b[1;36m, line \u001b[1;32m2\u001b[0m\n\u001b[1;33m    print(\"恭喜你!\")\u001b[0m\n\u001b[1;37m        ^\u001b[0m\n\u001b[1;31mIndentationError\u001b[0m\u001b[1;31m:\u001b[0m expected an indented block\n"
     ]
    }
   ],
   "source": [
    "if score>=60:\n",
    "print(\"恭喜你!\")\n",
    " print(\"通过了考试。\")"
   ]
  },
  {
   "cell_type": "markdown",
   "metadata": {},
   "source": [
    "if语句还有另外一种形式(if-else)：\n",
    "```\n",
    "if 表达式:\n",
    "   程序块1\n",
    "else:\n",
    "   程序块2\n",
    "```"
   ]
  },
  {
   "cell_type": "code",
   "execution_count": 64,
   "metadata": {},
   "outputs": [
    {
     "name": "stdout",
     "output_type": "stream",
     "text": [
      "请输入学生成绩：76\n",
      "恭喜你!\n",
      "通过了考试。\n"
     ]
    }
   ],
   "source": [
    "score= int(input(\"请输入学生成绩：\"));\n",
    "if score>=60:\n",
    "    print(\"恭喜你!\")\n",
    "    print(\"通过了考试。\")\n",
    "else:\n",
    "    print(\"很可惜！\")\n",
    "    print(\"你未通过考试。\")\n",
    "    print(\"继续努力，加油！\")"
   ]
  },
  {
   "cell_type": "code",
   "execution_count": null,
   "metadata": {},
   "outputs": [],
   "source": [
    "if语句还有另外一种形式(if-elif-else)：\n",
    "```\n",
    "if 表达式1:\n",
    "   程序块1\n",
    "elif 表达式2:\n",
    "   程序块2\n",
    "elif 表达式3:\n",
    "   程序块3.\n",
    "else:\n",
    "   程序块k\n",
    "```\n"
   ]
  },
  {
   "cell_type": "code",
   "execution_count": 65,
   "metadata": {},
   "outputs": [
    {
     "name": "stdout",
     "output_type": "stream",
     "text": [
      "请输入学生成绩：76\n",
      "中等\n"
     ]
    }
   ],
   "source": [
    "score= int(input(\"请输入学生成绩：\"));\n",
    "if score<60:\n",
    "    print(\"不及格\")\n",
    "elif score<70:\n",
    "    print(\"及格\")\n",
    "elif score<80:\n",
    "    print(\"中等\")\n",
    "elif score<90:\n",
    "    print(\"良好\")\n",
    "else:\n",
    "    print(\"优秀\");"
   ]
  },
  {
   "cell_type": "markdown",
   "metadata": {},
   "source": [
    "if ...else…还有如下的一种用法：\n",
    "```\n",
    "    A if B else C  \n",
    "```"
   ]
  },
  {
   "cell_type": "code",
   "execution_count": 69,
   "metadata": {},
   "outputs": [
    {
     "name": "stdout",
     "output_type": "stream",
     "text": [
      "a:3\n",
      "b:5\n",
      "(a>b)不成立\n"
     ]
    }
   ],
   "source": [
    "a,b = int(input(\"a:\")),int(input(\"b:\"))\n",
    "print(\"a>b\") if a>b else  print(\"(a>b)不成立\")"
   ]
  },
  {
   "cell_type": "markdown",
   "metadata": {},
   "source": [
    "### 2.7.2 循环语句\n",
    "\n",
    "#### while语句的格式如下\n",
    "```\n",
    "while 表达式:\n",
    "      程序块\n",
    "```\n",
    "如："
   ]
  },
  {
   "cell_type": "code",
   "execution_count": 55,
   "metadata": {},
   "outputs": [
    {
     "name": "stdout",
     "output_type": "stream",
     "text": [
      "500500\n"
     ]
    }
   ],
   "source": [
    "i = 1\n",
    "s = 0\n",
    "while i<=1000:\n",
    "   s = s+i;      #等价于  s += i\n",
    "   i+=1\n",
    "print(s)"
   ]
  },
  {
   "cell_type": "markdown",
   "metadata": {},
   "source": [
    "可以用while语句编写计算学生平均成绩："
   ]
  },
  {
   "cell_type": "code",
   "execution_count": 56,
   "metadata": {},
   "outputs": [
    {
     "name": "stdout",
     "output_type": "stream",
     "text": [
      "请输入学生成绩：35\n",
      "请输入学生成绩：68\n",
      "请输入学生成绩：90.5\n",
      "请输入学生成绩：56.7\n",
      "请输入学生成绩：-3\n",
      "平均成绩为： 62.55\n"
     ]
    }
   ],
   "source": [
    "total_score=0\n",
    "i= 0\n",
    "score = float(input(\"请输入学生成绩：\"))\n",
    "while score>=0:\n",
    "    total_score += score\n",
    "    i += 1\n",
    "    score = float(input(\"请输入学生成绩：\"))\n",
    "    \n",
    "print('平均成绩为：', total_score/i)   "
   ]
  },
  {
   "cell_type": "markdown",
   "metadata": {},
   "source": [
    "#### 2.\tfor语句\n",
    "\n",
    "其格式是：\n",
    "```\n",
    "for  e  in 可迭代对象:\n",
    "    对e的处理语句块\n",
    "```"
   ]
  },
  {
   "cell_type": "code",
   "execution_count": 57,
   "metadata": {},
   "outputs": [
    {
     "name": "stdout",
     "output_type": "stream",
     "text": [
      "The sum is 271\n"
     ]
    }
   ],
   "source": [
    "numbers = [23, 41,19,87,67,2,32]\n",
    "sum = 0\n",
    "# 对列表中的每个元素val\n",
    "for val in numbers: \n",
    "   sum = sum+val\n",
    "print(\"The sum is\", sum)   # 输出和sum"
   ]
  },
  {
   "cell_type": "markdown",
   "metadata": {},
   "source": [
    "### 2.8.2 排序：冒泡、选择"
   ]
  },
  {
   "cell_type": "code",
   "execution_count": null,
   "metadata": {},
   "outputs": [],
   "source": [
    "1.\t冒泡排序"
   ]
  },
  {
   "cell_type": "code",
   "execution_count": 51,
   "metadata": {},
   "outputs": [
    {
     "name": "stdout",
     "output_type": "stream",
     "text": [
      "[38, 27, 49, 76, 13, 27, 49, 97]\n",
      "[27, 38, 49, 13, 27, 49, 76, 97]\n",
      "[27, 38, 13, 27, 49, 49, 76, 97]\n",
      "[27, 13, 27, 38, 49, 49, 76, 97]\n",
      "[13, 27, 27, 38, 49, 49, 76, 97]\n",
      "[13, 27, 27, 38, 49, 49, 76, 97]\n",
      "[13, 27, 27, 38, 49, 49, 76, 97]\n",
      "[13, 27, 27, 38, 49, 49, 76, 97]\n"
     ]
    }
   ],
   "source": [
    "alist = [49,38,27,97,76,13,27,49]\n",
    "debug = True\n",
    "\n",
    "for i in range(len(alist)-1,0,-1):\n",
    "        for j in range(i):                          #一趟冒泡\n",
    "            if alist[j]>alist[j+1]:\n",
    "                #temp = alist[j]\n",
    "                #alist[j] = alist[j+1]\n",
    "                #alist[j+1] = temp\n",
    "                alist[j],alist[j+1] = alist[j+1],alist[j]  #交换2个元素      \n",
    "        if debug:\n",
    "           print(alist)\n",
    "print(alist)       "
   ]
  },
  {
   "cell_type": "markdown",
   "metadata": {},
   "source": [
    "### 2.8.3 Floyd最短路径算法\n",
    "\n",
    "![](imgs/2.5.png)"
   ]
  },
  {
   "cell_type": "code",
   "execution_count": 52,
   "metadata": {},
   "outputs": [
    {
     "name": "stdout",
     "output_type": "stream",
     "text": [
      "[0, 2, 6, 4]\n",
      "[100000.0, 0, 3, 100000.0]\n",
      "[7, 100000.0, 0, 1]\n",
      "[5, 100000.0, 12, 0]\n",
      "\n",
      "[0, 0, 0, 0]\n",
      "[1, 1, 1, 1]\n",
      "[2, 2, 2, 2]\n",
      "[3, 3, 3, 3]\n",
      "\n",
      "[0, 2, 5, 4]\n",
      "[9, 0, 3, 4]\n",
      "[6, 8, 0, 1]\n",
      "[5, 7, 10, 0]\n",
      "\n",
      "[0, 0, 1, 0]\n",
      "[3, 1, 1, 2]\n",
      "[3, 0, 2, 2]\n",
      "[3, 0, 1, 3]\n"
     ]
    }
   ],
   "source": [
    "n = 4\n",
    "INFINITY = 100000.0                    #假设这是一个很大的数值\n",
    "\n",
    "D=[[0,2,6,4],                           #距离矩阵\n",
    "   [INFINITY,0,3,INFINITY],\n",
    "   [7,INFINITY,0,1],\n",
    "   [5,INFINITY,12,0]]\n",
    "\n",
    "P = [[0,0,0,0],[0,0,0,0],[0,0,0,0],[0,0,0,0]]    #路径矩阵\n",
    "#初始化路径矩阵，即P[u][v]记录直达路径uv的终点v前面的顶点u\n",
    "for u in range(0,n):\n",
    "    for v in range(0,n):\n",
    "        P[u][v] = u\n",
    "        \n",
    "print(*D,sep = \"\\n\")        # *D是后面函数参数要介绍的“解封参数列表”传递参数方式，\n",
    "                         # sep= \"\\n\"表示每个输出元素之间的分割符是换行符”\\n”\n",
    "print()\n",
    "print(*P,sep = \"\\n\")\n",
    "print()\n",
    "\n",
    "for w in range(0,n):                                     #绕包顶点w\n",
    "    for u in range(0,n):\n",
    "        for v in range(0,n):\n",
    "#其他顶点u、v会不会因为绕道w距离变的更短？\n",
    "            if w!=u and w!=v and D[u][w] + D[w][v] < D[u][v] :                \n",
    "                D[u][v] = D[u][w] + D[w][v] \n",
    "                P[u][v] = P[w][v] \n",
    "                \n",
    "print(*D,sep = \"\\n\")\n",
    "print()\n",
    "print(*P,sep = \"\\n\")"
   ]
  },
  {
   "cell_type": "markdown",
   "metadata": {},
   "source": [
    "根据路径矩阵P，对于任何一对顶点u,v，其路径可以从终点倒过来追踪到起点。即终点是v，其前一个顶点是 P[u][v]，再前一个顶点是`P[u][ P[u][v] ]`，"
   ]
  },
  {
   "cell_type": "code",
   "execution_count": 54,
   "metadata": {},
   "outputs": [
    {
     "name": "stdout",
     "output_type": "stream",
     "text": [
      "0 到 1 的逆向路径是: 1,0\n",
      "0 到 2 的逆向路径是: 2,1,0\n",
      "0 到 3 的逆向路径是: 3,0\n",
      "1 到 0 的逆向路径是: 0,3,2,1\n",
      "1 到 2 的逆向路径是: 2,1\n",
      "1 到 3 的逆向路径是: 3,2,1\n",
      "2 到 0 的逆向路径是: 0,3,2\n",
      "2 到 1 的逆向路径是: 1,0,3,2\n",
      "2 到 3 的逆向路径是: 3,2\n",
      "3 到 0 的逆向路径是: 0,3\n",
      "3 到 1 的逆向路径是: 1,0,3\n",
      "3 到 2 的逆向路径是: 2,1,0,3\n"
     ]
    }
   ],
   "source": [
    "for u in range(0,n):\n",
    "    for v in range(0,n):\n",
    "        if u==v:\n",
    "             continue\n",
    "        print(u,'到',v,'的逆向路径是:', end=' ')\n",
    "        print(v,end= ',')\n",
    "        w = P[u][v]\n",
    "        while w!=u:\n",
    "            print(w,end= ',')\n",
    "            w = P[u][w] \n",
    "        print(u)           \n"
   ]
  },
  {
   "cell_type": "code",
   "execution_count": null,
   "metadata": {},
   "outputs": [],
   "source": []
  }
 ],
 "metadata": {
  "kernelspec": {
   "display_name": "Python 3",
   "language": "python",
   "name": "python3"
  },
  "language_info": {
   "codemirror_mode": {
    "name": "ipython",
    "version": 3
   },
   "file_extension": ".py",
   "mimetype": "text/x-python",
   "name": "python",
   "nbconvert_exporter": "python",
   "pygments_lexer": "ipython3",
   "version": "3.7.4"
  }
 },
 "nbformat": 4,
 "nbformat_minor": 2
}
