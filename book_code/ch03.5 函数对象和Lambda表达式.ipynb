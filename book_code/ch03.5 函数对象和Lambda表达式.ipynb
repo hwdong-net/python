{
 "cells": [
  {
   "cell_type": "markdown",
   "metadata": {},
   "source": [
    "## 3.5 函数对象和Lambda表达式\n",
    "\n",
    "### 3.5.1 函数对象\n",
    "\n",
    "#### 1.\t函数也是一个对象\n",
    "\n",
    "在Python中，函数也是对象，是作为Object类的对象，因此，和其他如int、list对象一样使用：\n",
    "```\n",
    "\t用一个变量引用一个函数\n",
    "\t将函数作为另外一个函数的参数\n",
    "\t从一个函数里返回另外一个函数\n",
    "\t将函数存储在各种数据结构如list、tuple、set里\n",
    "```\n",
    "函数作为一个对象，也具有对象的3个属性：id、type和值。例如对于下面的square函数，我们可以检查它的id和type属性："
   ]
  },
  {
   "cell_type": "code",
   "execution_count": 2,
   "metadata": {},
   "outputs": [
    {
     "name": "stdout",
     "output_type": "stream",
     "text": [
      "2434938172040\n",
      "<class 'function'>\n"
     ]
    }
   ],
   "source": [
    "def square(x):   \n",
    "    return x*x\n",
    "    \n",
    "print(id(square))\n",
    "print(type(square))"
   ]
  },
  {
   "cell_type": "markdown",
   "metadata": {},
   "source": [
    "既然函数也是一个对象，当然可以将函数赋值给一个变量："
   ]
  },
  {
   "cell_type": "code",
   "execution_count": 3,
   "metadata": {},
   "outputs": [],
   "source": [
    "fun = square"
   ]
  },
  {
   "cell_type": "markdown",
   "metadata": {},
   "source": [
    "然后通过变量fun去调用它引用的对象square："
   ]
  },
  {
   "cell_type": "code",
   "execution_count": 4,
   "metadata": {},
   "outputs": [
    {
     "data": {
      "text/plain": [
       "12.25"
      ]
     },
     "execution_count": 4,
     "metadata": {},
     "output_type": "execute_result"
    }
   ],
   "source": [
    "fun(3.5)"
   ]
  },
  {
   "cell_type": "markdown",
   "metadata": {},
   "source": [
    "函数名square和后来的变量名fun都是同一个函数对象的名字而已。"
   ]
  },
  {
   "cell_type": "code",
   "execution_count": 5,
   "metadata": {},
   "outputs": [
    {
     "name": "stdout",
     "output_type": "stream",
     "text": [
      "2434938172040\n",
      "2434938172040\n",
      "True\n"
     ]
    }
   ],
   "source": [
    "print(id(fun))\n",
    "print(id(square))\n",
    "print(fun is square)"
   ]
  },
  {
   "cell_type": "markdown",
   "metadata": {},
   "source": [
    "#### 2.\t函数可以放在容器内\n",
    "\n",
    "比如下面的代码将2个函数square()和cube()放在一个funcs指向的dict字典对象中。然后通过for… in遍历这个funcs中的每个字典元素，调用字典元素的值指向的函数。"
   ]
  },
  {
   "cell_type": "code",
   "execution_count": 6,
   "metadata": {},
   "outputs": [
    {
     "name": "stdout",
     "output_type": "stream",
     "text": [
      "4\n",
      "8\n",
      "sq 4\n",
      "cb 8\n"
     ]
    }
   ],
   "source": [
    "def square(x):   \n",
    "    return x*x\n",
    "\n",
    "def cube(x):\n",
    "    \"\"\"Cube of x.\"\"\"\n",
    "    return x*x*x\n",
    "\n",
    "funcs = {\n",
    "    'sq': square,\n",
    "    'cb': cube,\n",
    "}\n",
    "\n",
    "x = 2\n",
    "print(square(x))\n",
    "print(cube(x))\n",
    "\n",
    "for func in funcs:\n",
    "    print(func, funcs[func](x))"
   ]
  },
  {
   "cell_type": "markdown",
   "metadata": {},
   "source": [
    "当然也可以将函数放在其他容器比如一个list对象中："
   ]
  },
  {
   "cell_type": "code",
   "execution_count": 7,
   "metadata": {},
   "outputs": [
    {
     "name": "stdout",
     "output_type": "stream",
     "text": [
      "4\n",
      "8\n"
     ]
    }
   ],
   "source": [
    "fun_list= [square,cube]\n",
    "for fun in fun_list:\n",
    "    print(fun(x))"
   ]
  },
  {
   "cell_type": "markdown",
   "metadata": {},
   "source": [
    "#### 3.\t函数可以作为返回值"
   ]
  },
  {
   "cell_type": "code",
   "execution_count": 8,
   "metadata": {},
   "outputs": [
    {
     "name": "stdout",
     "output_type": "stream",
     "text": [
      "36\n"
     ]
    }
   ],
   "source": [
    "def Squ():\n",
    "    return  square\n",
    "\n",
    "f = Squ()\n",
    "print(f(6))"
   ]
  },
  {
   "cell_type": "markdown",
   "metadata": {},
   "source": [
    "#### 4.\t函数可以嵌套"
   ]
  },
  {
   "cell_type": "code",
   "execution_count": 9,
   "metadata": {},
   "outputs": [
    {
     "name": "stdout",
     "output_type": "stream",
     "text": [
      "30\n"
     ]
    }
   ],
   "source": [
    "def Square(x):\n",
    "   def f():\n",
    "      return x*x\n",
    "   y = f()     #调用函数f()\n",
    "   return y+x\n",
    "\n",
    "print(Square(5))"
   ]
  },
  {
   "cell_type": "markdown",
   "metadata": {},
   "source": [
    "注意：嵌套函数可以访问其包围环境中的数据，比如f()可以访问包围它的函数Square()的参数(局部变量)x。\n",
    "嵌套函数不能修改包围环境中的变量，除非该变量在嵌套函数中被声明为nonlocal。"
   ]
  },
  {
   "cell_type": "code",
   "execution_count": 10,
   "metadata": {},
   "outputs": [
    {
     "name": "stdout",
     "output_type": "stream",
     "text": [
      "9\n"
     ]
    }
   ],
   "source": [
    "def Square(x):\n",
    "   def f():\n",
    "      x = 2\n",
    "      return x*x\n",
    "   y = f()\n",
    "   return y+x   \n",
    "\n",
    "print(Square(5))"
   ]
  },
  {
   "cell_type": "markdown",
   "metadata": {},
   "source": [
    "但如果在f()函数中，声明了“nonlocal x”，则这个x将是f()的包围环境即Square(x)中的x。"
   ]
  },
  {
   "cell_type": "code",
   "execution_count": 11,
   "metadata": {},
   "outputs": [
    {
     "name": "stdout",
     "output_type": "stream",
     "text": [
      "6\n"
     ]
    }
   ],
   "source": [
    "def Square(x):\n",
    "   def f():\n",
    "      nonlocal x\n",
    "      x = 2\n",
    "      return x*x\n",
    "   y = f()\n",
    "   return y+x   \n",
    "\n",
    "print(Square(5))"
   ]
  },
  {
   "cell_type": "markdown",
   "metadata": {},
   "source": [
    "#### 5.\t函数可以作为其他函数的参数"
   ]
  },
  {
   "cell_type": "code",
   "execution_count": 12,
   "metadata": {},
   "outputs": [
    {
     "name": "stdout",
     "output_type": "stream",
     "text": [
      "4 9 16 25 "
     ]
    }
   ],
   "source": [
    "def SquList(L,fun):\n",
    "    for e in L:\n",
    "        print(fun(e),end=\" \")\n",
    "        \n",
    "SquList([2,3,4,5],square)   "
   ]
  },
  {
   "cell_type": "markdown",
   "metadata": {},
   "source": [
    "### 3.5.2 Lambda表达式（匿名函数）\n",
    "\n",
    "1.\t定义Lambda表达式（匿名函数）\n",
    "其定义格式为：\n",
    "```\n",
    "lambda 参数: 语句\n",
    "```\n",
    "例如，下面定义一个带有参数x、y的Lambda函数："
   ]
  },
  {
   "cell_type": "code",
   "execution_count": null,
   "metadata": {},
   "outputs": [],
   "source": [
    "lambda x, y: x + y"
   ]
  },
  {
   "cell_type": "markdown",
   "metadata": {},
   "source": [
    "但这个Lambda函数没有名字，无法使用它。函数既然也是对象，当然可以给Lambda函数一个名字（即通过赋值运算符给函数一个名字add）："
   ]
  },
  {
   "cell_type": "code",
   "execution_count": 14,
   "metadata": {},
   "outputs": [],
   "source": [
    "add = lambda x, y: x + y"
   ]
  },
  {
   "cell_type": "markdown",
   "metadata": {},
   "source": [
    "然后可以调用add引用的这个Lambda函数，并传递实际参数给这个Lambda函数。"
   ]
  },
  {
   "cell_type": "code",
   "execution_count": 15,
   "metadata": {},
   "outputs": [
    {
     "name": "stdout",
     "output_type": "stream",
     "text": [
      "8\n"
     ]
    }
   ],
   "source": [
    "print(add(3, 5))"
   ]
  },
  {
   "cell_type": "markdown",
   "metadata": {},
   "source": [
    "#### 2.\tLambda函数有什么用？\n",
    "\n",
    "Lambda函数主要用作函数的参数。有些函数需要接受另外一个函数作为其参数，使用Lambda表达式可以避免专门为这些函数写一个作为其参数的普通函数。\n"
   ]
  },
  {
   "cell_type": "code",
   "execution_count": 16,
   "metadata": {},
   "outputs": [
    {
     "name": "stdout",
     "output_type": "stream",
     "text": [
      "[-7, -5, 1, 3, 9]\n",
      "[9, 3, 1, -5, -7]\n"
     ]
    }
   ],
   "source": [
    "alist = [-5,3,1,-7,9]\n",
    "print(sorted(alist))        \n",
    "print(sorted(alist,reverse= True))"
   ]
  },
  {
   "cell_type": "markdown",
   "metadata": {},
   "source": [
    "上面的正序和逆序都是按照数据元素的值的大小进行比较而排序的。如果希望按照另外的某种大小比较方式（比如绝对值）排序，就需要传递一个作为key参数的函数，这个key函数用于计算一个数据元素的关键字值，sorted()函数将按照这个关键字进行大小比较的排序。为此，需要写一个key函数从数据元素e中得到其键值（key）："
   ]
  },
  {
   "cell_type": "code",
   "execution_count": 17,
   "metadata": {},
   "outputs": [],
   "source": [
    "def Key(e):\n",
    "   return abs(e)"
   ]
  },
  {
   "cell_type": "markdown",
   "metadata": {},
   "source": [
    "然后可以将这个Key函数传给sorted函数的key形参："
   ]
  },
  {
   "cell_type": "code",
   "execution_count": 18,
   "metadata": {},
   "outputs": [
    {
     "name": "stdout",
     "output_type": "stream",
     "text": [
      "[1, 3, -5, -7, 9]\n"
     ]
    }
   ],
   "source": [
    "print(sorted(alist,key=Key))"
   ]
  },
  {
   "cell_type": "markdown",
   "metadata": {},
   "source": [
    "上面的Key函数只有一行代码，完全可以用Lambda函数代替这个函数Key()作为sorted函数的key参数："
   ]
  },
  {
   "cell_type": "code",
   "execution_count": 19,
   "metadata": {},
   "outputs": [
    {
     "name": "stdout",
     "output_type": "stream",
     "text": [
      "[1, 3, -5, -7, 9]\n"
     ]
    }
   ],
   "source": [
    "print(sorted(alist,key=lambda x: abs(x)))"
   ]
  },
  {
   "cell_type": "markdown",
   "metadata": {},
   "source": [
    "这种用Lambda函数代替普通函数作为其他函数形参的方式，避免了单独写一个普通函数，使得代码更加清晰可读。"
   ]
  },
  {
   "cell_type": "markdown",
   "metadata": {},
   "source": [
    "list对象也有一个类似的排序方法sort:\n",
    "```\n",
    "list.sort([key=..., reverse=...])\n",
    "```\n",
    "可以同样用Lambda函数作为其key参数："
   ]
  },
  {
   "cell_type": "code",
   "execution_count": 20,
   "metadata": {},
   "outputs": [
    {
     "name": "stdout",
     "output_type": "stream",
     "text": [
      "[(4, 1), (2, 2), (1, 3), (3, 4)]\n"
     ]
    }
   ],
   "source": [
    "alist = [(2, 2), (3, 4), (4, 1), (1, 3)]\n",
    "alist.sort(key = lambda e:e[1])\n",
    "print(alist)"
   ]
  },
  {
   "cell_type": "markdown",
   "metadata": {},
   "source": [
    "#### 3.\tmap，filter\n",
    "\n",
    "1)\tmap() \n",
    "内置函数map()的规范是：\n",
    "```\n",
    "map(function, *iterable)\n",
    "\n",
    "其中的iterable是可变形参，即可以接受多个可迭代对象。map()函数将第一个参数function指向的函数对象作用于每个可迭代对象的每个数据元素上。"
   ]
  },
  {
   "cell_type": "code",
   "execution_count": 21,
   "metadata": {},
   "outputs": [
    {
     "name": "stdout",
     "output_type": "stream",
     "text": [
      "(9, 16, 25, 36, 49)\n",
      "[9, 16, 25, 36, 49]\n"
     ]
    }
   ],
   "source": [
    "def square(x):   \n",
    "    return x*x\n",
    "\n",
    "ret = map(square,[3,4,5,6,7])     #将square作用域list对象的每个元素上\n",
    "print(tuple(ret))                 # 用返回的迭代器对象ret构造一个tuple对象\n",
    "ret = map(square,[3,4,5,6,7])\n",
    "print(list(ret))                  # 用返回的迭代器对象ret构造一个list对象\n"
   ]
  },
  {
   "cell_type": "code",
   "execution_count": 22,
   "metadata": {},
   "outputs": [
    {
     "name": "stdout",
     "output_type": "stream",
     "text": [
      "[9, 16, 25, 36, 49]\n",
      "[9, 16, 25, 36, 49]\n",
      "[9, 16, 25, 36, 49]\n"
     ]
    }
   ],
   "source": [
    "#用返回的迭代器构造一个list对象,\n",
    "alist = list(map(square,[3,4,5,6,7]))\n",
    "#类似于执行下面的代码：\n",
    "blist = [square(x) for x in [3,4,5,6,7]]\n",
    "print(alist)\n",
    "print(blist)\n",
    "print([square(x) for x in [3,4,5,6,7] ])"
   ]
  },
  {
   "cell_type": "code",
   "execution_count": 23,
   "metadata": {},
   "outputs": [
    {
     "name": "stdout",
     "output_type": "stream",
     "text": [
      "(3, 20, 6)\n"
     ]
    }
   ],
   "source": [
    "ret = map(lambda x , y : x * y, [1,4,3],[3,5,2,6])\n",
    "print(tuple(ret))"
   ]
  },
  {
   "cell_type": "code",
   "execution_count": 24,
   "metadata": {},
   "outputs": [
    {
     "name": "stdout",
     "output_type": "stream",
     "text": [
      "((3, 4), (20, 9), (6, 5))\n"
     ]
    }
   ],
   "source": [
    "ret = map(lambda x , y : (x * y,x+y), [1,4,3],[3,5,2,6])\n",
    "print(tuple(ret))"
   ]
  },
  {
   "cell_type": "code",
   "execution_count": 25,
   "metadata": {},
   "outputs": [
    {
     "name": "stdout",
     "output_type": "stream",
     "text": [
      "((21, 11), (160, 17), (54, 14))\n"
     ]
    }
   ],
   "source": [
    "ret = map(lambda x , y,z : (x * y*z,x+y+z), [1,4,3],[3,5,2,6],[7,8,9,10])\n",
    "print(tuple(ret))"
   ]
  },
  {
   "cell_type": "markdown",
   "metadata": {},
   "source": [
    "2)\tfilter()\n",
    "内置函数的规范：\n",
    "filter(function or None, iterable)\n",
    "它接受一个函数（或空值对象）和一个可迭代对象，返回的是一个迭代器对象，新的迭代器对象的每个元素都是被函数function判断为True的原迭代器中的元素。同样，可以用返回的迭代器构造一个list或tuple对象。例如："
   ]
  },
  {
   "cell_type": "code",
   "execution_count": 28,
   "metadata": {},
   "outputs": [
    {
     "name": "stdout",
     "output_type": "stream",
     "text": [
      "(-5, -4, -3, -2, -1)\n"
     ]
    }
   ],
   "source": [
    "numbers = range(-5, 5)\n",
    "ret = filter(lambda x: x < 0, numbers)\n",
    "less_than_zero = tuple(ret)\n",
    "print(less_than_zero)"
   ]
  },
  {
   "cell_type": "code",
   "execution_count": null,
   "metadata": {},
   "outputs": [],
   "source": []
  }
 ],
 "metadata": {
  "kernelspec": {
   "display_name": "Python 3",
   "language": "python",
   "name": "python3"
  },
  "language_info": {
   "codemirror_mode": {
    "name": "ipython",
    "version": 3
   },
   "file_extension": ".py",
   "mimetype": "text/x-python",
   "name": "python",
   "nbconvert_exporter": "python",
   "pygments_lexer": "ipython3",
   "version": "3.7.4"
  }
 },
 "nbformat": 4,
 "nbformat_minor": 2
}
