{
 "cells": [
  {
   "cell_type": "markdown",
   "metadata": {},
   "source": [
    "定义一个类的格式：\n",
    "```python\n",
    "class 类名:     \n",
    "    类体\n",
    "```\n",
    "定义一个叫做Employee的类："
   ]
  },
  {
   "cell_type": "code",
   "execution_count": 1,
   "metadata": {},
   "outputs": [],
   "source": [
    "class Employee:\n",
    "    pass"
   ]
  },
  {
   "cell_type": "markdown",
   "metadata": {},
   "source": [
    "有了类的定义，就可以定义类的实例（也就是对象）："
   ]
  },
  {
   "cell_type": "code",
   "execution_count": 2,
   "metadata": {},
   "outputs": [
    {
     "data": {
      "text/plain": [
       "__main__.Employee"
      ]
     },
     "execution_count": 2,
     "metadata": {},
     "output_type": "execute_result"
    }
   ],
   "source": [
    "e = Employee()\n",
    "type(e)"
   ]
  },
  {
   "cell_type": "markdown",
   "metadata": {},
   "source": [
    "Python的类默认都继承自object类，即其父类是object，该类是其父类object的子类。"
   ]
  },
  {
   "cell_type": "code",
   "execution_count": 3,
   "metadata": {},
   "outputs": [
    {
     "data": {
      "text/plain": [
       "True"
      ]
     },
     "execution_count": 3,
     "metadata": {},
     "output_type": "execute_result"
    }
   ],
   "source": [
    "issubclass(Employee,object)"
   ]
  },
  {
   "cell_type": "markdown",
   "metadata": {},
   "source": [
    "### 5.2.2 实例属性和构造函数：__init__()\n",
    "\n",
    "创建一个类对象（实例）后，可以直接用“成员访问运算符”即句号.给这个实例添加不同的属性："
   ]
  },
  {
   "cell_type": "code",
   "execution_count": 4,
   "metadata": {},
   "outputs": [
    {
     "name": "stdout",
     "output_type": "stream",
     "text": [
      "LiPing 5000\n",
      "WangWei 6000\n"
     ]
    }
   ],
   "source": [
    "e = Employee()\n",
    "e2 = Employee()\n",
    "e.name = 'LiPing'\n",
    "e.salary = 5000\n",
    "e2.name = 'WangWei'\n",
    "e2.salary = 6000\n",
    "print(e.name,e.salary)\n",
    "print(e2.name,e2.salary)"
   ]
  },
  {
   "cell_type": "markdown",
   "metadata": {},
   "source": [
    "Python创建一个类的实例（对象）是通过一个叫做构造函数的__init__()方法完成的。Employee虽然没有定义这个构造函数，但Python会自动生成一个默认的__init__()方法："
   ]
  },
  {
   "cell_type": "code",
   "execution_count": 5,
   "metadata": {},
   "outputs": [],
   "source": [
    "class Employee:\n",
    "    def __init__(self):\n",
    "        super().__init__()"
   ]
  },
  {
   "cell_type": "markdown",
   "metadata": {},
   "source": [
    "默认的构造函数会默认调用其父类的super().__init__()方法对这个对象的从父类继承下来的属性进行初始化。super()用于得到这个类的父类。当用“Employee()”创建一个类的对象时，会自动调用这个构造函数对创建的对象进行初始化。为验证这一点，可以在Employee的这个方法中人为地添加一条打印语句："
   ]
  },
  {
   "cell_type": "code",
   "execution_count": 6,
   "metadata": {},
   "outputs": [
    {
     "name": "stdout",
     "output_type": "stream",
     "text": [
      "Employee构造函数用于创建一个对象\n"
     ]
    }
   ],
   "source": [
    "class Employee:\n",
    "    def __init__(self):\n",
    "        print('Employee构造函数用于创建一个对象')\n",
    "        super().__init__()\n",
    "e = Employee()"
   ]
  },
  {
   "cell_type": "markdown",
   "metadata": {},
   "source": [
    "类的构造函数__init__()方法除了self参数，还可以传递其他参数，通常传递用于初始化实例属性的参数。如："
   ]
  },
  {
   "cell_type": "code",
   "execution_count": 7,
   "metadata": {},
   "outputs": [],
   "source": [
    "class Employee:\n",
    "    def __init__(self, Name, Salary):\n",
    "        self.name = Name\n",
    "        self.salary = Salary"
   ]
  },
  {
   "cell_type": "code",
   "execution_count": 8,
   "metadata": {},
   "outputs": [
    {
     "name": "stdout",
     "output_type": "stream",
     "text": [
      "Li ping  \t 5000\n"
     ]
    }
   ],
   "source": [
    "e = Employee('Li ping',5000)\n",
    "print(e.name,' \\t',e.salary)"
   ]
  },
  {
   "cell_type": "markdown",
   "metadata": {},
   "source": [
    "构造函数有3个参数，但在创建对象时，只要传递除self外的其他参数就可以了，不需要也无法传递self参数。当然如果传入的实参个数少于2或多于2，就会出错："
   ]
  },
  {
   "cell_type": "code",
   "execution_count": 9,
   "metadata": {},
   "outputs": [
    {
     "ename": "TypeError",
     "evalue": "__init__() missing 1 required positional argument: 'Salary'",
     "output_type": "error",
     "traceback": [
      "\u001b[1;31m---------------------------------------------------------------------------\u001b[0m",
      "\u001b[1;31mTypeError\u001b[0m                                 Traceback (most recent call last)",
      "\u001b[1;32m<ipython-input-9-b342e3174e65>\u001b[0m in \u001b[0;36m<module>\u001b[1;34m\u001b[0m\n\u001b[1;32m----> 1\u001b[1;33m \u001b[0me\u001b[0m \u001b[1;33m=\u001b[0m \u001b[0mEmployee\u001b[0m\u001b[1;33m(\u001b[0m\u001b[1;34m'Li ping'\u001b[0m\u001b[1;33m)\u001b[0m\u001b[1;33m\u001b[0m\u001b[1;33m\u001b[0m\u001b[0m\n\u001b[0m",
      "\u001b[1;31mTypeError\u001b[0m: __init__() missing 1 required positional argument: 'Salary'"
     ]
    }
   ],
   "source": [
    "e = Employee('Li ping')"
   ]
  },
  {
   "cell_type": "markdown",
   "metadata": {},
   "source": [
    "同样，执行："
   ]
  },
  {
   "cell_type": "code",
   "execution_count": 12,
   "metadata": {},
   "outputs": [
    {
     "ename": "TypeError",
     "evalue": "__init__() takes 3 positional arguments but 4 were given",
     "output_type": "error",
     "traceback": [
      "\u001b[1;31m---------------------------------------------------------------------------\u001b[0m",
      "\u001b[1;31mTypeError\u001b[0m                                 Traceback (most recent call last)",
      "\u001b[1;32m<ipython-input-12-3151b6cb5786>\u001b[0m in \u001b[0;36m<module>\u001b[1;34m\u001b[0m\n\u001b[1;32m----> 1\u001b[1;33m \u001b[0me\u001b[0m \u001b[1;33m=\u001b[0m \u001b[0mEmployee\u001b[0m\u001b[1;33m(\u001b[0m\u001b[1;34m'Liping'\u001b[0m\u001b[1;33m,\u001b[0m\u001b[1;36m5000\u001b[0m\u001b[1;33m,\u001b[0m\u001b[1;34m'hi'\u001b[0m\u001b[1;33m)\u001b[0m\u001b[1;33m\u001b[0m\u001b[1;33m\u001b[0m\u001b[0m\n\u001b[0m",
      "\u001b[1;31mTypeError\u001b[0m: __init__() takes 3 positional arguments but 4 were given"
     ]
    }
   ],
   "source": [
    "e = Employee('Liping',5000,'hi')"
   ]
  },
  {
   "cell_type": "markdown",
   "metadata": {},
   "source": [
    "当然构造函数的参数名和对象实例属性名相同也是可以的。"
   ]
  },
  {
   "cell_type": "code",
   "execution_count": 13,
   "metadata": {},
   "outputs": [],
   "source": [
    "class Employee:\n",
    "    def __init__(self, name, salary):\n",
    "        self.name = name\n",
    "        self.salary = salary"
   ]
  },
  {
   "cell_type": "code",
   "execution_count": 14,
   "metadata": {},
   "outputs": [
    {
     "name": "stdout",
     "output_type": "stream",
     "text": [
      "Li ping  \t 5000\n",
      "Wang Wei  \t 6000\n"
     ]
    }
   ],
   "source": [
    "e = Employee('Li ping',5000)\n",
    "e2 = Employee('Wang Wei',6000)\n",
    "print(e.name,' \\t',e.salary)\n",
    "print(e2.name,' \\t',e2.salary)"
   ]
  },
  {
   "cell_type": "markdown",
   "metadata": {},
   "source": [
    "只能通过“实例名.实例属性”来访问实例属性，不能通过“类名.实例属性”来访问实例属性。"
   ]
  },
  {
   "cell_type": "code",
   "execution_count": 15,
   "metadata": {},
   "outputs": [
    {
     "ename": "AttributeError",
     "evalue": "type object 'Employee' has no attribute 'name'",
     "output_type": "error",
     "traceback": [
      "\u001b[1;31m---------------------------------------------------------------------------\u001b[0m",
      "\u001b[1;31mAttributeError\u001b[0m                            Traceback (most recent call last)",
      "\u001b[1;32m<ipython-input-15-30b1d128b34e>\u001b[0m in \u001b[0;36m<module>\u001b[1;34m\u001b[0m\n\u001b[1;32m----> 1\u001b[1;33m \u001b[0mEmployee\u001b[0m\u001b[1;33m.\u001b[0m\u001b[0mname\u001b[0m\u001b[1;33m\u001b[0m\u001b[1;33m\u001b[0m\u001b[0m\n\u001b[0m",
      "\u001b[1;31mAttributeError\u001b[0m: type object 'Employee' has no attribute 'name'"
     ]
    }
   ],
   "source": [
    "Employee.name"
   ]
  },
  {
   "cell_type": "markdown",
   "metadata": {},
   "source": [
    "### 5.2.3 实例方法\n",
    "除了构造函数，还可以给类添加更多的方法（成员函数），比如添加一个printInfo()的方法："
   ]
  },
  {
   "cell_type": "code",
   "execution_count": 16,
   "metadata": {},
   "outputs": [],
   "source": [
    "class Employee:\n",
    "    def __init__(self, name, salary):\n",
    "        self.name = name\n",
    "        self.salary = salary\n",
    "    def printInfo(self):\n",
    "        print(self.name,\",\",self.salary)"
   ]
  },
  {
   "cell_type": "markdown",
   "metadata": {},
   "source": [
    "该方法同样有一个self参数，用于指向(引用)调用这个方法的那个具体对象。然后通过：\n",
    "```python\n",
    "print(self.name,\",\",self.salary)\n",
    "```\n",
    "下列代码通过Employee对象调用这个方法.printInfo()："
   ]
  },
  {
   "cell_type": "code",
   "execution_count": 18,
   "metadata": {},
   "outputs": [
    {
     "name": "stdout",
     "output_type": "stream",
     "text": [
      "Liping , 5000\n",
      "Wang wei , 6000\n"
     ]
    }
   ],
   "source": [
    "e = Employee('Liping',5000)\n",
    "e.printInfo()      #通过e调用Employee的printInfo()\n",
    "e2 = Employee('Wang wei',6000)\n",
    "e2.printInfo()      #通过e2调用Employee的printInfo()"
   ]
  },
  {
   "cell_type": "markdown",
   "metadata": {},
   "source": [
    "再定义一些查询和修改数据属性的方法："
   ]
  },
  {
   "cell_type": "code",
   "execution_count": 19,
   "metadata": {},
   "outputs": [],
   "source": [
    "class Employee:\n",
    "    def __init__(self, name, salary):\n",
    "        self.name = name\n",
    "        self.salary = salary\n",
    "    def printInfo(self):\n",
    "        print(self.name,\",\",self.salary)\n",
    "    def set_name(self,name):\n",
    "        self.name = name\n",
    "    def get_name(self):\n",
    "        return self.name\n",
    "    def set_salary(self,salary):\n",
    "        self.salary = salary\n",
    "    def get_salary(self):\n",
    "        return self.salary"
   ]
  },
  {
   "cell_type": "markdown",
   "metadata": {},
   "source": [
    "**注意**：所有实例方法的第一个参数都必须是self，即引用调用这个实例方法的那个对象。测试一下上述的实例方法："
   ]
  },
  {
   "cell_type": "code",
   "execution_count": 20,
   "metadata": {},
   "outputs": [
    {
     "name": "stdout",
     "output_type": "stream",
     "text": [
      "Li ping , 5000\n",
      "Wang Wei \t 5500\n",
      "Wang Wei , 5500\n"
     ]
    }
   ],
   "source": [
    "e = Employee('Li ping',5000)\n",
    "e.printInfo() \n",
    "e.set_name('Wang Wei')   #通过方法set_name修改e的name属性\n",
    "e.set_salary(5500)       #通过方法set_salary修改e的salary属性\n",
    "print(e.get_name(),'\\t',e.get_salary())\n",
    "e.printInfo() "
   ]
  },
  {
   "cell_type": "markdown",
   "metadata": {},
   "source": [
    "注意：和其他编程语言如C++不同，在同一个类中不能定义多个同名但形参不同的函数，即不能定义重载（overloading）成员函数。例如："
   ]
  },
  {
   "cell_type": "code",
   "execution_count": 21,
   "metadata": {},
   "outputs": [],
   "source": [
    "class X:\n",
    "    def f(self):\n",
    "        print(\"f()\")\n",
    "        \n",
    "    def f(self,n):\n",
    "        print(\"f(int n)\")"
   ]
  },
  {
   "cell_type": "markdown",
   "metadata": {},
   "source": [
    "### 5.2.4 类属性\n",
    "\n",
    "每个对象都有自己单独的实例属性，改变一个对象的实例属性不会影响其他对象的实例属性。除了实例属性外，还可以给一个类定义类属性，类属性是类的所有对象都共享的属性。类属性是定义在类的方法外面的属性。\n",
    "例如给Employee类添加一个类属性count记录从该类创建的类的实例的个数，每当用构造函数创建一个实例，作为类属性的该计数器count就增加1："
   ]
  },
  {
   "cell_type": "code",
   "execution_count": 22,
   "metadata": {},
   "outputs": [],
   "source": [
    "class Employee:\n",
    "    count = 0\n",
    "    def __init__(self, name, salary):\n",
    "        self.name = name\n",
    "        self.salary = salary        \n",
    "        Employee.count +=1  #或type(self).count += 1\n",
    "    def printInfo(self):\n",
    "        print('Employee总数：',self.count)\n",
    "        print(self.name,\",\",self.salary)"
   ]
  },
  {
   "cell_type": "markdown",
   "metadata": {},
   "source": [
    "下面的代码创建了2个对象，并分别通过这2个对象和类名访问这个count类属性："
   ]
  },
  {
   "cell_type": "code",
   "execution_count": 23,
   "metadata": {},
   "outputs": [
    {
     "name": "stdout",
     "output_type": "stream",
     "text": [
      "2 2 2 \n",
      "Employee总数： 2\n",
      "Li ping , 5000\n",
      "Employee总数： 2\n",
      "Wang wei , 6000\n"
     ]
    }
   ],
   "source": [
    "e = Employee('Li ping',5000)\n",
    "e2 = Employee('Wang wei',6000)\n",
    "print(e.count,end = ' ')\n",
    "print(e2.count,end = ' ')\n",
    "print(Employee.count,end = ' ')\n",
    "print()\n",
    "e.printInfo()\n",
    "e2.printInfo()\n"
   ]
  },
  {
   "cell_type": "markdown",
   "metadata": {},
   "source": [
    "和实例属性不同，类属性是所有类的实例（对象）共享的，而不是属于每个实例的。可通过实例的__dict__属性查看实例的实例属性有哪些？"
   ]
  },
  {
   "cell_type": "code",
   "execution_count": 24,
   "metadata": {},
   "outputs": [
    {
     "name": "stdout",
     "output_type": "stream",
     "text": [
      "{'name': 'Li ping', 'salary': 5000}\n",
      "{'name': 'Wang wei', 'salary': 6000}\n"
     ]
    }
   ],
   "source": [
    "print(e.__dict__)\n",
    "print(e2.__dict__)"
   ]
  },
  {
   "cell_type": "markdown",
   "metadata": {},
   "source": [
    "一般的都是通过“类名.类属性”来查询或修改类属性，也可通过“实例名.类属性”（包括self.类属性）来查询实例属性，但不能通过“实例名.类属性”（包括self.类属性）的方式修改类属性，那样的话，实际上是创建了实例属性，而不是访问类属性。例如："
   ]
  },
  {
   "cell_type": "code",
   "execution_count": 25,
   "metadata": {},
   "outputs": [
    {
     "name": "stdout",
     "output_type": "stream",
     "text": [
      "2 2 2\n",
      "3 2 2\n",
      "{'count': 3}\n",
      "{}\n"
     ]
    }
   ],
   "source": [
    "class C:\n",
    "    count = 0;\n",
    "    def __init__(self):\n",
    "        C.count +=1\n",
    "    def inc(self):\n",
    "        self.count+=1   #等价于self.count = self.count+1，实际为该实例创建了一个属性count\n",
    "c1 = C()\n",
    "c2 = C()\n",
    "print(c1.count,c2.count,C.count)  #输出的都是类属性count\n",
    "c1.inc()\n",
    "print(c1.count,c2.count,C.count)  #c1.count是c1的实例属性而不是类属性\n",
    "print(c1.__dict__)\n",
    "print(c2.__dict__)"
   ]
  },
  {
   "cell_type": "markdown",
   "metadata": {},
   "source": [
    "### 5.2.5 del\n",
    "\n",
    "del运算符可以用于删除一个变量，该变量的引用计数会减少1，当一个对象的引用计数变为0后，Python系统会自动回收这个对象占用的内存空间。\n",
    "del 当然也可以删除一个对象的实例属性或类属性，因为这些属性实际上也是其他类型的对象的引用。\n"
   ]
  },
  {
   "cell_type": "code",
   "execution_count": 26,
   "metadata": {},
   "outputs": [
    {
     "name": "stdout",
     "output_type": "stream",
     "text": [
      "{'salary': 5000}\n",
      "{'name': 'Wang wei', 'salary': 6000}\n"
     ]
    }
   ],
   "source": [
    "e = Employee('Li ping',5000)\n",
    "e2 = Employee('Wang wei',6000)\n",
    "del e.name\n",
    "print(e.__dict__)\n",
    "print(e2.__dict__)"
   ]
  },
  {
   "cell_type": "markdown",
   "metadata": {},
   "source": [
    "### 5.2.6 访问控制和私有属性\n",
    "\n",
    "上面的Employee类的对象的数据属性，是可以被外界任意访问修改的："
   ]
  },
  {
   "cell_type": "code",
   "execution_count": 27,
   "metadata": {},
   "outputs": [
    {
     "name": "stdout",
     "output_type": "stream",
     "text": [
      "Employee总数： 4\n",
      "李萍 , 5000\n",
      "Employee总数： 4\n",
      "Wang wei , 7800\n"
     ]
    }
   ],
   "source": [
    "e.name = \"李萍\"\n",
    "e2.salary = 7800\n",
    "e.printInfo()\n",
    "e2.printInfo()"
   ]
  },
  {
   "cell_type": "markdown",
   "metadata": {},
   "source": [
    "给其中的name和salary属性名前添加2个下划线__，它们就成了“私有变量”。外界就不能直接访问这些属性(变量)了。"
   ]
  },
  {
   "cell_type": "code",
   "execution_count": 28,
   "metadata": {},
   "outputs": [
    {
     "name": "stdout",
     "output_type": "stream",
     "text": [
      "李平 , 5000\n",
      "张伟 , 5000\n",
      "李平 , 5000\n",
      "7000\n"
     ]
    }
   ],
   "source": [
    "class Employee:\n",
    "    '这是一个描述公司普通雇员的类' \n",
    "    def __init__(self,name,salary):\n",
    "        self.__name = name\n",
    "        self.__salary = salary\n",
    "    def printInfo(self):\n",
    "        print(self.__name,\",\",self.__salary)\n",
    "\n",
    "e = Employee(\"李平\",5000)\n",
    "e2 = Employee(\"张伟\",5000)\n",
    "e.printInfo()\n",
    "e2.printInfo()\n",
    "\n",
    "e.__salary = 7000   #试图直接访问e的数据变量\n",
    "e.printInfo()\n",
    "print(e.__salary)"
   ]
  },
  {
   "cell_type": "markdown",
   "metadata": {},
   "source": [
    "在Python中实际上是没法做到真正的访问控制的。外界实际上仍然是可以直接访问私有属性的。外界不能直接访问__salary，但还有可以通过修改的名字`e._Employee__salary`去访问修改它："
   ]
  },
  {
   "cell_type": "code",
   "execution_count": 30,
   "metadata": {},
   "outputs": [
    {
     "name": "stdout",
     "output_type": "stream",
     "text": [
      "李平 , 3000\n",
      "3000\n"
     ]
    }
   ],
   "source": [
    "\n",
    "e._Employee__salary  = 3000\n",
    "e.printInfo()\n",
    "print(e._Employee__salary)"
   ]
  },
  {
   "cell_type": "markdown",
   "metadata": {},
   "source": [
    "### 5.2.7 运算符重载\n",
    "\n",
    "对一个类型重新定义运算符函数的行为，称之为“运算符重载”。 下面的Vector2是一个表示数学中的二维几何向量的类，其中重载了加法运算符对应的运算符方法即__add__()："
   ]
  },
  {
   "cell_type": "code",
   "execution_count": 31,
   "metadata": {},
   "outputs": [],
   "source": [
    "class Vector2:\n",
    "    def __init__(self,x,y):\n",
    "        self.__x = x\n",
    "        self.__y = y\n",
    "    def __add__(self,other_v):\n",
    "        return Vector2(self.__x+other_v.__x, self.__y+other_v.__y)      # 返回一个新的Vector2对象\n",
    "    def print(self):\n",
    "        print(self.__x,self.__y)"
   ]
  },
  {
   "cell_type": "markdown",
   "metadata": {},
   "source": [
    "现在，可以使用加法运算符对2个Vector2的对象进行加法运算："
   ]
  },
  {
   "cell_type": "code",
   "execution_count": 33,
   "metadata": {},
   "outputs": [
    {
     "name": "stdout",
     "output_type": "stream",
     "text": [
      "13.0 34.0\n"
     ]
    }
   ],
   "source": [
    "v = Vector2(2.5,3.5)\n",
    "v2 = Vector2(10.5,30.5)\n",
    "v3 = v+v2   #等价于v.__add__(v2)，即实际调用的是__add__()方法\n",
    "v3.print()"
   ]
  },
  {
   "cell_type": "markdown",
   "metadata": {},
   "source": [
    "还可以重载其他运算符如比较运算符（如<、>、==、!=）等。例如，下面代码重载了“等于运算符函数”，即__eq__()方法。"
   ]
  },
  {
   "cell_type": "code",
   "execution_count": 34,
   "metadata": {},
   "outputs": [],
   "source": [
    "class Vector2:\n",
    "    #...    \n",
    "    def __eq__(self,other_v):\n",
    "        return self.__x==other_v.__x and  self.__y==other_v.__y   "
   ]
  },
  {
   "cell_type": "code",
   "execution_count": 35,
   "metadata": {},
   "outputs": [
    {
     "name": "stdout",
     "output_type": "stream",
     "text": [
      "False\n"
     ]
    }
   ],
   "source": [
    "print(v==v2)  #“v==v2”等价于v.__eq__(v2)"
   ]
  },
  {
   "cell_type": "markdown",
   "metadata": {},
   "source": [
    "### 5.3.1 派生类\n",
    "\n",
    "1.\t派生类\n",
    "\n",
    "从一个类Base定义一个新的派生类Derived的格式如下：\n",
    "```python\n",
    "class Derived(Base):\n",
    "       派生类的类体\n",
    "```\n",
    "Employee类和经理类Manager互不相干："
   ]
  },
  {
   "cell_type": "code",
   "execution_count": 36,
   "metadata": {},
   "outputs": [],
   "source": [
    "class Employee:\n",
    "    '这是一个描述公司雇员的类' \n",
    "    def __init__(self,name,salary):\n",
    "        self.__name = name        \n",
    "        self.__salary = salary\n",
    "    def printInfo(self):\n",
    "        print(self.__name, \",\", self.__salary)\n",
    "    def get_name(self):\n",
    "        return self.__name;\n",
    "    def set_name(self,name):\n",
    "        self.__name = name;\n",
    "    #...\n",
    "        \n",
    "class Manager:\n",
    "    '这是一个描述公司经理的类' \n",
    "    def __init__(self,name,salary,level,employees):\n",
    "        self.__name = name        \n",
    "        self.__salary = salary\n",
    "        self.__level = level\n",
    "        self.__employees  = employees\n",
    "    def printInfo(self):\n",
    "        print(self.__name,\",\",self.__salary,\",\",self.__level)\n",
    "        for e in employees:\n",
    "            print(e.get_name())\n",
    "    def get_level(self):\n",
    "        return self.__level;\n",
    "    def set_level(self,level):\n",
    "        self.__level = level;\n",
    "    def get_name(self):\n",
    "        return self.__name;\n",
    "    def set_name(self,name):\n",
    "        self.__name = name;\n",
    "    #...                  \n"
   ]
  },
  {
   "cell_type": "markdown",
   "metadata": {},
   "source": [
    "定义Manager类的类名后的圆括号里写上Employee类名，Manager类就会自动继承Employee类已有的属性。即："
   ]
  },
  {
   "cell_type": "code",
   "execution_count": 37,
   "metadata": {},
   "outputs": [],
   "source": [
    "class Employee:\n",
    "    '这是一个描述公司普通雇员的类' \n",
    "    def __init__(self,Name,Salary):\n",
    "        self.__name = Name\n",
    "        self.__salary = Salary\n",
    "    def printInfo(self):\n",
    "        print(self.__name,\",\",self.__salary)\n",
    "    def get_name(self):\n",
    "        return self.__name;\n",
    "    def set_name(self,name):\n",
    "        self.__name = name;\n",
    "    #... \n",
    "\n",
    "class Manager(Employee):   \n",
    "    pass"
   ]
  },
  {
   "cell_type": "markdown",
   "metadata": {},
   "source": [
    "目前定义的Manager完全继承了基类Employee的所有属性。因此下面代码能正常运行："
   ]
  },
  {
   "cell_type": "code",
   "execution_count": 38,
   "metadata": {},
   "outputs": [
    {
     "name": "stdout",
     "output_type": "stream",
     "text": [
      "李平 , 5000\n",
      "张伟 , 6000\n"
     ]
    }
   ],
   "source": [
    "m = Manager(\"李平\",5000)\n",
    "m2 = Manager(\"张伟\",6000)\n",
    "m.printInfo()\n",
    "m2.printInfo()"
   ]
  },
  {
   "cell_type": "markdown",
   "metadata": {},
   "source": [
    "通常情况下，会给派生类添加派生类特有的属性（数据属性和方法），下面给Manager类添加不同于Employee类的特有的数据属性：level（经理级别）和employees（管理的雇员列表），构造函数__init__()需要传递4个参数。"
   ]
  },
  {
   "cell_type": "code",
   "execution_count": 39,
   "metadata": {},
   "outputs": [],
   "source": [
    "class Manager(Employee): \n",
    "    '这是一个描述公司经理的类' \n",
    "    def __init__(self,name,salary,level,employees):\n",
    "        Employee.__init__(self,name,salary)   #基类构造函数对基类部分初始化        \n",
    "        self.__level = level\n",
    "        self.__employees  = employees\n",
    "\n",
    "    def printInfo(self):\n",
    "        Employee.printInfo(self)\n",
    "        print(\"经理级别：\",self.__level)\n",
    "        print(\"管理的员工有:\")\n",
    "        for e in self.__employees:\n",
    "            print(e.get_name())  \n",
    "            \n",
    "    def get_level(self):\n",
    "        return self.__level"
   ]
  },
  {
   "cell_type": "markdown",
   "metadata": {},
   "source": [
    "Manager继承了Employee的属性（数据和方法），还修改了其构造方法__init__()和printInfo()函数，并且还定义了新的方法get_level()。看一下如何使用它："
   ]
  },
  {
   "cell_type": "code",
   "execution_count": 40,
   "metadata": {},
   "outputs": [
    {
     "name": "stdout",
     "output_type": "stream",
     "text": [
      "赵四 , 7000\n",
      "经理级别： 2\n",
      "管理的员工有:\n",
      "李平\n",
      "张伟\n",
      "\n",
      "赵四 的级别： 2\n"
     ]
    }
   ],
   "source": [
    "e = Employee(\"李平\",5000)\n",
    "e2 = Employee(\"张伟\",6000)\n",
    "\n",
    "employees = []\n",
    "employees.append(e)\n",
    "employees.append(e2)\n",
    "m = Manager(\"赵四\",7000,2,employees)        #调用了Manager自身的构造函数   \n",
    "m.printInfo()                         #调用的是Manager的新的printInfo方法\n",
    "print()\n",
    "print(m.get_name(),\"的级别：\",m.get_level())   # 调用从Employee继承的get_name()\n",
    "                                    # 调用了Manager特有的get_level()"
   ]
  },
  {
   "cell_type": "markdown",
   "metadata": {},
   "source": [
    "2.\tsuper()方法\n",
    "在派生类中可以通过super()方法来调用父类的方法。"
   ]
  },
  {
   "cell_type": "code",
   "execution_count": 41,
   "metadata": {},
   "outputs": [],
   "source": [
    "class Manager(Employee): \n",
    "    '这是一个描述公司经理的类' \n",
    "    def __init__(self,name,salary,level,employees):\n",
    "        super().__init__(self,name,salary)   #基类构造函数对基类部分初始化        \n",
    "        self.__level = level\n",
    "        self.__employees  = employees\n",
    "\n",
    "    def printInfo(self):\n",
    "        super().printInfo(self)\n",
    "        print(\"经理级别：\",self.__level)\n",
    "        print(\"管理的员工有:\")\n",
    "        for e in self.__employees:\n",
    "            print(e.get_name())  \n",
    "    #..."
   ]
  },
  {
   "cell_type": "markdown",
   "metadata": {},
   "source": [
    "使用super()避免了写出基类名。\n",
    "\n",
    "### 5.3.2 覆盖override\n",
    "\n",
    "子类通过定义和父类同名的属性可以覆盖父类的数据属性和方法。如上面的Manager和Employee都有一个同样签名（签名包括函数名和参数列表）的printInfo()方法，派生类（子类）的printInfo()方法就覆盖了基类（父类）的printInfo()方法。再如："
   ]
  },
  {
   "cell_type": "code",
   "execution_count": 42,
   "metadata": {},
   "outputs": [
    {
     "name": "stdout",
     "output_type": "stream",
     "text": [
      "3\n",
      "derived\n",
      "函数g\n",
      "hello derived 3.14\n"
     ]
    }
   ],
   "source": [
    "class Base:\n",
    "    cvar = 'hello' \n",
    "    bcvar = 3\n",
    "    def f(self):\n",
    "        var = 2\n",
    "        print(Base.cvar,var)\n",
    "    def g(self):\n",
    "        print('函数g')\n",
    "\n",
    "class Derived(Base):\n",
    "    cvar = 'derived' \n",
    "    def f(self):      \n",
    "        var  = 3.14\n",
    "        print(Base.cvar,Derived.cvar,var)\n",
    "\n",
    "d = Derived()\n",
    "print(d.bcvar)\n",
    "print(d.cvar)\n",
    "d.g()\n",
    "d.f()"
   ]
  },
  {
   "cell_type": "markdown",
   "metadata": {},
   "source": [
    "### 5.3.3 多继承 Multiple Inheritance\n",
    "\n",
    "一个类可以继承多个类的特性，即可以定义一个从多个类派生出来的派生类。"
   ]
  },
  {
   "cell_type": "code",
   "execution_count": 43,
   "metadata": {},
   "outputs": [],
   "source": [
    "class Base1:\n",
    "    cvar1 = 'base1' \n",
    "    def f(self):\n",
    "        var1 = 1\n",
    "        print(Base1.cvar1,var1)\n",
    "    def g(self):\n",
    "        print('函数g')\n",
    "\n",
    "class Base2:\n",
    "    cvar2 = 'base2' \n",
    "    def f(self):\n",
    "        var2 = 2\n",
    "        print(Base2.cvar2,var2)\n",
    "\n",
    "class MultiDerived(Base1, Base2):\n",
    "    var = [1,2,3]"
   ]
  },
  {
   "cell_type": "markdown",
   "metadata": {},
   "source": [
    "可以用下面代码来测试一下："
   ]
  },
  {
   "cell_type": "code",
   "execution_count": 44,
   "metadata": {},
   "outputs": [
    {
     "name": "stdout",
     "output_type": "stream",
     "text": [
      "函数g\n",
      "base1 1\n"
     ]
    }
   ],
   "source": [
    "m = MultiDerived() \n",
    "m.g()\n",
    "m.f()"
   ]
  },
  {
   "cell_type": "markdown",
   "metadata": {},
   "source": [
    "### 5.3.4 属性解析\n",
    "\n",
    "![](imgs/MRO.png)\n",
    "\n",
    "对于上面的类MultiDerived及其基类构成了一个棱形继承关系，因此其RMO解析次序应该是：MultiDerived、Base1、Base2、object。可以通过类的__mro__属性或mro()方法得到一个类的这个MRO次序："
   ]
  },
  {
   "cell_type": "code",
   "execution_count": 45,
   "metadata": {},
   "outputs": [
    {
     "data": {
      "text/plain": [
       "(__main__.MultiDerived, __main__.Base1, __main__.Base2, object)"
      ]
     },
     "execution_count": 45,
     "metadata": {},
     "output_type": "execute_result"
    }
   ],
   "source": [
    "MultiDerived.__mro__"
   ]
  },
  {
   "cell_type": "markdown",
   "metadata": {},
   "source": [
    "再如："
   ]
  },
  {
   "cell_type": "code",
   "execution_count": 46,
   "metadata": {},
   "outputs": [
    {
     "name": "stdout",
     "output_type": "stream",
     "text": [
      "[<class '__main__.M'>, <class '__main__.B'>, <class '__main__.A'>, <class '__main__.X'>, <class '__main__.Y'>, <class '__main__.Z'>, <class 'object'>]\n"
     ]
    }
   ],
   "source": [
    "class X: pass\n",
    "class Y: pass\n",
    "class Z: pass\n",
    "\n",
    "class A(X,Y): pass\n",
    "class B(Y,Z): pass\n",
    "\n",
    "class M(B,A,Z): pass\n",
    "print(M.mro())"
   ]
  },
  {
   "cell_type": "markdown",
   "metadata": {},
   "source": [
    "其继承关系及MRO线形图如图5-2所示：\n",
    "![](imgs/MRO2.png)"
   ]
  },
  {
   "cell_type": "markdown",
   "metadata": {},
   "source": [
    "也可以用inspect模块的函数getmro()查询一个类的所有基类。如："
   ]
  },
  {
   "cell_type": "code",
   "execution_count": 47,
   "metadata": {},
   "outputs": [
    {
     "data": {
      "text/plain": [
       "(__main__.M,\n",
       " __main__.B,\n",
       " __main__.A,\n",
       " __main__.X,\n",
       " __main__.Y,\n",
       " __main__.Z,\n",
       " object)"
      ]
     },
     "execution_count": 47,
     "metadata": {},
     "output_type": "execute_result"
    }
   ],
   "source": [
    "import inspect\n",
    "inspect.getmro(M)"
   ]
  },
  {
   "cell_type": "markdown",
   "metadata": {},
   "source": [
    "## 5.4 __slots__\n",
    "\n",
    "前面看到，可以给这个类的任何对象绑定任何属性（数据属性或方法）。每个对象可以绑定不同的属性："
   ]
  },
  {
   "cell_type": "code",
   "execution_count": 48,
   "metadata": {},
   "outputs": [
    {
     "name": "stdout",
     "output_type": "stream",
     "text": [
      "{'name': 'Li Ping'}\n",
      "{'salary': 3000}\n"
     ]
    }
   ],
   "source": [
    "class Employee:\n",
    "    pass\n",
    "\n",
    "e  = Employee()\n",
    "e2 = Employee()\n",
    "e.name = 'Li Ping'\n",
    "e2.salary = 3000\n",
    "print(e.__dict__)\n",
    "print(e2.__dict__)"
   ]
  },
  {
   "cell_type": "markdown",
   "metadata": {},
   "source": [
    "甚至，可以用types模块的MethodType将一个函数绑定为一个对象的实例方法："
   ]
  },
  {
   "cell_type": "code",
   "execution_count": 49,
   "metadata": {},
   "outputs": [
    {
     "name": "stdout",
     "output_type": "stream",
     "text": [
      "Li Ping\n"
     ]
    }
   ],
   "source": [
    "def print_name(self):\n",
    "    print(self.name)\n",
    "\n",
    "from types import MethodType\n",
    "e.Print = MethodType(print_name,e)\n",
    "e.Print()"
   ]
  },
  {
   "cell_type": "markdown",
   "metadata": {},
   "source": [
    "给一个对象绑定的属性对另一个对象不起作用："
   ]
  },
  {
   "cell_type": "code",
   "execution_count": 50,
   "metadata": {},
   "outputs": [
    {
     "ename": "AttributeError",
     "evalue": "'Employee' object has no attribute 'name'",
     "output_type": "error",
     "traceback": [
      "\u001b[1;31m---------------------------------------------------------------------------\u001b[0m",
      "\u001b[1;31mAttributeError\u001b[0m                            Traceback (most recent call last)",
      "\u001b[1;32m<ipython-input-50-e6c5aa30825b>\u001b[0m in \u001b[0;36m<module>\u001b[1;34m\u001b[0m\n\u001b[1;32m----> 1\u001b[1;33m \u001b[0mprint\u001b[0m\u001b[1;33m(\u001b[0m\u001b[0me2\u001b[0m\u001b[1;33m.\u001b[0m\u001b[0mname\u001b[0m\u001b[1;33m)\u001b[0m\u001b[1;33m\u001b[0m\u001b[1;33m\u001b[0m\u001b[0m\n\u001b[0m",
      "\u001b[1;31mAttributeError\u001b[0m: 'Employee' object has no attribute 'name'"
     ]
    }
   ],
   "source": [
    "print(e2.name)"
   ]
  },
  {
   "cell_type": "markdown",
   "metadata": {},
   "source": [
    "更多请看书《Python3从入门到实战》"
   ]
  },
  {
   "cell_type": "code",
   "execution_count": null,
   "metadata": {},
   "outputs": [],
   "source": []
  }
 ],
 "metadata": {
  "kernelspec": {
   "display_name": "Python 3",
   "language": "python",
   "name": "python3"
  },
  "language_info": {
   "codemirror_mode": {
    "name": "ipython",
    "version": 3
   },
   "file_extension": ".py",
   "mimetype": "text/x-python",
   "name": "python",
   "nbconvert_exporter": "python",
   "pygments_lexer": "ipython3",
   "version": "3.7.4"
  }
 },
 "nbformat": 4,
 "nbformat_minor": 2
}
