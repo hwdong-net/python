{
 "cells": [
  {
   "cell_type": "markdown",
   "metadata": {},
   "source": [
    "表示树的第二种方法是所谓的“二叉链表”或“三叉链表”法。即用一个结点类表示树的一个结点。其中除了它本身的数据元素的值，还有指向其孩子结点的引用。这是一种面向对象的表示方法。对于一个二叉树，首先有一个根结点，根结点中有2个引用指向其左右孩子结点，对于孩子结点也是如此，...，直到遇到一个空的子树。这个一个结点包含2个指向左、右孩子结点的引用的表示法叫做“二叉链表”。如图5-9所示：\n",
    "![](imgs/BST.png)\n",
    "\n",
    "结点可用Python的类定义可以描述如下："
   ]
  },
  {
   "cell_type": "code",
   "execution_count": 1,
   "metadata": {},
   "outputs": [],
   "source": [
    "class BiTreeNode:\n",
    "    def __init__(self,rootObj):\n",
    "        self.data = rootObj    #数据\n",
    "        self.leftChild = None   #左孩子引用\n",
    "        self.rightChild = None  #右孩子引用"
   ]
  },
  {
   "cell_type": "markdown",
   "metadata": {},
   "source": [
    "BiTreeNode类表示了一个二叉树的结点，其data属性就存储了这个根结点本身的数据元素值，其leftChild和rightChild分别是该结点的左右子树的根结点的引用。可以给这个类添加一些方法，方便构建结点之间的父子关系，比如："
   ]
  },
  {
   "cell_type": "code",
   "execution_count": 3,
   "metadata": {},
   "outputs": [],
   "source": [
    "class BiTreeNode:\n",
    "    def __init__(self,rootObj):\n",
    "        self.data = rootObj\n",
    "        self.leftChild = None\n",
    "        self.rightChild = None\n",
    "\n",
    "    def insertLeft(self,newNode):\n",
    "        if self.leftChild == None:   #新结点成为左孩子\n",
    "            self.leftChild = BiTreeNode(newNode)\n",
    "        else:      #新结点成为左孩子，原来的左孩子成为新结点的左孩子\n",
    "            t = BiTreeNode(newNode)\n",
    "            t.leftChild = self.leftChild\n",
    "            self.leftChild = t\n",
    "\n",
    "    def insertRight(self,newNode):\n",
    "        if self.rightChild == None:\n",
    "            self.rightChild = BiTreeNode(newNode)\n",
    "        else:\n",
    "            t = BiTreeNode(newNode)\n",
    "            t.rightChild = self.rightChild\n",
    "            self.rightChild = t\n",
    "\n",
    "    def getRightChild(self):\n",
    "        return self.rightChild\n",
    "\n",
    "    def getLeftChild(self):\n",
    "        return self.leftChild\n",
    "\n",
    "    def setValue(self,obj):\n",
    "        self.data = obj\n",
    "\n",
    "    def getValue(self):\n",
    "        return self.data\n"
   ]
  },
  {
   "cell_type": "markdown",
   "metadata": {},
   "source": [
    "可以通过创建这些结点，构造一个二叉树："
   ]
  },
  {
   "cell_type": "code",
   "execution_count": 4,
   "metadata": {},
   "outputs": [
    {
     "name": "stdout",
     "output_type": "stream",
     "text": [
      "e\n"
     ]
    }
   ],
   "source": [
    "# r指向创建的二叉树的根结点\n",
    "r = BiTreeNode('a') \n",
    "r.insertLeft('b')\n",
    "r.insertRight('c')\n",
    "b = r.getLeftChild()\n",
    "b.insertLeft('d')\n",
    "b.insertRight('e')\n",
    "r.getRightChild().insertRight('f')\n",
    "print(r.getLeftChild().getRightChild().getValue()) "
   ]
  },
  {
   "cell_type": "markdown",
   "metadata": {},
   "source": [
    "### 5.5.3 二叉树的操作\n",
    "\n",
    "针对一颗二叉树可以有很多操作，如遍历一颗二叉树、查询二叉树的深度、查询二叉树中的叶子结点个数等等。其中最重要的操作就是遍历二叉树，即将二叉树的每个结点访问而且只访问一次。因为二叉树是一个递归结构：一个根、根的左子树、根的右子树。根的左右子树也是这样的二叉树。因此可以用递归算法写出二叉树的遍历过程："
   ]
  },
  {
   "cell_type": "code",
   "execution_count": 5,
   "metadata": {},
   "outputs": [],
   "source": [
    "# 先序遍历T为根的二叉树  \n",
    "def traverse_pre(T):\n",
    "    if T:\n",
    "        print(T.data,end = ' ')           #直接访问根\n",
    "        traverse_pre(T.leftChild)   #遍历T.leftChild为根的左子树\n",
    "        traverse_pre(T.rightChild)  #遍历T..rightChild为根的右子树\n"
   ]
  },
  {
   "cell_type": "markdown",
   "metadata": {},
   "source": [
    "测试一下上述函数："
   ]
  },
  {
   "cell_type": "code",
   "execution_count": 6,
   "metadata": {},
   "outputs": [
    {
     "name": "stdout",
     "output_type": "stream",
     "text": [
      "a b d e c f "
     ]
    }
   ],
   "source": [
    "traverse_pre(r)"
   ]
  },
  {
   "cell_type": "markdown",
   "metadata": {},
   "source": [
    "后根遍历，就是在遍历一颗二叉树时总是先访问左右子树，再访问根。代码如下："
   ]
  },
  {
   "cell_type": "code",
   "execution_count": 7,
   "metadata": {},
   "outputs": [
    {
     "name": "stdout",
     "output_type": "stream",
     "text": [
      "d e b f c a "
     ]
    }
   ],
   "source": [
    "# 后序遍历T为根的二叉树\n",
    "def traverse_post(T):\n",
    "    if T:\n",
    "        traverse_post(T.leftChild)   #遍历T.leftChild为根的左子树\n",
    "        traverse_post(T.rightChild)  #遍历T..rightChild为根的右子树\n",
    "        print(T.data,end = ' ')           #直接访问根\n",
    "\n",
    "#测试这个后根遍历算法\n",
    "traverse_post(r)"
   ]
  },
  {
   "cell_type": "markdown",
   "metadata": {},
   "source": [
    "当然，还有中根遍历，就是先遍历完左子树，然后根，最后遍历右子树。代码如下："
   ]
  },
  {
   "cell_type": "code",
   "execution_count": 8,
   "metadata": {},
   "outputs": [
    {
     "name": "stdout",
     "output_type": "stream",
     "text": [
      "d b e a c f "
     ]
    }
   ],
   "source": [
    "#中序遍历T为根的二叉树\n",
    "def traverse_mid(T):\n",
    "    if T:\n",
    "        traverse_mid(T.leftChild)   #遍历T.leftChild为根的左子树        \n",
    "        print(T.data,end = ' ')           #直接访问根\n",
    "        traverse_mid(T.rightChild)  #遍历T..rightChild为根的右子树\n",
    "\n",
    "#测试这个后根遍历算法\n",
    "traverse_mid(r)"
   ]
  },
  {
   "cell_type": "markdown",
   "metadata": {},
   "source": [
    "假如中序遍历函数的名字叫做iot，其遍历过程如图5-10所示：\n",
    "\n",
    "![](imgs/BST_traverse.png)"
   ]
  },
  {
   "cell_type": "markdown",
   "metadata": {},
   "source": [
    "基于遍历算法，可以实现针对二叉树的其他操作，比如，求一个二叉树的高度（深度）：先左子树高度、再右子树高度、最后二叉树的高度是左右高度的最大值+1。代码如下："
   ]
  },
  {
   "cell_type": "code",
   "execution_count": 10,
   "metadata": {},
   "outputs": [
    {
     "data": {
      "text/plain": [
       "3"
      ]
     },
     "execution_count": 10,
     "metadata": {},
     "output_type": "execute_result"
    }
   ],
   "source": [
    "#后序遍历求T的深度（高度）\n",
    "def depth(T):\n",
    "    if T:\n",
    "        l = depth(T.leftChild)   #T.leftChild为根的左子树高度\n",
    "        r = depth(T.rightChild)  #T..rightChild为根的右子树高度\n",
    "        return max(l,r)+1  #左右子树高度最大值+1\n",
    "    else:\n",
    "        return 0\n",
    "\n",
    "#测试这个后根遍历算法\n",
    "depth(r)"
   ]
  },
  {
   "cell_type": "markdown",
   "metadata": {},
   "source": [
    "### 5.5.4 二叉搜索树的操作\n",
    "\n",
    "对于任何一棵树(包括二叉搜索树)，通常有：插入、删除、搜索等基本操作，插入、删除可以修改二叉树中的结点及其父子关系，而搜索就是在所有结点中寻找满足某个条件的结点。对于二叉搜索树，由于其结点按照键值是有序的（如：左子树结点值<该结点值<右子树结点值），使得按照键值可以很快的搜索到一个数据元素。"
   ]
  },
  {
   "cell_type": "markdown",
   "metadata": {},
   "source": [
    "假如有1024个数据元素，放在一个list对象中，要查找某个键值的元素，需要从表头到表尾一个个的比较，需要1024次比较才知道是否存在这个数据元素。如果将这些元素存储在一个二叉搜索树中，只需要从根结点和待查找的键值比较：\n",
    "```\n",
    "\t相等，说明找到\n",
    "\t\"小于\"根结点的键值，在左子树上查找\n",
    "\t\"大于\"根结点的键值，在右子树上查找\n",
    "```\n",
    "这个过程一直重复直到找到满足条件的，或者到达空树（未找到）。这个查找经过的路径就是从根到叶子结点的路径，比较的次数最多不超过树的高度，如果二叉树是平衡二叉树，其高度不超过10，即不超过10次就完成了。\n",
    " 上述搜索过程就是二叉树的“先根遍历”过程，因此，只要将“先根遍历”代码稍加修改就可以了：\n"
   ]
  },
  {
   "cell_type": "code",
   "execution_count": 12,
   "metadata": {},
   "outputs": [],
   "source": [
    "def searchBST(T,key):\n",
    "    if T:\n",
    "        if key==T.data : return T       #先处理根\n",
    "        elif key<T.data:return searchBST(T.leftChild,key)  #在左子树上搜索\n",
    "        else: return searchBST(T.rightChild,key)         #在右子树上搜索\n",
    "    else :return None\n"
   ]
  },
  {
   "cell_type": "markdown",
   "metadata": {},
   "source": [
    "在一个结点代表的BST树上插入一个数据元素x的过程是：如果待插入的值x小于结点的值，则在其左子树上插入，如果大于结点的值，则在其右子树上插入x。直到遇到一个空树，就确定了插入位置，可创建新结点，插入在这个位置。如图5-12是通过不断插入数据元素构成一个BST的过程。\n",
    "\n",
    "插入函数的代码如下："
   ]
  },
  {
   "cell_type": "code",
   "execution_count": 13,
   "metadata": {},
   "outputs": [],
   "source": [
    "#在T为根的二叉树插入x\n",
    "def insertBST(T,x):\n",
    "    if T:\n",
    "        if x<T.data:  \n",
    "            if T.leftChild:\n",
    "                insertBST(T.leftChild,x)     #在T的左子树上插入x\n",
    "            else:\n",
    "               T.leftChild =  BiTreeNode(x)  #新结点成为T的左孩子\n",
    "        elif x>T.data:\n",
    "            if T.rightChild:\n",
    "                insertBST(T.rightChild,x)    #在T的右子树上插入x\n",
    "            else:\n",
    "               T.rightChild =  BiTreeNode(x) #新结点成为T的右孩子       \n",
    "\n",
    "#不断调用上述函数，构造一个BST树\n",
    "root = BiTreeNode(34) \n",
    "insertBST(root,27)\n",
    "insertBST(root,40)\n",
    "insertBST(root,29)\n",
    "insertBST(root,11)\n"
   ]
  },
  {
   "cell_type": "markdown",
   "metadata": {},
   "source": [
    "对于一个BST树，中根遍历的结果一定是一个有序序列，可以用中根遍历刚才构造的BST树，来检查一下中根序列是否是一个有序序列："
   ]
  },
  {
   "cell_type": "code",
   "execution_count": 14,
   "metadata": {},
   "outputs": [
    {
     "name": "stdout",
     "output_type": "stream",
     "text": [
      "11 27 29 34 40 \n"
     ]
    }
   ],
   "source": [
    "#中根遍历结果应该是一个有序序列\n",
    "traverse_mid(root)\n",
    "print()"
   ]
  },
  {
   "cell_type": "markdown",
   "metadata": {},
   "source": [
    "再来测试之前的搜索函数searchBST()，看看能否正确的搜索："
   ]
  },
  {
   "cell_type": "code",
   "execution_count": 15,
   "metadata": {},
   "outputs": [
    {
     "name": "stdout",
     "output_type": "stream",
     "text": [
      "29\n",
      "未找到: 15\n"
     ]
    }
   ],
   "source": [
    "x = 29\n",
    "n = searchBST(root,x)\n",
    "\n",
    "if n: print(n.data)\n",
    "else: print('未找到:',x)    \n",
    "   \n",
    "x = 15\n",
    "n = searchBST(root,x)\n",
    "if n: print(n.data)\n",
    "else: print('未找到:',x)   "
   ]
  },
  {
   "cell_type": "code",
   "execution_count": null,
   "metadata": {},
   "outputs": [],
   "source": []
  }
 ],
 "metadata": {
  "kernelspec": {
   "display_name": "Python 3",
   "language": "python",
   "name": "python3"
  },
  "language_info": {
   "codemirror_mode": {
    "name": "ipython",
    "version": 3
   },
   "file_extension": ".py",
   "mimetype": "text/x-python",
   "name": "python",
   "nbconvert_exporter": "python",
   "pygments_lexer": "ipython3",
   "version": "3.7.4"
  }
 },
 "nbformat": 4,
 "nbformat_minor": 2
}
