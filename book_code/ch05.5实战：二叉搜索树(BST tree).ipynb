{
 "cells": [
  {
   "cell_type": "markdown",
   "metadata": {},
   "source": [
    "表示树的第二种方法是所谓的“二叉链表”或“三叉链表”法。即用一个结点类表示树的一个结点。其中除了它本身的数据元素的值，还有指向其孩子结点的引用。这是一种面向对象的表示方法。对于一个二叉树，首先有一个根结点，根结点中有2个引用指向其左右孩子结点，对于孩子结点也是如此，...，直到遇到一个空的子树。这个一个结点包含2个指向左、右孩子结点的引用的表示法叫做“二叉链表”。如图5-9所示：\n",
    "![](imgs/BST.png)\n",
    "\n",
    "结点可用Python的类定义可以描述如下："
   ]
  },
  {
   "cell_type": "code",
   "execution_count": 1,
   "metadata": {},
   "outputs": [],
   "source": [
    "class BiTreeNode:\n",
    "    def __init__(self,rootObj):\n",
    "        self.data = rootObj    #数据\n",
    "        self.leftChild = None   #左孩子引用\n",
    "        self.rightChild = None  #右孩子引用"
   ]
  },
  {
   "cell_type": "markdown",
   "metadata": {},
   "source": [
    "BiTreeNode类表示了一个二叉树的结点，其data属性就存储了这个根结点本身的数据元素值，其leftChild和rightChild分别是该结点的左右子树的根结点的引用。可以给这个类添加一些方法，方便构建结点之间的父子关系，比如："
   ]
  },
  {
   "cell_type": "code",
   "execution_count": 3,
   "metadata": {},
   "outputs": [],
   "source": [
    "class BiTreeNode:\n",
    "    def __init__(self,rootObj):\n",
    "        self.data = rootObj\n",
    "        self.leftChild = None\n",
    "        self.rightChild = None\n",
    "\n",
    "    def insertLeft(self,newNode):\n",
    "        if self.leftChild == None:   #新结点成为左孩子\n",
    "            self.leftChild = BiTreeNode(newNode)\n",
    "        else:      #新结点成为左孩子，原来的左孩子成为新结点的左孩子\n",
    "            t = BiTreeNode(newNode)\n",
    "            t.leftChild = self.leftChild\n",
    "            self.leftChild = t\n",
    "\n",
    "    def insertRight(self,newNode):\n",
    "        if self.rightChild == None:\n",
    "            self.rightChild = BiTreeNode(newNode)\n",
    "        else:\n",
    "            t = BiTreeNode(newNode)\n",
    "            t.rightChild = self.rightChild\n",
    "            self.rightChild = t\n",
    "\n",
    "    def getRightChild(self):\n",
    "        return self.rightChild\n",
    "\n",
    "    def getLeftChild(self):\n",
    "        return self.leftChild\n",
    "\n",
    "    def setValue(self,obj):\n",
    "        self.data = obj\n",
    "\n",
    "    def getValue(self):\n",
    "        return self.data\n"
   ]
  },
  {
   "cell_type": "markdown",
   "metadata": {},
   "source": [
    "可以通过创建这些结点，构造一个二叉树："
   ]
  },
  {
   "cell_type": "code",
   "execution_count": 4,
   "metadata": {},
   "outputs": [
    {
     "name": "stdout",
     "output_type": "stream",
     "text": [
      "e\n"
     ]
    }
   ],
   "source": [
    "# r指向创建的二叉树的根结点\n",
    "r = BiTreeNode('a') \n",
    "r.insertLeft('b')\n",
    "r.insertRight('c')\n",
    "b = r.getLeftChild()\n",
    "b.insertLeft('d')\n",
    "b.insertRight('e')\n",
    "r.getRightChild().insertRight('f')\n",
    "print(r.getLeftChild().getRightChild().getValue()) "
   ]
  },
  {
   "cell_type": "markdown",
   "metadata": {},
   "source": [
    "### 5.5.3 二叉树的操作\n",
    "\n",
    "针对一颗二叉树可以有很多操作，如遍历一颗二叉树、查询二叉树的深度、查询二叉树中的叶子结点个数等等。其中最重要的操作就是遍历二叉树，即将二叉树的每个结点访问而且只访问一次。因为二叉树是一个递归结构：一个根、根的左子树、根的右子树。根的左右子树也是这样的二叉树。因此可以用递归算法写出二叉树的遍历过程："
   ]
  },
  {
   "cell_type": "code",
   "execution_count": 5,
   "metadata": {},
   "outputs": [],
   "source": [
    "# 先序遍历T为根的二叉树  \n",
    "def traverse_pre(T):\n",
    "    if T:\n",
    "        print(T.data,end = ' ')           #直接访问根\n",
    "        traverse_pre(T.leftChild)   #遍历T.leftChild为根的左子树\n",
    "        traverse_pre(T.rightChild)  #遍历T..rightChild为根的右子树\n"
   ]
  },
  {
   "cell_type": "markdown",
   "metadata": {},
   "source": [
    "测试一下上述函数："
   ]
  },
  {
   "cell_type": "code",
   "execution_count": 6,
   "metadata": {},
   "outputs": [
    {
     "name": "stdout",
     "output_type": "stream",
     "text": [
      "a b d e c f "
     ]
    }
   ],
   "source": [
    "traverse_pre(r)"
   ]
  },
  {
   "cell_type": "markdown",
   "metadata": {},
   "source": [
    "后根遍历，就是在遍历一颗二叉树时总是先访问左右子树，再访问根。代码如下："
   ]
  },
  {
   "cell_type": "code",
   "execution_count": null,
   "metadata": {},
   "outputs": [],
   "source": [
    "# 后序遍历T为根的二叉树\n",
    "def traverse_post(T):\n",
    "    if T:\n",
    "        traverse_post(T.leftChild)   #遍历T.leftChild为根的左子树\n",
    "        traverse_post(T.rightChild)  #遍历T..rightChild为根的右子树\n",
    "        print(T.data,end = ' ')           #直接访问根\n",
    "\n",
    "#测试这个后根遍历算法\n",
    "traverse_post(r)\n"
   ]
  }
 ],
 "metadata": {
  "kernelspec": {
   "display_name": "Python 3",
   "language": "python",
   "name": "python3"
  },
  "language_info": {
   "codemirror_mode": {
    "name": "ipython",
    "version": 3
   },
   "file_extension": ".py",
   "mimetype": "text/x-python",
   "name": "python",
   "nbconvert_exporter": "python",
   "pygments_lexer": "ipython3",
   "version": "3.7.4"
  }
 },
 "nbformat": 4,
 "nbformat_minor": 2
}
