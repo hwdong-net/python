{
 "cells": [
  {
   "cell_type": "markdown",
   "metadata": {},
   "source": [
    "Python是一个动态类型的高级语言，所谓“动态类型”是指Python能自动从变量值推断其类型。可以用Python内置函数type()查询一个值的类型。如"
   ]
  },
  {
   "cell_type": "code",
   "execution_count": 1,
   "metadata": {},
   "outputs": [
    {
     "data": {
      "text/plain": [
       "int"
      ]
     },
     "execution_count": 1,
     "metadata": {},
     "output_type": "execute_result"
    }
   ],
   "source": [
    "type(2)"
   ]
  },
  {
   "cell_type": "code",
   "execution_count": 2,
   "metadata": {},
   "outputs": [
    {
     "data": {
      "text/plain": [
       "float"
      ]
     },
     "execution_count": 2,
     "metadata": {},
     "output_type": "execute_result"
    }
   ],
   "source": [
    "type(3.14)"
   ]
  },
  {
   "cell_type": "code",
   "execution_count": null,
   "metadata": {},
   "outputs": [],
   "source": [
    "Python的print()函数可以输出一系列对象，如："
   ]
  },
  {
   "cell_type": "code",
   "execution_count": 5,
   "metadata": {},
   "outputs": [
    {
     "name": "stdout",
     "output_type": "stream",
     "text": [
      "2 3.14 http://hwdong.net True\n",
      "<class 'int'> <class 'float'> <class 'str'> <class 'bool'>\n"
     ]
    }
   ],
   "source": [
    "print(2,3.14,\"http://hwdong.net\",True)\n",
    "print(type(2),type(3.14),type(\"http://hwdong.net\"),type(False))"
   ]
  },
  {
   "cell_type": "markdown",
   "metadata": {},
   "source": [
    "Python的bool类型只有2个逻辑值：True、False，分别表示真和假。Python的str类型表示字符串，字符串是多个字符构成的一个字符序列。Python用双引号或单引号包围一个字符序列表示一个字符串。如果一个字符串中内容占据多行，则用三引号'''包围来表示。如："
   ]
  },
  {
   "cell_type": "code",
   "execution_count": 6,
   "metadata": {},
   "outputs": [
    {
     "name": "stdout",
     "output_type": "stream",
     "text": [
      "http://hwdong.net is\n",
      "         a blog teaching computer programming\n"
     ]
    }
   ],
   "source": [
    "print('''http://hwdong.net is\n",
    "         a blog teaching computer programming''')"
   ]
  },
  {
   "cell_type": "markdown",
   "metadata": {},
   "source": [
    "Python的所有值都以对象形式表示，一个对象包含了值的：内容、类型、id（相当于地址）。如值10的内容是10，它的类型是int，可以用内置函数id()得到其id。"
   ]
  },
  {
   "cell_type": "code",
   "execution_count": 7,
   "metadata": {},
   "outputs": [
    {
     "data": {
      "text/plain": [
       "140731301598304"
      ]
     },
     "execution_count": 7,
     "metadata": {},
     "output_type": "execute_result"
    }
   ],
   "source": [
    "id(10)"
   ]
  },
  {
   "cell_type": "markdown",
   "metadata": {},
   "source": [
    "### 变量\n",
    "\n",
    "给一个对象其一个名字，叫做**变量**，一个对象可能被多次使用，通过变量名去访问这个对象可避免多次创建同样值得对象，另外还增加了代码得可读性。如："
   ]
  },
  {
   "cell_type": "code",
   "execution_count": 9,
   "metadata": {},
   "outputs": [
    {
     "name": "stdout",
     "output_type": "stream",
     "text": [
      "hwdong-net.github.io\n",
      "http://hwdong-net.github.io\n"
     ]
    }
   ],
   "source": [
    "blog = \"hwdong-net.github.io\"\n",
    "print(blog)\n",
    "blog = \"http://\"+blog\n",
    "print(blog)"
   ]
  },
  {
   "cell_type": "markdown",
   "metadata": {},
   "source": [
    "Python的变量仅仅是对象的名字而不是对象本身，可以随时将同一个变量指向不同的对象。Python的变量仅仅是引用对象。而其他语言如C语言中，变量就是对象本身。"
   ]
  },
  {
   "cell_type": "code",
   "execution_count": 11,
   "metadata": {},
   "outputs": [
    {
     "name": "stdout",
     "output_type": "stream",
     "text": [
      "hwdong-net.github.io\n",
      "3.14\n"
     ]
    }
   ],
   "source": [
    "a = 3.14              #a是对象3.14的引用\n",
    "b = a                 #b和a引用同一个对象3.14\n",
    "a = \"hwdong-net.github.io\"      #a引用了新的字符串对象\"hwdong.net\"\n",
    "print(a)\n",
    "print(b)"
   ]
  },
  {
   "cell_type": "markdown",
   "metadata": {},
   "source": [
    "可以用内置函数，将一种类型值转化为另外一种类型的值，如："
   ]
  },
  {
   "cell_type": "code",
   "execution_count": 76,
   "metadata": {},
   "outputs": [
    {
     "name": "stdout",
     "output_type": "stream",
     "text": [
      "3\n",
      "<class 'int'>\n",
      "3.14\n",
      "<class 'float'>\n"
     ]
    }
   ],
   "source": [
    "a = int(3.14)\n",
    "print(a)\n",
    "print(type(a))\n",
    "b= float(\"3.14\")\n",
    "print(b)\n",
    "print(type(b))"
   ]
  },
  {
   "cell_type": "markdown",
   "metadata": {},
   "source": [
    "Python内置函数input(\"提示串\")可以用于从键盘输入一个字符串，可以给该函数传递一个提示串，在接受输入字符串，该函数先输出这个提示串。可以将输入的字符串用上述类型转换函数转换为某种类型的数据，如："
   ]
  },
  {
   "cell_type": "code",
   "execution_count": 77,
   "metadata": {},
   "outputs": [
    {
     "name": "stdout",
     "output_type": "stream",
     "text": [
      "请输入一个学生的分数：78.9\n",
      "78.9\n"
     ]
    }
   ],
   "source": [
    "score = input(\"请输入一个学生的分数：\")\n",
    "print(score)"
   ]
  },
  {
   "cell_type": "markdown",
   "metadata": {},
   "source": [
    "### 运算符\n",
    "\n",
    "可以用运算符直接对（对象）值进行运算。不同类型的值支持的运算是不尽相同的。例如对数值类型（int、float）可以进行算术运算如+、-、```*```、/、%、//、```**```。其中%、//、```**```分别表示求余数、整数除、平方运算。如："
   ]
  },
  {
   "cell_type": "code",
   "execution_count": 12,
   "metadata": {},
   "outputs": [
    {
     "name": "stdout",
     "output_type": "stream",
     "text": [
      "x + y = 17\n",
      "x - y = 13\n",
      "x * y = 30\n",
      "x / y = 7.5\n",
      "x // y = 7\n",
      "x ** y = 225\n",
      "x % y = 1\n"
     ]
    }
   ],
   "source": [
    "x = 15\n",
    "y = 2\n",
    "print('x + y =',x+y)\n",
    "print('x - y =',x-y)\n",
    "print('x * y =',x*y)\n",
    "print('x / y =',x/y)\n",
    "print('x // y =',x//y)\n",
    "print('x ** y =',x**y)\n",
    "print('x % y =',x%y)"
   ]
  },
  {
   "cell_type": "markdown",
   "metadata": {},
   "source": [
    "Python的2个字符串可以用加法运算符+，产生的是一个拼接的新字符串，只能对用一个整数和一个字符串用乘法运算符，如："
   ]
  },
  {
   "cell_type": "code",
   "execution_count": 16,
   "metadata": {},
   "outputs": [
    {
     "name": "stdout",
     "output_type": "stream",
     "text": [
      "http://hwdong.net\n",
      "hello hello hello \n"
     ]
    }
   ],
   "source": [
    "print(\"http:\"+\"//\"+\"hwdong.net\") \n",
    "print(\"hello \"*3)"
   ]
  },
  {
   "cell_type": "markdown",
   "metadata": {},
   "source": [
    "不能对2个字符串用乘法运算符或其他运算符如减法运算符。下列语句将出错。"
   ]
  },
  {
   "cell_type": "code",
   "execution_count": 19,
   "metadata": {},
   "outputs": [
    {
     "ename": "TypeError",
     "evalue": "can't multiply sequence by non-int of type 'str'",
     "output_type": "error",
     "traceback": [
      "\u001b[1;31m---------------------------------------------------------------------------\u001b[0m",
      "\u001b[1;31mTypeError\u001b[0m                                 Traceback (most recent call last)",
      "\u001b[1;32m<ipython-input-19-f3e4123ae63f>\u001b[0m in \u001b[0;36m<module>\u001b[1;34m\u001b[0m\n\u001b[1;32m----> 1\u001b[1;33m \u001b[0mprint\u001b[0m\u001b[1;33m(\u001b[0m\u001b[1;34m\"hello \"\u001b[0m\u001b[1;33m*\u001b[0m\u001b[1;34m\"world\"\u001b[0m\u001b[1;33m)\u001b[0m\u001b[1;33m\u001b[0m\u001b[1;33m\u001b[0m\u001b[0m\n\u001b[0m",
      "\u001b[1;31mTypeError\u001b[0m: can't multiply sequence by non-int of type 'str'"
     ]
    }
   ],
   "source": [
    "print(\"hello \"*\"world\")"
   ]
  },
  {
   "cell_type": "markdown",
   "metadata": {},
   "source": [
    "对2个值进行比较的比较运算符==、!=、>、<、>=、<=分别表示等于、不等于、大于、小于、大于等于、小于等于。如："
   ]
  },
  {
   "cell_type": "code",
   "execution_count": 20,
   "metadata": {},
   "outputs": [
    {
     "name": "stdout",
     "output_type": "stream",
     "text": [
      "x > y is True\n",
      "x < y is False\n",
      "x == y is False\n",
      "x != y is True\n",
      "x >= y is True\n",
      "x <= y is False\n"
     ]
    }
   ],
   "source": [
    "x = 15\n",
    "y = 2\n",
    "print('x > y is',x>y)\n",
    "print('x < y is',x<y)\n",
    "print('x == y is',x==y)\n",
    "print('x != y is',x!=y)\n",
    "print('x >= y is',x>=y)\n",
    "print('x <= y is',x<=y)"
   ]
  },
  {
   "cell_type": "markdown",
   "metadata": {},
   "source": [
    "逻辑运算符and、or、not分别表示**逻辑与**、**逻辑或**、**逻辑非**。在逻辑运算中，True或非0或非空对象就是真（True），而False或0或空对象就是假(Fasle)。运算运算符的运算规则是：\n",
    "- 对一个对象x，当x是真 （True或非0值或非空值）时，not x就是False，当x是假（False或0或空值）时，not x就是True（真）。\n",
    "\n"
   ]
  },
  {
   "cell_type": "code",
   "execution_count": 44,
   "metadata": {},
   "outputs": [
    {
     "name": "stdout",
     "output_type": "stream",
     "text": [
      "True\n",
      "True\n",
      "True\n",
      "False\n",
      "False\n"
     ]
    }
   ],
   "source": [
    "print(not 0)\n",
    "print(not \"\")           \n",
    "print(not False)\n",
    "print(not 2)\n",
    "print(not \"hwdong\")          "
   ]
  },
  {
   "cell_type": "markdown",
   "metadata": {},
   "source": [
    "- 对于2个对象x、y，当x是真时，x or y的结果就是x，当x是假时，x or y的结果就是y。"
   ]
  },
  {
   "cell_type": "code",
   "execution_count": 45,
   "metadata": {},
   "outputs": [
    {
     "name": "stdout",
     "output_type": "stream",
     "text": [
      "3\n",
      "2\n",
      "True\n",
      "\n",
      "2\n"
     ]
    }
   ],
   "source": [
    "print(3 or 2)      #因为3是真，3 or 2的结果就是3\n",
    "print(0 or 2)      #因为0是假，0 or 2的结果就是2\n",
    "print(False or True)\n",
    "print(False or \"\")\n",
    "print(\"\" or 2)     #因为空字符串\"\"是假，\"\" or 2的结果就是2"
   ]
  },
  {
   "cell_type": "markdown",
   "metadata": {},
   "source": [
    "- 对于2个对象x、y，当x是真时，x and y的结果就是y，当x是假时，x and y的结果就是x。"
   ]
  },
  {
   "cell_type": "code",
   "execution_count": 46,
   "metadata": {},
   "outputs": [
    {
     "name": "stdout",
     "output_type": "stream",
     "text": [
      "2\n",
      "0\n",
      "False\n",
      "\n",
      "\n"
     ]
    }
   ],
   "source": [
    "print(3 and 2)           #因为3是真，3 and 2的结果就是2\n",
    "print(0 and 2)           #因为0是假，0 and 2的结果就是0\n",
    "print(False and True)\n",
    "print(True and \"\")\n",
    "print(\"\" and 2)          #因为空字符串\"\"是假，\"\" and 2的结果就是{}"
   ]
  },
  {
   "cell_type": "markdown",
   "metadata": {},
   "source": [
    "Python还有移位运算符（如位与&、位或|、异或^、取反~、左移<<、右移>>）等其他运算符。有兴趣读者可以去搜索相关信息。"
   ]
  },
  {
   "cell_type": "markdown",
   "metadata": {},
   "source": [
    "和C语言等编程语言不同，运算符=主要用于给一个变量起一个名字而不是修改一个变量的值。如："
   ]
  },
  {
   "cell_type": "code",
   "execution_count": 47,
   "metadata": {},
   "outputs": [],
   "source": [
    "x=2       # 给对象2起了一个变量名x\n",
    "x+=3      # 等价于 x= x+2,即变量名x指向了原来x引用的2和3相加的结果对象。"
   ]
  },
  {
   "cell_type": "markdown",
   "metadata": {},
   "source": [
    "其中“x=2”给对象2起了一个变量名x，而“x+=3”是“x = x+3”的简写形式，即将变量名x指向了原来x引用的2和3相加的结果对象。可以看到运算符=和其他运算符结合如“x+=b”相当于“x = x+b”。运算符=可以和算术运算符和位运算符结合使用。如：\n",
    "```\n",
    "+=  -+   *=  /=   %=   **=  &=  |=  ^=  ~= <<= >>=  \n",
    "```"
   ]
  },
  {
   "cell_type": "code",
   "execution_count": 48,
   "metadata": {},
   "outputs": [
    {
     "name": "stdout",
     "output_type": "stream",
     "text": [
      "9\n",
      "1\n"
     ]
    }
   ],
   "source": [
    "x=3\n",
    "x**=2\n",
    "print(x)\n",
    "x%=2\n",
    "print(x)"
   ]
  },
  {
   "cell_type": "markdown",
   "metadata": {},
   "source": [
    "注意：python没有其他语言的自增运算符++和自减运算符--。"
   ]
  },
  {
   "cell_type": "markdown",
   "metadata": {},
   "source": [
    "Python的成员运算符用于判断一个值（对象）是否在一个容器对象中。如："
   ]
  },
  {
   "cell_type": "code",
   "execution_count": 50,
   "metadata": {},
   "outputs": [
    {
     "name": "stdout",
     "output_type": "stream",
     "text": [
      "True\n",
      "False\n"
     ]
    }
   ],
   "source": [
    "print(\"h\"in\"hwdong\")\n",
    "print(\"h\"not in\"hwdong\")"
   ]
  },
  {
   "cell_type": "markdown",
   "metadata": {},
   "source": [
    "身份运算符is和is not用于判断两个变量（标识符）是不是引用的同一个对象。"
   ]
  },
  {
   "cell_type": "code",
   "execution_count": 51,
   "metadata": {
    "scrolled": true
   },
   "outputs": [
    {
     "name": "stdout",
     "output_type": "stream",
     "text": [
      "1727166941440\n",
      "1727166941776\n",
      "False\n",
      "True\n",
      "True\n"
     ]
    }
   ],
   "source": [
    "a = 3.14\n",
    "b = 3.15\n",
    "c = a\n",
    "print(id(a))\n",
    "print(id(b))\n",
    "print(a is b)\n",
    "print(a is not b)\n",
    "print(a is  c)"
   ]
  },
  {
   "cell_type": "markdown",
   "metadata": {},
   "source": [
    "### 对字符串进行操作\n",
    "\n",
    "除前面的加法运算符+、```*```外，通常用一些处理字符串的内置函数或字符串类型str的方法对一个字符串进行处理。如："
   ]
  },
  {
   "cell_type": "code",
   "execution_count": 59,
   "metadata": {},
   "outputs": [
    {
     "name": "stdout",
     "output_type": "stream",
     "text": [
      "http://Hwdong.Net\n",
      "17\n",
      "Http://hwdong.net\n",
      "HTTP://HWDONG.NET\n",
      "http://hwdong.net\n",
      "   http://Hwdong.Net\n",
      " http://Hwdong.Net  \n",
      "http://www.Hwdong.Net\n",
      "hwdong.net\n",
      "http://Hwdong.Net\n"
     ]
    }
   ],
   "source": [
    "s = \"http://Hwdong.Net\"\n",
    "print(s)                # 用print输出s引用的字符串内容\n",
    "print(len(s))           # 用len()函数得到s引用的字符串的长度，即字符个数\n",
    "print(s.capitalize())   #首字母大写\n",
    "print(s.upper())        #所有字母大写\n",
    "print(s.lower())        #所有字母小写\n",
    "print(s.rjust(20))      #右对齐\n",
    "print(s.center(20))     #中心对齐\n",
    "print(s.replace('//', '//www.'))    #替换\n",
    "print('  hwdong '.strip()+\".net\")   #裁剪\n",
    "print(s)"
   ]
  },
  {
   "cell_type": "markdown",
   "metadata": {},
   "source": [
    "注意，字符串对象是“不可以被修改的”，所有修改性操作实际返回的是一个新字符串，而原来的字符串并没有被修改！\n",
    "\n",
    "还有可以在字符串里用格式符%来将一些数据格式化到字符串中，创建一个新字符串。如："
   ]
  },
  {
   "cell_type": "code",
   "execution_count": 61,
   "metadata": {},
   "outputs": [
    {
     "name": "stdout",
     "output_type": "stream",
     "text": [
      "The score of LiPing is:  78.500000\n"
     ]
    }
   ],
   "source": [
    "s2 = '%s %s %f' % (\"The score\", \"of LiPing is: \", 78.5)\n",
    "print(s2)"
   ]
  },
  {
   "cell_type": "markdown",
   "metadata": {},
   "source": [
    "也可以用字符串str的format()方法对一个字符串格式化，即将字符串中的占位符{}依次替换为format()方法中的数据。如："
   ]
  },
  {
   "cell_type": "code",
   "execution_count": 62,
   "metadata": {},
   "outputs": [
    {
     "name": "stdout",
     "output_type": "stream",
     "text": [
      "The score of LiPing is:  78.5\n"
     ]
    }
   ],
   "source": [
    "print (\"{} {} {}\".format(\"The score\", \"of LiPing is: \", 78.5)) "
   ]
  },
  {
   "cell_type": "markdown",
   "metadata": {},
   "source": [
    "可以通过指定一个下标访问字符串的某个字符，下标从0开始，长度为n的字符串的下标为$0,1,2\\cdots,n-1$，下标甚至可以是负整数，其中-1指的是最后一个字符，-n指的是第1个字符。"
   ]
  },
  {
   "cell_type": "code",
   "execution_count": 63,
   "metadata": {},
   "outputs": [
    {
     "name": "stdout",
     "output_type": "stream",
     "text": [
      "h w d o n g\n",
      "g w d o n g\n"
     ]
    }
   ],
   "source": [
    "s = \"hwdong\"\n",
    "print(s[0], s[1], s[2], s[3], s[4], s[5])\n",
    "print(s[-1],s[-5],s[-4],s[-3],s[-2],s[-1])"
   ]
  },
  {
   "cell_type": "markdown",
   "metadata": {},
   "source": [
    "对于一个字符串s，```s[start:end:step]```表示创建一个从起始位置start开始，直到结束位置end，间隔步长为step的所有字符（不包括end位置的字符）构成的一个新字符串。如果没有指定step，则默认为1。如："
   ]
  },
  {
   "cell_type": "code",
   "execution_count": 98,
   "metadata": {},
   "outputs": [
    {
     "name": "stdout",
     "output_type": "stream",
     "text": [
      "wog\n",
      "tng\n",
      "wdong\n"
     ]
    }
   ],
   "source": [
    "s = \"hwdong.net\"\n",
    "print(s[1:6:2])\n",
    "print(s[-1:-6:-2])\n",
    "print(s[1:6])"
   ]
  },
  {
   "cell_type": "markdown",
   "metadata": {},
   "source": [
    "### if语句\n",
    "\n",
    "**if**关键字后面跟一个表示某种条件的表达式，当该表达式为True或非空值时，就执行if语句中的程序块。其格式如下：\n",
    "\n",
    "```\n",
    "if 表达式：\n",
    "    程序块\n",
    "```\n",
    "如："
   ]
  },
  {
   "cell_type": "code",
   "execution_count": 73,
   "metadata": {},
   "outputs": [
    {
     "name": "stdout",
     "output_type": "stream",
     "text": [
      "恭喜你!\n",
      "通过了考试。\n"
     ]
    }
   ],
   "source": [
    "score = 65.5\n",
    "if score>=60:\n",
    "   print(\"恭喜你!\")\n",
    "   print(\"通过了考试。\")\n"
   ]
  },
  {
   "cell_type": "markdown",
   "metadata": {},
   "source": [
    "**注意**:\n",
    "- if 表达式后面要有冒号:\n",
    "- Python中通过对齐方法表示一组语句属于同一个程序块，而其他语言如C、Java通常需要用一对{}包为统一程序块的语句。\n",
    "        \n",
    "Python中属于同一个程序块的代码如果正确的缩进，Python解释器会报错的。如："
   ]
  },
  {
   "cell_type": "code",
   "execution_count": 75,
   "metadata": {},
   "outputs": [
    {
     "ename": "IndentationError",
     "evalue": "unindent does not match any outer indentation level (<tokenize>, line 4)",
     "output_type": "error",
     "traceback": [
      "\u001b[1;36m  File \u001b[1;32m\"<tokenize>\"\u001b[1;36m, line \u001b[1;32m4\u001b[0m\n\u001b[1;33m    print(\"通过了考试。\")\u001b[0m\n\u001b[1;37m    ^\u001b[0m\n\u001b[1;31mIndentationError\u001b[0m\u001b[1;31m:\u001b[0m unindent does not match any outer indentation level\n"
     ]
    }
   ],
   "source": [
    "score = 65.5\n",
    "if score>=60:\n",
    "   print(\"恭喜你!\")\n",
    "  print(\"通过了考试。\")"
   ]
  },
  {
   "cell_type": "markdown",
   "metadata": {},
   "source": [
    "if和else可以结合使用，表示“如果...否则...”的意思。即当if中的条件表达式为True，则执行if子句中的程序块，否则执行else子句中的程序块。else后面不需要条件表达式。 其格式是：\n",
    "```\n",
    "if 表达式：\n",
    "    程序块\n",
    "else\n",
    "    程序块2\n",
    "```\n",
    "如："
   ]
  },
  {
   "cell_type": "code",
   "execution_count": 78,
   "metadata": {},
   "outputs": [
    {
     "name": "stdout",
     "output_type": "stream",
     "text": [
      "请输入学生成绩：45\n",
      "你未通过考试。\n",
      "继续努力，加油！\n"
     ]
    }
   ],
   "source": [
    "score= int(input(\"请输入学生成绩：\"));\n",
    "if score>=60:\n",
    "    print(\"恭喜你!\")\n",
    "    print(\"通过了考试。\")\n",
    "else:\n",
    "    print(\"你未通过考试。\")\n",
    "    print(\"继续努力，加油！\")"
   ]
  },
  {
   "cell_type": "markdown",
   "metadata": {},
   "source": [
    "对于多个条件可以用if的另一种形式“if...elif...else”，即“如果...否则如果...否则”的意思。\n",
    "```\n",
    "if 表达式1:\n",
    "   程序块1\n",
    "elif 表达式2:\n",
    "   程序块2\n",
    "elif 表达式3:\n",
    "   程序块3.\n",
    "else:\n",
    "   程序块k\n",
    "\n",
    "```\n",
    "如："
   ]
  },
  {
   "cell_type": "code",
   "execution_count": 80,
   "metadata": {},
   "outputs": [
    {
     "name": "stdout",
     "output_type": "stream",
     "text": [
      "请输入学生成绩：79\n",
      "中等\n"
     ]
    }
   ],
   "source": [
    "score= int(input(\"请输入学生成绩：\"));\n",
    "if score<60:\n",
    "    print(\"不及格\")\n",
    "elif score<70:\n",
    "    print(\"及格\")\n",
    "elif score<80:\n",
    "    print(\"中等\")\n",
    "elif score<90:\n",
    "    print(\"良好\")\n",
    "else:\n",
    "    print(\"优秀\");"
   ]
  },
  {
   "cell_type": "markdown",
   "metadata": {},
   "source": [
    "### while语句\n",
    "\n",
    "while语句的格式如下\n",
    "```\n",
    "while 表达式:\n",
    "      程序块\n",
    "```\n",
    "即，当关键字while里的“表达式”为True，就重复执行其中的程序块。如："
   ]
  },
  {
   "cell_type": "code",
   "execution_count": 82,
   "metadata": {},
   "outputs": [
    {
     "name": "stdout",
     "output_type": "stream",
     "text": [
      "5050\n"
     ]
    }
   ],
   "source": [
    "i = 1\n",
    "s = 0\n",
    "while i<=100:\n",
    "   s = s+i;      #等价于  s += i\n",
    "   i+=1\n",
    "print(s)"
   ]
  },
  {
   "cell_type": "markdown",
   "metadata": {},
   "source": [
    "再如，统计键盘输入的一组学生分数的平均分，可以用下列代码是实现："
   ]
  },
  {
   "cell_type": "code",
   "execution_count": 86,
   "metadata": {},
   "outputs": [
    {
     "name": "stdout",
     "output_type": "stream",
     "text": [
      "请输入学生成绩：45\n",
      "请输入学生成绩：78\n",
      "请输入学生成绩：93\n",
      "请输入学生成绩：-1\n",
      "平均成绩为： 72.0\n"
     ]
    }
   ],
   "source": [
    "total_score=0\n",
    "i= 0\n",
    "score = float(input(\"请输入学生成绩：\"))\n",
    "while True:\n",
    "    total_score += score\n",
    "    i += 1\n",
    "    score = float(input(\"请输入学生成绩：\"))\n",
    "    if  score<0:\n",
    "        break                           #关键字break用于跳出循环   \n",
    "    \n",
    "print('平均成绩为：', total_score/i) "
   ]
  },
  {
   "cell_type": "markdown",
   "metadata": {},
   "source": [
    "在循环的程序块里嵌套了一个if条件语句，其中又有一个break关键表示的语句，表示跳出整个循环。"
   ]
  },
  {
   "cell_type": "markdown",
   "metadata": {},
   "source": [
    "### for语句\n",
    "\n",
    "for关键表示的也是一个循环语句，表示迭代访问一个容器对象中的每个元素。格式为：\n",
    "```\n",
    "for e in container:\n",
    "    程序块\n",
    "```\n",
    "表示循环访问容器对象container中的每个元素e，执行其中程序块的语句。如："
   ]
  },
  {
   "cell_type": "code",
   "execution_count": 89,
   "metadata": {},
   "outputs": [
    {
     "name": "stdout",
     "output_type": "stream",
     "text": [
      "h w d o n g "
     ]
    }
   ],
   "source": [
    "for ch in \"hwdong\":\n",
    "    print(ch,end=\" \")"
   ]
  },
  {
   "cell_type": "markdown",
   "metadata": {},
   "source": [
    "print()函数的参数end表示print()函数输出内容后的结束字符，默认是\"\\n\"表示换行符，这里用空格符\" \"代替了\"\\n\"。因此，输出ch后，print并没有换行，而是输出一个空格。"
   ]
  },
  {
   "cell_type": "markdown",
   "metadata": {},
   "source": [
    "### Python常用容器类型\n",
    "\n",
    "如同一个字符串是一些字符的容器一样，Python提供了list、tuple、set、dict等容器类型。\n",
    "\n",
    "#### list（列表）\n",
    "\n",
    "列表list是一组数据元素（对象）的有序序列，定义列表对象是用一对左右方括号```[ ]```包围、数据元素之间用逗号隔开。如："
   ]
  },
  {
   "cell_type": "code",
   "execution_count": null,
   "metadata": {},
   "outputs": [],
   "source": [
    "[1,2,3]\n",
    "type([1,2,3])"
   ]
  },
  {
   "cell_type": "markdown",
   "metadata": {},
   "source": [
    "list中的数据元素可以是不同的类型，甚至是包含其他对象的list对象，如：\n",
    "```\n",
    "[2, 3.14, 'python']\n",
    "[2, 3.14,True,[3,6,9],'python']\n",
    "```\n",
    "和字符串一样，可以用一个下标访问（修改）其中的一个元素，也可以用```[start:end:step]```访问（修改）其中的多个元素。"
   ]
  },
  {
   "cell_type": "code",
   "execution_count": 99,
   "metadata": {},
   "outputs": [
    {
     "name": "stdout",
     "output_type": "stream",
     "text": [
      "<class 'list'>\n",
      "[2, 3.14, True, [3, 6, 9], 'python']\n",
      "my_list[0]: 2\n",
      "my_list[3]: [3, 6, 9]\n",
      "my_list[-2]: python\n",
      "my_list[:]: [2, 3.14, True, [3, 6, 9], 'python']\n",
      "[2, 3.14, 13, 9, 'python']\n"
     ]
    }
   ],
   "source": [
    "my_list =[2, 3.14,True,[3,6,9],'python']\n",
    "print(type(my_list))  #打印my_list的类型，即list类型\n",
    "print(my_list)\n",
    "print(\"my_list[0]:\",my_list[0])\n",
    "print(\"my_list[3]:\",my_list[3])\n",
    "print(\"my_list[-2]:\",my_list[-1])\n",
    "print(\"my_list[:]:\",my_list[:])        #所有元素\n",
    "my_list[2:4] = [13, 9]\n",
    "print(my_list)"
   ]
  },
  {
   "cell_type": "markdown",
   "metadata": {},
   "source": [
    "当然可以用for循环等访问一个list对象中的元素。如："
   ]
  },
  {
   "cell_type": "code",
   "execution_count": 100,
   "metadata": {},
   "outputs": [
    {
     "name": "stdout",
     "output_type": "stream",
     "text": [
      "2 3.14 13 9 python "
     ]
    }
   ],
   "source": [
    "for e in my_list:\n",
    "    print(e,end=\" \")"
   ]
  },
  {
   "cell_type": "markdown",
   "metadata": {},
   "source": [
    "甚至可以用for循环遍历一个容器或可迭代对象的方式来创建一个新的list对象。如："
   ]
  },
  {
   "cell_type": "code",
   "execution_count": 104,
   "metadata": {},
   "outputs": [
    {
     "name": "stdout",
     "output_type": "stream",
     "text": [
      "[0, 1, 4, 9, 16, 25]\n"
     ]
    }
   ],
   "source": [
    "alist = [e**2 for e in [0,1,2,3,4,5]]\n",
    "print(alist)"
   ]
  },
  {
   "cell_type": "markdown",
   "metadata": {},
   "source": [
    "表示对```[1,2,3,4,5]```的每个元素e计算```e**2```，用这些值创建了一个list对象。python的一个内置函数range(n)是一个产生0到n之间整数（不包括n）的迭代器对象。下列代码可产生同样的结果："
   ]
  },
  {
   "cell_type": "code",
   "execution_count": 105,
   "metadata": {},
   "outputs": [
    {
     "name": "stdout",
     "output_type": "stream",
     "text": [
      "[0, 1, 4, 9, 16, 25]\n"
     ]
    }
   ],
   "source": [
    "alist = [e**2 for e in range(6)]\n",
    "print(alist)"
   ]
  },
  {
   "cell_type": "code",
   "execution_count": null,
   "metadata": {},
   "outputs": [],
   "source": [
    "上述这种通过在[]中迭代计算产生值创建一个新list对象的式子，叫做“列表解析式”。其中还可以包括更加复杂的计算式子，如包含条件语句："
   ]
  },
  {
   "cell_type": "code",
   "execution_count": 139,
   "metadata": {},
   "outputs": [
    {
     "name": "stdout",
     "output_type": "stream",
     "text": [
      "[0, 4, 16]\n"
     ]
    }
   ],
   "source": [
    "alist = [0, 1, 2, 3, 4,5]\n",
    "alist = [x ** 2 for x in alist if x % 2 == 0]\n",
    "print(alist)  "
   ]
  },
  {
   "cell_type": "markdown",
   "metadata": {},
   "source": [
    "#### tuple（元组）\n",
    "\n",
    "和list一样，tuple(元组)也是一组数据元素（对象）的有序序列，也就是每个元素也有唯一的下标。定义tuple是用圆括号而不是方括号。如："
   ]
  },
  {
   "cell_type": "code",
   "execution_count": 140,
   "metadata": {},
   "outputs": [
    {
     "name": "stdout",
     "output_type": "stream",
     "text": [
      "<class 'tuple'>\n",
      "([2, 5], 37, 3.14)\n",
      "('https://hwdong.net', 3.14, 37)\n"
     ]
    }
   ],
   "source": [
    "t = ('python',[2,5],37,3.14,\"https://hwdong.net\")\n",
    "print(type(t))\n",
    "print(t[1:4])\n",
    "print(t[-1:-4:-1])"
   ]
  },
  {
   "cell_type": "markdown",
   "metadata": {},
   "source": [
    "list中的元素是可以修改的。"
   ]
  },
  {
   "cell_type": "code",
   "execution_count": 141,
   "metadata": {},
   "outputs": [
    {
     "name": "stdout",
     "output_type": "stream",
     "text": [
      "[0, 4, 16]\n",
      "[0, 22, 16]\n"
     ]
    }
   ],
   "source": [
    "print(alist)\n",
    "alist[1] = 22\n",
    "print(alist)"
   ]
  },
  {
   "cell_type": "markdown",
   "metadata": {},
   "source": [
    "tuple中的元素是不可以被修改的，如同字符串中的元素是不可以被修改的。"
   ]
  },
  {
   "cell_type": "code",
   "execution_count": 142,
   "metadata": {},
   "outputs": [
    {
     "ename": "TypeError",
     "evalue": "'tuple' object does not support item assignment",
     "output_type": "error",
     "traceback": [
      "\u001b[1;31m---------------------------------------------------------------------------\u001b[0m",
      "\u001b[1;31mTypeError\u001b[0m                                 Traceback (most recent call last)",
      "\u001b[1;32m<ipython-input-142-70d00e4ef536>\u001b[0m in \u001b[0;36m<module>\u001b[1;34m\u001b[0m\n\u001b[1;32m----> 1\u001b[1;33m \u001b[0mt\u001b[0m\u001b[1;33m[\u001b[0m\u001b[1;36m1\u001b[0m\u001b[1;33m]\u001b[0m\u001b[1;33m=\u001b[0m\u001b[1;36m22\u001b[0m\u001b[1;33m\u001b[0m\u001b[1;33m\u001b[0m\u001b[0m\n\u001b[0m",
      "\u001b[1;31mTypeError\u001b[0m: 'tuple' object does not support item assignment"
     ]
    }
   ],
   "source": [
    "t[1]=22"
   ]
  },
  {
   "cell_type": "markdown",
   "metadata": {},
   "source": [
    "可以用()的解析式创建一个可迭代对象而不是tuple对象，如："
   ]
  },
  {
   "cell_type": "code",
   "execution_count": 151,
   "metadata": {},
   "outputs": [
    {
     "name": "stdout",
     "output_type": "stream",
     "text": [
      "<generator object <genexpr> at 0x00000192233DB8B8>\n",
      "0 1 4 9 16 25 "
     ]
    }
   ],
   "source": [
    "nums = (x**2 for x in range(6))\n",
    "print(nums) \n",
    "for e in nums:\n",
    "    print(e,end= \" \")"
   ]
  },
  {
   "cell_type": "markdown",
   "metadata": {},
   "source": [
    "#### set（集合）\n",
    "\n",
    "set是不包含重复元素的无序集合。set是用左右花括号{}包围的以逗号隔开的一组元素。元素的类型可以是不同的。如："
   ]
  },
  {
   "cell_type": "code",
   "execution_count": 143,
   "metadata": {},
   "outputs": [
    {
     "name": "stdout",
     "output_type": "stream",
     "text": [
      "<class 'set'>\n",
      "{2, 3.14, 5, 8, 'python'}\n"
     ]
    }
   ],
   "source": [
    "s = {5,5,3.14,2,'python',8}\n",
    "print(type(s))\n",
    "print(s)"
   ]
  },
  {
   "cell_type": "markdown",
   "metadata": {},
   "source": [
    "可以用add()和remove()函数向一个集合中添加和删除一个元素，而list对象可以用append()或insert()函数追加或插入元素，pop() 用于删除最后一个元素，remove()则是删除第一个指定值的元素。"
   ]
  },
  {
   "cell_type": "code",
   "execution_count": 144,
   "metadata": {},
   "outputs": [
    {
     "name": "stdout",
     "output_type": "stream",
     "text": [
      "{2, 3.14, 5, 'hwdong', 8, 'python'}\n",
      "{2, 3.14, 5, 8, 'python'}\n",
      "[0, 22, 16, 'hwdong']\n",
      "[0, 22, 'net', 16, 'hwdong']\n",
      "[0, 22, 'net', 16]\n",
      "[0, 22, 16]\n"
     ]
    }
   ],
   "source": [
    "s.add(\"hwdong\")\n",
    "print(s)\n",
    "s.remove(\"hwdong\")\n",
    "print(s)\n",
    "alist.append(\"hwdong\")\n",
    "print(alist)\n",
    "alist.insert(2,\"net\")\n",
    "print(alist)\n",
    "alist.pop()\n",
    "print(alist)\n",
    "alist.remove(\"net\")\n",
    "print(alist)"
   ]
  },
  {
   "cell_type": "markdown",
   "metadata": {},
   "source": [
    "但不可修改对象如tuple则没有append()或insert()之类的函数用于添加元素。下列代码是错误的："
   ]
  },
  {
   "cell_type": "code",
   "execution_count": 133,
   "metadata": {},
   "outputs": [
    {
     "ename": "AttributeError",
     "evalue": "'tuple' object has no attribute 'append'",
     "output_type": "error",
     "traceback": [
      "\u001b[1;31m---------------------------------------------------------------------------\u001b[0m",
      "\u001b[1;31mAttributeError\u001b[0m                            Traceback (most recent call last)",
      "\u001b[1;32m<ipython-input-133-34fd50c7f43a>\u001b[0m in \u001b[0;36m<module>\u001b[1;34m\u001b[0m\n\u001b[1;32m----> 1\u001b[1;33m \u001b[0mt\u001b[0m\u001b[1;33m.\u001b[0m\u001b[0mappend\u001b[0m\u001b[1;33m(\u001b[0m\u001b[1;34m\"hwdong\"\u001b[0m\u001b[1;33m)\u001b[0m\u001b[1;33m\u001b[0m\u001b[1;33m\u001b[0m\u001b[0m\n\u001b[0m",
      "\u001b[1;31mAttributeError\u001b[0m: 'tuple' object has no attribute 'append'"
     ]
    }
   ],
   "source": [
    "t.append(\"hwdong\")"
   ]
  },
  {
   "cell_type": "code",
   "execution_count": null,
   "metadata": {},
   "outputs": [],
   "source": [
    "可以用{}的解析式创建一个set对象，如："
   ]
  },
  {
   "cell_type": "code",
   "execution_count": 152,
   "metadata": {},
   "outputs": [
    {
     "name": "stdout",
     "output_type": "stream",
     "text": [
      "{0, 1, 4, 9, 16, 25}\n"
     ]
    }
   ],
   "source": [
    "nums = {x**2 for x in range(6)}\n",
    "print(nums) "
   ]
  },
  {
   "cell_type": "markdown",
   "metadata": {},
   "source": [
    "#### dict（字典）\n",
    "\n",
    "dict是一个 (key-value pairs) “键-值”对的无序集合。每个元素都以“键:值(key:value)”的形式存储的。如："
   ]
  },
  {
   "cell_type": "code",
   "execution_count": 154,
   "metadata": {},
   "outputs": [
    {
     "name": "stdout",
     "output_type": "stream",
     "text": [
      "<class 'dict'>\n",
      "{1: 'value', 'key': 2, 'hello': [4, 7]}\n"
     ]
    }
   ],
   "source": [
    "d = {1:'value', 'key':2, 'hello': [4,7]}\n",
    "print(type(d))\n",
    "print(d)"
   ]
  },
  {
   "cell_type": "markdown",
   "metadata": {},
   "source": [
    "需要通过key(键，也称为关键字)才能访问dict中这个key对应元素的值value。如："
   ]
  },
  {
   "cell_type": "code",
   "execution_count": 155,
   "metadata": {},
   "outputs": [
    {
     "data": {
      "text/plain": [
       "[4, 7]"
      ]
     },
     "execution_count": 155,
     "metadata": {},
     "output_type": "execute_result"
    }
   ],
   "source": [
    "d['hello']"
   ]
  },
  {
   "cell_type": "markdown",
   "metadata": {},
   "source": [
    "如果一个key对应的元素不存在，通过这个key访问元素是非法的，如："
   ]
  },
  {
   "cell_type": "code",
   "execution_count": 156,
   "metadata": {},
   "outputs": [
    {
     "ename": "KeyError",
     "evalue": "3",
     "output_type": "error",
     "traceback": [
      "\u001b[1;31m---------------------------------------------------------------------------\u001b[0m",
      "\u001b[1;31mKeyError\u001b[0m                                  Traceback (most recent call last)",
      "\u001b[1;32m<ipython-input-156-0acadf17a380>\u001b[0m in \u001b[0;36m<module>\u001b[1;34m\u001b[0m\n\u001b[1;32m----> 1\u001b[1;33m \u001b[0md\u001b[0m\u001b[1;33m[\u001b[0m\u001b[1;36m3\u001b[0m\u001b[1;33m]\u001b[0m\u001b[1;33m\u001b[0m\u001b[1;33m\u001b[0m\u001b[0m\n\u001b[0m",
      "\u001b[1;31mKeyError\u001b[0m: 3"
     ]
    }
   ],
   "source": [
    "d[3]"
   ]
  },
  {
   "cell_type": "markdown",
   "metadata": {},
   "source": [
    "但可以给一个不存在的key赋一个值（value），将在这个set中添加一个“键-值”对的元素。如："
   ]
  },
  {
   "cell_type": "code",
   "execution_count": 157,
   "metadata": {},
   "outputs": [
    {
     "name": "stdout",
     "output_type": "stream",
     "text": [
      "{1: 'value', 'key': 2, 'hello': [4, 7], 3: 'python'}\n",
      "python\n"
     ]
    }
   ],
   "source": [
    "d[3] = \"python\"\n",
    "print(d)\n",
    "print(d[3])"
   ]
  },
  {
   "cell_type": "markdown",
   "metadata": {},
   "source": [
    "可以定义一个表示学生信息并以名字作为关键字的dict对象："
   ]
  },
  {
   "cell_type": "code",
   "execution_count": 159,
   "metadata": {},
   "outputs": [
    {
     "name": "stdout",
     "output_type": "stream",
     "text": [
      "{'LiPing': [21, '计科01', 15370203152], 'ZhangWei': [20, '计科02', 17331203312], 'ZhaoSi': [22, '机械03', 16908092516]}\n",
      "[20, '计科02', 17331203312]\n"
     ]
    }
   ],
   "source": [
    "students={\"LiPing\":[21,\"计科01\",15370203152],\"ZhangWei\":[20,\"计科02\",17331203312]\n",
    "         ,\"ZhaoSi\":[22,\"机械03\",16908092516]}\n",
    "print(students)\n",
    "print(students[\"ZhangWei\"])"
   ]
  },
  {
   "cell_type": "markdown",
   "metadata": {},
   "source": [
    "可以通过for...in循环语句访问字典中的元素，如："
   ]
  },
  {
   "cell_type": "code",
   "execution_count": 164,
   "metadata": {},
   "outputs": [
    {
     "name": "stdout",
     "output_type": "stream",
     "text": [
      "LiPing's info: [21, '计科01', 15370203152] \n",
      "ZhangWei's info: [20, '计科02', 17331203312] \n",
      "ZhaoSi's info: [22, '机械03', 16908092516] \n"
     ]
    }
   ],
   "source": [
    "for name in students:\n",
    "    info = students[name]\n",
    "    print('{}\\'s info: {} '.format(name, info))   "
   ]
  },
  {
   "cell_type": "markdown",
   "metadata": {},
   "source": [
    "注意：单引号'的字符串中不能直接包含单引号'需要用反斜杠字符\\和单引号'构成的转义字符表示单引号字符'。在双引号字符\"的字符串中包含双引号字符，则也需要用转移字符\\\"。"
   ]
  },
  {
   "cell_type": "markdown",
   "metadata": {},
   "source": [
    "上述for循环中的name表示的是字典对象的key（键），如果向同时获得键（key）和值（value），则可以用dict类的item()方法获得一个字典对象的所有键-值："
   ]
  },
  {
   "cell_type": "code",
   "execution_count": 166,
   "metadata": {},
   "outputs": [
    {
     "name": "stdout",
     "output_type": "stream",
     "text": [
      "LiPing's info: [21, '计科01', 15370203152] \n",
      "ZhangWei's info: [20, '计科02', 17331203312] \n",
      "ZhaoSi's info: [22, '机械03', 16908092516] \n"
     ]
    }
   ],
   "source": [
    "for key,value in students.items():\n",
    "    value = students[key]\n",
    "    print('{}\\'s info: {} '.format(key,value)) "
   ]
  },
  {
   "cell_type": "markdown",
   "metadata": {},
   "source": [
    "当然，也可以用一个{}解析式创建一个字典对象，如："
   ]
  },
  {
   "cell_type": "code",
   "execution_count": 168,
   "metadata": {},
   "outputs": [
    {
     "name": "stdout",
     "output_type": "stream",
     "text": [
      "{0: 0, 1: 1, 2: 4, 3: 9, 4: 16, 5: 25}\n"
     ]
    }
   ],
   "source": [
    "points = {x:x**2 for x in range(6)}\n",
    "print(points) "
   ]
  },
  {
   "cell_type": "markdown",
   "metadata": {},
   "source": [
    "### 函数\n",
    "\n",
    "Python通过关键字def定义函数，给一个程序块起一个名字，然后就可以通过函数名去调用执行这个函数块中的代码。\n",
    "\n",
    "下面的代码首先用关键字import导入了数学函数库math，其中有一个表示PI的常量math.pi，然后定义了一个函数名是circle_area的函数，此后，可以通过函数名circle_area调用上面的circle_area()函数。"
   ]
  },
  {
   "cell_type": "code",
   "execution_count": 170,
   "metadata": {},
   "outputs": [
    {
     "name": "stdout",
     "output_type": "stream",
     "text": [
      "半径是2.5的圆面积是：19.634954\n"
     ]
    }
   ],
   "source": [
    "#定义一个函数名是circle_area的函数\n",
    "import math             #导入数学函数库math，其中有一个表示PI的常量math.pi\n",
    "def circle_area():\n",
    "    area = math.pi*2.5**2\n",
    "    print(\"半径是2.5的圆面积是：%f\"%area)    \n",
    "\n",
    "circle_area()    #通过函数名circle_area调用上面的circle_area()函数"
   ]
  },
  {
   "cell_type": "markdown",
   "metadata": {},
   "source": [
    "函数名后面的()里是函数的参数，调用该函数的代码可以将相应的数值传给对应的函数参数。如给上面函数添加一个表示半径的参数r。在调用时，也必须提供实际数值给这个参数r。"
   ]
  },
  {
   "cell_type": "code",
   "execution_count": 177,
   "metadata": {},
   "outputs": [
    {
     "name": "stdout",
     "output_type": "stream",
     "text": [
      "半径是 2.50的圆面积是：19.63\n",
      "半径是 3.50的圆面积是：38.48\n"
     ]
    }
   ],
   "source": [
    "import math             \n",
    "def circle_area(r):\n",
    "    area = math.pi*r**2\n",
    "    print(\"半径是%5.2f的圆面积是：%5.2f\"%(r,area))    #格式符%5.2f表示输出的是float类型的数，占据5位宽，小数点后是2位\n",
    "\n",
    "circle_area(2.5)    #通计算半径是2.5的圆面积\n",
    "circle_area(3.5)    #通计算半径是3.5的圆面积"
   ]
  },
  {
   "cell_type": "markdown",
   "metadata": {},
   "source": [
    "函数内部可以通过return返回，即结束函数的执行，return还可以返回一些数值。如："
   ]
  },
  {
   "cell_type": "code",
   "execution_count": 188,
   "metadata": {},
   "outputs": [
    {
     "name": "stdout",
     "output_type": "stream",
     "text": [
      "半径是2.5的圆面积和周长是：19.63,15.71\n",
      "半径是3.5的圆面积和周长是：38.48,21.99\n"
     ]
    }
   ],
   "source": [
    "import math             \n",
    "def circle(r):\n",
    "    area = math.pi*r**2\n",
    "    perimeter = 2*math.pi*r\n",
    "    return area,perimeter    \n",
    "\n",
    "area,p = circle(2.5)   \n",
    "print(\"半径是2.5的圆面积和周长是：%5.2f,%5.2f\"%(area,p))\n",
    "area,p =circle(3.5)   \n",
    "print(\"半径是3.5的圆面积和周长是：%5.2f,%5.2f\"%(area,p))"
   ]
  },
  {
   "cell_type": "markdown",
   "metadata": {},
   "source": [
    "函数的参数可以有默认值，如果调用函数时，没有提供相应的参数。"
   ]
  },
  {
   "cell_type": "code",
   "execution_count": 191,
   "metadata": {},
   "outputs": [
    {
     "name": "stdout",
     "output_type": "stream",
     "text": [
      "12.25\n",
      "42.875\n"
     ]
    }
   ],
   "source": [
    "def pow(x,n=2):\n",
    "    ret = 1\n",
    "    for i in range(n):\n",
    "        ret *=x\n",
    "    return ret\n",
    "\n",
    "print(pow(3.5))\n",
    "print(pow(3.5,3))        "
   ]
  },
  {
   "cell_type": "markdown",
   "metadata": {},
   "source": [
    "定义函数时，默认参数必须排在非默认参数的后面。下面函数定义是错误的。"
   ]
  },
  {
   "cell_type": "code",
   "execution_count": null,
   "metadata": {},
   "outputs": [],
   "source": [
    "def pow(a,b=2,c):\n",
    "    return a+b+c"
   ]
  },
  {
   "cell_type": "markdown",
   "metadata": {},
   "source": [
    "一个函数内部可以存在调用其他函数的语句，函数也可以作为另外函数的参数。\n",
    "\n",
    "下面的函数solve_iterative()用于求f(x)=y的方程的根，参数lower、 upper是求解区间的左右端点，参数f可以接受一个函数，参数y是一个数值。假设f表示的是一个单挑递增的函数，函数solve_iterative()采用二分法去计算区间中点middle的值f(middle)是否和y足够接近。如果没有，则在左半区间或右半区间重复这个过程。\n",
    "\n",
    "函数area()计算半径r的圆面积，最后调用solve_iterative()去求半径0.5和0.6之间圆面积为1的那个圆的半径是什么？"
   ]
  },
  {
   "cell_type": "code",
   "execution_count": 198,
   "metadata": {},
   "outputs": [
    {
     "name": "stdout",
     "output_type": "stream",
     "text": [
      "lower: 0.5 upper: 0.6\n",
      "lower: 0.55 upper: 0.6\n",
      "lower: 0.55 upper: 0.575\n",
      "lower: 0.5625 upper: 0.575\n",
      "lower: 0.5625 upper: 0.56875\n",
      "lower: 0.5625 upper: 0.565625\n",
      "lower: 0.5640625 upper: 0.565625\n",
      "lower: 0.5640625 upper: 0.5648437500000001\n",
      "lower: 0.5640625 upper: 0.564453125\n",
      "lower: 0.5640625 upper: 0.5642578125\n",
      "lower: 0.56416015625 upper: 0.5642578125\n",
      "lower: 0.56416015625 upper: 0.564208984375\n",
      "lower: 0.5641845703125 upper: 0.564208984375\n",
      "lower: 0.5641845703125 upper: 0.56419677734375\n",
      "lower: 0.5641845703125 upper: 0.564190673828125\n",
      "lower: 0.5641876220703126 upper: 0.564190673828125\n",
      "lower: 0.5641891479492188 upper: 0.564190673828125\n",
      "0.5和0.6之间圆面积为1的那个圆的半径是: 0.5641895294189454\n"
     ]
    }
   ],
   "source": [
    "import math   \n",
    "def solve_iterative(f, y, lower=0, upper=1):\n",
    "    middle = (lower + upper) / 2\n",
    "    while math.fabs(f(middle) - y) >= 1e-6:\n",
    "        print(\"lower:\", lower, \"upper:\", upper)\n",
    "        if f(middle) < y:\n",
    "            lower = middle\n",
    "        else:\n",
    "            upper = middle        \n",
    "        middle = (lower + upper) / 2\n",
    "    return middle\n",
    "\n",
    "def area(r):    \n",
    "    return (r ** 2) * math.pi\n",
    "\n",
    "print(\"0.5和0.6之间圆面积为1的那个圆的半径是:\", solve_iterative(area, 1, 0.5, 0.6))"
   ]
  },
  {
   "cell_type": "markdown",
   "metadata": {},
   "source": [
    "当然，一个函数可以在其内部调用自身，这种函数称为递归函数。下面求一个正整数n的阶乘的函数，当n=1时，直接返回1，否则将 n!转化为n*(n-1)!的问题。"
   ]
  },
  {
   "cell_type": "code",
   "execution_count": 199,
   "metadata": {},
   "outputs": [
    {
     "data": {
      "text/plain": [
       "24"
      ]
     },
     "execution_count": 199,
     "metadata": {},
     "output_type": "execute_result"
    }
   ],
   "source": [
    "def fact(n):\n",
    "    if n==1:             #如果n等于1，就直接返回值1\n",
    "        return 1\n",
    "    return n * fact(n - 1)  #如果n大于1，就是n和fact(n-1)的乘积\n",
    "fact(4)             # 输出： 24"
   ]
  },
  {
   "cell_type": "markdown",
   "metadata": {},
   "source": [
    "作为练习，读者可以尝试将上面的求方程f(x)=y根的函数写成递归函数的形式。"
   ]
  },
  {
   "cell_type": "markdown",
   "metadata": {},
   "source": [
    "### 类\n",
    "\n",
    "类(class)是对一个抽象概念的描述，它描述了属于同一个概念的所有对象的共同属性，这些属性有：数据属性和方法属性。数据属性描述了该类对象的状态，而方法属性描述了该类对象具有哪些功能。一个类就是一个数据类型，它刻画了这种类型的所有可能值的的共同属性，如int类型刻画了所有整数的特性。\n",
    "\n",
    "前面的str、list等都是类。一般的，可以通过类名创建一个类对象，类对象是一个具体的对象。如："
   ]
  },
  {
   "cell_type": "code",
   "execution_count": 202,
   "metadata": {},
   "outputs": [
    {
     "name": "stdout",
     "output_type": "stream",
     "text": [
      "7\n",
      "[0, 1, 2, 3, 4, 5]\n",
      "[0, 1, 20, 3, 4, 5]\n"
     ]
    }
   ],
   "source": [
    "s = str(\"http://hwdong.net\")\n",
    "location = s.find(\"hwdong\")     #通过str的find()方法查询是否存在一个子串，返回子串的位置\n",
    "print(location)\n",
    "alist = list(range(6))\n",
    "blist = alist.copy()\n",
    "blist[2] = 20\n",
    "print(alist)\n",
    "print(blist)"
   ]
  },
  {
   "cell_type": "markdown",
   "metadata": {},
   "source": [
    "可以看到，可以通过一个类对象用“成员访问运算符.”访问类的方法，对这个对象执行某种操作（访问某些信息或修改该对象或创建新对象）。例如，s.find()在s中查询是否存在一个子串，返回子串的位置。而alist.copy()复制创建了一个和alist一样内容的list对象并使blist引用这个新创建的list对象。"
   ]
  },
  {
   "cell_type": "markdown",
   "metadata": {},
   "source": [
    "Python中用关键字class定义一个类。为了刻画所有学生的共同属性，可以定义一个Student类。"
   ]
  },
  {
   "cell_type": "code",
   "execution_count": 204,
   "metadata": {},
   "outputs": [],
   "source": [
    "class Student:\n",
    "    def __init__(self, name, score):\n",
    "        self.name = name\n",
    "        self.score = score\n",
    "        \n",
    "    def print(self):\n",
    "        print(self.name,\",\",self.score)"
   ]
  },
  {
   "cell_type": "markdown",
   "metadata": {},
   "source": [
    "类中的函数称为方法，通过一个类对象调用一个类的方法，就可以对这个类对象进行各种操作，因为一个类的对象可以右很多个，类的方法一般只对一个具体对象进行操作，因此，一般的方法的第一个参数都是self，表示调用这个类方法的是哪个对象。\n",
    "\n",
    "下面代码定义了Student类的2个对象s1和s2：并通过它们调用了类Student的print()方法。Student的print()方法又调用了内置的函数print()输出self指向对象的姓名和分数。"
   ]
  },
  {
   "cell_type": "code",
   "execution_count": 207,
   "metadata": {},
   "outputs": [
    {
     "name": "stdout",
     "output_type": "stream",
     "text": [
      "LiPing , 67\n",
      "WangQiang , 83\n"
     ]
    }
   ],
   "source": [
    "s1 = Student(\"LiPing\",67)\n",
    "s2 = Student(\"WangQiang\",83)\n",
    "s1.print()\n",
    "s2.print()"
   ]
  },
  {
   "cell_type": "markdown",
   "metadata": {},
   "source": [
    "类的中__init__()是一个特殊方法，称为**构造函数**，在定义类的对象时，会自动调用这个构造函数，对self指向的类对象进行初始化。如定义了2个类对象属性name和score并用构造函数的参数对它们进行初始化。"
   ]
  },
  {
   "cell_type": "markdown",
   "metadata": {},
   "source": [
    "每个对象都有自己单独的实例属性，改变一个对象的实例属性不会影响其他对象的实例属性。除了实例属性外，还可以给一个类定义类属性，类属性是类的所有对象都共享的属性。类属性是定义在类的方法外面的属性。\n",
    "\n",
    "如修改的Student类添加了一个类属性count，表示从这个类创建了多少具体的类对象，其初始值为0，每当创建一个类对象时，就增加其计数。"
   ]
  },
  {
   "cell_type": "code",
   "execution_count": 213,
   "metadata": {},
   "outputs": [],
   "source": [
    "class Student:\n",
    "    count=0\n",
    "    def __init__(self, name, score):\n",
    "        self.name = name\n",
    "        self.score = score\n",
    "        Student.count +=1\n",
    "        \n",
    "    def print(self):\n",
    "        print(self.name,\",\",self.score)"
   ]
  },
  {
   "cell_type": "markdown",
   "metadata": {},
   "source": [
    "一般的都是通过“类名.类属性”来查询或修改类属性，如“Student.count”，也可通过“实例名.类属性”（包括self.类属性）来查询实例属性。如下面的s1.count。"
   ]
  },
  {
   "cell_type": "code",
   "execution_count": 214,
   "metadata": {},
   "outputs": [
    {
     "name": "stdout",
     "output_type": "stream",
     "text": [
      "0\n",
      "1\n",
      "2\n"
     ]
    }
   ],
   "source": [
    "print(Student.count)\n",
    "s1 = Student(\"LiPing\",67)\n",
    "print(s1.count)\n",
    "s2 = Student(\"WangQiang\",83)\n",
    "print(Student.count)"
   ]
  },
  {
   "cell_type": "markdown",
   "metadata": {},
   "source": [
    "#### 关注：\n",
    "\n",
    "- 教学博客：[hwdong.net](hwdong.net) 永久域名: [https://hwdong-net.github.io ](https://hwdong-net.github.io )\n",
    "\n",
    "- youtube频道： [hwdong](https://www.youtube.com/channel/UCIJLimsCMSfc3wHmevgj8Ng)\n",
    "\n",
    "-  twitter： hwdong\n",
    "\n",
    "- B站和微博：[hw-dong](https://space.bilibili.com/281453312) \n",
    "\n",
    "- qq群：[101132160](https://hwdong.net/img2/qq.jpg)\n",
    "\n",
    "    <div align=\"center\"> <img src=\"https://hwdong.net/img2/qq.jpg\" width=\"200\"/> </div><br>\n",
    "\n",
    "- 微信公众号：hwdong编程\n",
    "\n",
    "   <div align=\"center\"> <img src=\"https://hwdong.net/img2/hwdong_pro.jpg\" width=\"200\"/> </div><br>\n",
    "   \n",
    "- C语言版数据结构（源代码）：[https://github.com/hwdong-net/ds/tree/master/C](https://github.com/hwdong-net/ds/tree/master//C)\n",
    "\n",
    "- C++版数据结构（源代码）：[https://github.com/hwdong-net/ds/tree/master/cplusplus](https://github.com/hwdong-net/ds/tree/master/cplusplus)\n",
    "\n",
    "- C++17从入门到精通（源代码）：[https://github.com/hwdong-net/cplusplus17](https://github.com/hwdong-net/cplusplus17)\n"
   ]
  },
  {
   "cell_type": "code",
   "execution_count": null,
   "metadata": {},
   "outputs": [],
   "source": []
  }
 ],
 "metadata": {
  "kernelspec": {
   "display_name": "Python 3",
   "language": "python",
   "name": "python3"
  },
  "language_info": {
   "codemirror_mode": {
    "name": "ipython",
    "version": 3
   },
   "file_extension": ".py",
   "mimetype": "text/x-python",
   "name": "python",
   "nbconvert_exporter": "python",
   "pygments_lexer": "ipython3",
   "version": "3.7.3"
  }
 },
 "nbformat": 4,
 "nbformat_minor": 2
}
